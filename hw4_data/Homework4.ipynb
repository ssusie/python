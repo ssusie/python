{
 "cells": [
  {
   "cell_type": "code",
   "execution_count": 1,
   "metadata": {
    "collapsed": true
   },
   "outputs": [],
   "source": [
    "%matplotlib inline\n",
    "import numpy as np\n",
    "import matplotlib.pyplot as plt\n",
    "import pdb\n",
    "from random import randint"
   ]
  },
  {
   "cell_type": "code",
   "execution_count": 2,
   "metadata": {
    "collapsed": false
   },
   "outputs": [],
   "source": [
    "X = np.genfromtxt('digit.txt')\n",
    "Y = np.genfromtxt('labels.txt', dtype=int)"
   ]
  },
  {
   "cell_type": "code",
   "execution_count": 56,
   "metadata": {
    "collapsed": false
   },
   "outputs": [],
   "source": [
    "def Cluster(X,center,N,numClass):\n",
    "    y=np.zeros(N)\n",
    "    dist=np.zeros(numClass)\n",
    "    # for each point compute distance form the center of each cluster\n",
    "    # then assign the it to the closest cluster\n",
    "    for i in range(N):\n",
    "        for j in range(numClass):\n",
    "            dist[j]=np.linalg.norm(X[i,:]-center[j,:], ord=2)   \n",
    "        label_xi=np.argmin(dist)\n",
    "        y[i]=label_xi\n",
    "    return y\n",
    "        "
   ]
  },
  {
   "cell_type": "code",
   "execution_count": 36,
   "metadata": {
    "collapsed": false
   },
   "outputs": [],
   "source": [
    "def computeNewCenters(y, X, k):\n",
    "    n,dim=X.shape\n",
    "    center=np.zeros([k,dim])\n",
    "    for label in range(k):\n",
    "        mask=(y==label)\n",
    "        center[label,:]=np.mean(X[mask,:],0)\n",
    "        \n",
    "    return center"
   ]
  },
  {
   "cell_type": "code",
   "execution_count": 83,
   "metadata": {
    "collapsed": true
   },
   "outputs": [],
   "source": [
    "def my_kmeans(X, numClass, Ytrue, rand):   \n",
    "    N,d=X.shape\n",
    "    mu=np.zeros([numClass,d])\n",
    "    #generate first guess for centers\n",
    "    if rand==True:\n",
    "        for i in range(numClass):\n",
    "            k=randint(0,N-1)\n",
    "            mu[i,:]=X[k,:]\n",
    "    else:\n",
    "        mu=X[0:numClass,:]\n",
    "    \n",
    "    Ylabels=Cluster(X,mu,N,numClass)\n",
    "    \n",
    "    kmax=20\n",
    "    # compute labels while not converged\n",
    "    for k in range(kmax):\n",
    "        mu=computeNewCenters(Ylabels,X,numClass)\n",
    "        YlabelsNew=Cluster(X,mu,N,numClass)\n",
    "        if np.linalg.norm(YlabelsNew-Ylabels, ord=2)==0:\n",
    "            break\n",
    "        else:\n",
    "            Ylabels=YlabelsNew\n",
    "            \n",
    "    # miskate for each class\n",
    "    digits=[1,3,5,7]\n",
    "    mistake=np.zeros(numClass)\n",
    "    SS=np.zeros(numClass)\n",
    "    DigitLabel=np.zeros(numClass) #digit of each cluster\n",
    "    \n",
    "    for i in range(numClass):\n",
    "        mask=(Ylabels==i)\n",
    "        SS[i]=np.sum((np.linalg.norm(X[mask,:]-mu[i,:], ord=2, axis=1))**2)\n",
    "        vote=np.zeros(len(digits))\n",
    "        for m in range(len(digits)):\n",
    "            vote[m]=np.sum(Ytrue[mask]==digits[m])   \n",
    "        DigitLabel[i]=digits[np.argmax(vote)]\n",
    "        mistake[i]=(np.sum(vote)-vote[np.argmax(vote)])\n",
    "    \n",
    "    mistakeRate=np.sum(mistake)*1.0/N            \n",
    "    print('sum of SS(k)', np.sum(SS))    \n",
    "    print('number of iteration before convergence', k+1)\n",
    "    print('rate', mistakeRate)\n",
    "    return (np.sum(SS), mistakeRate)"
   ]
  },
  {
   "cell_type": "markdown",
   "metadata": {},
   "source": [
    " "
   ]
  },
  {
   "cell_type": "markdown",
   "metadata": {},
   "source": [
    "##3.5.1"
   ]
  },
  {
   "cell_type": "code",
   "execution_count": 84,
   "metadata": {
    "collapsed": false
   },
   "outputs": [
    {
     "name": "stdout",
     "output_type": "stream",
     "text": [
      "('sum of SS(k)', 536280503.03469509)\n",
      "('number of iteration before convergence', 20)\n",
      "('rate', 0.52200000000000002)\n",
      "('sum of SS(k)', 461110943.96230918)\n",
      "('number of iteration before convergence', 10)\n",
      "('rate', 0.24299999999999999)\n",
      "('sum of SS(k)', 431349182.91616648)\n",
      "('number of iteration before convergence', 7)\n",
      "('rate', 0.17999999999999999)\n"
     ]
    }
   ],
   "source": [
    "numClusters=[2,4,6]\n",
    "rand=False #random center of clasters\n",
    "for nc in numClusters:\n",
    "    my_kmeans(X,nc,Y, rand)"
   ]
  },
  {
   "cell_type": "markdown",
   "metadata": {
    "collapsed": false
   },
   "source": [
    "##3.5.2"
   ]
  },
  {
   "cell_type": "markdown",
   "metadata": {
    "collapsed": true
   },
   "source": [
    "The number of iterations for $k=6$ clusters is $\\bf 7$"
   ]
  },
  {
   "cell_type": "markdown",
   "metadata": {
    "collapsed": true
   },
   "source": [
    "##3.5.3"
   ]
  },
  {
   "cell_type": "code",
   "execution_count": 92,
   "metadata": {
    "collapsed": false
   },
   "outputs": [
    {
     "name": "stdout",
     "output_type": "stream",
     "text": [
      "('sum of SS(k)', 596101560.352)\n",
      "('number of iteration before convergence', 1)\n",
      "('rate', 0.70899999999999996)\n",
      "('sum of SS(k)', 541147813.32685637)\n",
      "('number of iteration before convergence', 6)\n",
      "('rate', 0.45500000000000002)\n",
      "('sum of SS(k)', 483242737.50042325)\n",
      "('number of iteration before convergence', 16)\n",
      "('rate', 0.245)\n",
      "('sum of SS(k)', 464879709.96953726)\n",
      "('number of iteration before convergence', 11)\n",
      "('rate', 0.246)\n",
      "('sum of SS(k)', 454775970.96905541)\n",
      "('number of iteration before convergence', 8)\n",
      "('rate', 0.216)\n",
      "('sum of SS(k)', 432201243.74991322)\n",
      "('number of iteration before convergence', 20)\n",
      "('rate', 0.161)\n",
      "('sum of SS(k)', 409095363.99664617)\n",
      "('number of iteration before convergence', 13)\n",
      "('rate', 0.14499999999999999)\n",
      "('sum of SS(k)', 403170656.9650197)\n",
      "('number of iteration before convergence', 20)\n",
      "('rate', 0.22)\n",
      "('sum of SS(k)', 392332174.04604208)\n",
      "('number of iteration before convergence', 18)\n",
      "('rate', 0.109)\n",
      "('sum of SS(k)', 384951575.94477701)\n",
      "('number of iteration before convergence', 11)\n",
      "('rate', 0.14899999999999999)\n"
     ]
    },
    {
     "data": {
      "text/plain": [
       "[<matplotlib.lines.Line2D at 0x107bf7910>]"
      ]
     },
     "execution_count": 92,
     "metadata": {},
     "output_type": "execute_result"
    },
    {
     "data": {
      "image/png": "[encoded data removed]",
      "text/plain": [
       "<matplotlib.figure.Figure at 0x107af5750>"
      ]
     },
     "metadata": {},
     "output_type": "display_data"
    }
   ],
   "source": [
    "numClusters=range(1,11)\n",
    "rand=True #random center of clasters\n",
    "SSS=np.zeros(10)\n",
    "misRate=np.zeros(10)\n",
    "for nc in numClusters:\n",
    "    [sss, mr]=my_kmeans(X,nc,Y, rand)\n",
    "    SSS[nc-1]=sss\n",
    "    misRate[nc-1]=mr\n",
    "\n",
    "plt.plot(SSS,'ro') \n"
   ]
  },
  {
   "cell_type": "markdown",
   "metadata": {},
   "source": [
    "##3.5.4"
   ]
  },
  {
   "cell_type": "code",
   "execution_count": 93,
   "metadata": {
    "collapsed": false
   },
   "outputs": [
    {
     "data": {
      "text/plain": [
       "[<matplotlib.lines.Line2D at 0x107d50390>]"
      ]
     },
     "execution_count": 93,
     "metadata": {},
     "output_type": "execute_result"
    },
    {
     "data": {
      "image/png": "[encoded data removed]",
      "text/plain": [
       "<matplotlib.figure.Figure at 0x1074ff850>"
      ]
     },
     "metadata": {},
     "output_type": "display_data"
    }
   ],
   "source": [
    "plt.plot(misRate,'ko') "
   ]
  },
  {
   "cell_type": "code",
   "execution_count": null,
   "metadata": {
    "collapsed": true
   },
   "outputs": [],
   "source": []
  }
 ],
 "metadata": {
  "kernelspec": {
   "display_name": "Python 2",
   "language": "python",
   "name": "python2"
  },
  "language_info": {
   "codemirror_mode": {
    "name": "ipython",
    "version": 2
   },
   "file_extension": ".py",
   "mimetype": "text/x-python",
   "name": "python",
   "nbconvert_exporter": "python",
   "pygments_lexer": "ipython2",
   "version": "2.7.10"
  }
 },
 "nbformat": 4,
 "nbformat_minor": 0
}
