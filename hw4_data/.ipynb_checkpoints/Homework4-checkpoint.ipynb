{
 "cells": [
  {
   "cell_type": "code",
   "execution_count": 1,
   "metadata": {
    "collapsed": true
   },
   "outputs": [],
   "source": [
    "import numpy as np\n",
    "import pdb\n",
    "from random import randint"
   ]
  },
  {
   "cell_type": "code",
   "execution_count": 2,
   "metadata": {
    "collapsed": false
   },
   "outputs": [],
   "source": [
    "X = np.genfromtxt('digit.txt')\n",
    "Y = np.genfromtxt('labels.txt', dtype=int)\n"
   ]
  },
  {
   "cell_type": "code",
   "execution_count": 3,
   "metadata": {
    "collapsed": false
   },
   "outputs": [
    {
     "name": "stdout",
     "output_type": "stream",
     "text": [
      "((1000, 157), (1000,))\n"
     ]
    }
   ],
   "source": [
    "print(X.shape, Y.shape)"
   ]
  },
  {
   "cell_type": "code",
   "execution_count": 5,
   "metadata": {
    "collapsed": false
   },
   "outputs": [],
   "source": [
    "# print mu[3,:]\n",
    "\n",
    "# print X[k,:]"
   ]
  },
  {
   "cell_type": "code",
   "execution_count": 30,
   "metadata": {
    "collapsed": false
   },
   "outputs": [],
   "source": [
    "def findLabels(X,center,N):\n",
    "    y=np.zeros(N)\n",
    "    dist=np.zeros(numDigits)\n",
    "    for i in range(N):\n",
    "        dist[0]=np.linalg.norm(X[i,:]-center[0], ord=2)\n",
    "        dist[1]=np.linalg.norm(X[i,:]-center[1], ord=2)\n",
    "        dist[2]=np.linalg.norm(X[i,:]-center[2], ord=2)\n",
    "        dist[3]=np.linalg.norm(X[i,:]-center[3], ord=2)\n",
    "    #         pdb.set_trace()\n",
    "        label_xi=np.argmin(dist)\n",
    "        y[i]=label_xi\n",
    "        return y\n",
    "        \n",
    "# print y"
   ]
  },
  {
   "cell_type": "code",
   "execution_count": 31,
   "metadata": {
    "collapsed": false
   },
   "outputs": [],
   "source": [
    "def computeNewCenters(y, X, k):\n",
    "    n,dim=X.shape\n",
    "    center=np.zeros([k,dim])\n",
    "    for label in range(k):\n",
    "        mask=(y==label)\n",
    "        center[label,:]=np.mean(X[mask,:],0)\n",
    "        \n",
    "    return center"
   ]
  },
  {
   "cell_type": "code",
   "execution_count": 49,
   "metadata": {
    "collapsed": true
   },
   "outputs": [],
   "source": [
    "def my_kmeans(X, numClass, Ytrue):\n",
    "    \n",
    "    #generate first guess for centers randomly\n",
    "    N,d=X.shape\n",
    "    mu=np.zeros([numClass,d])\n",
    "    for i in range(numClass):\n",
    "        k=randint(0,N-1)\n",
    "        mu[i,:]=X[k,:]\n",
    "    \n",
    "    \n",
    "    Ylabels=findLabels(X,mu,N)\n",
    "    #while not converged, compute labels with given centers\n",
    "    #compute new centers\n",
    "    kmax=20-1\n",
    "    for k in range(kmax):\n",
    "        mu=computeNewCenters(Ylabels,X,numClass)\n",
    "        YlabelsNew=findLabels(X,mu,N)\n",
    "        print np.linalg.norm(YlabelsNew-Ylabels, ord=2)\n",
    "#         pdb.set_trace()\n",
    "        if np.linalg.norm(YlabelsNew-Ylabels, ord=2)==0:\n",
    "            s=1\n",
    "        else:\n",
    "            YlabelsNew=Ylabels\n",
    "            \n",
    "    #calculate the error\n",
    "    mask=Ylabels==Ytrue\n",
    "    pdb.set_trace()\n",
    "    error=len(mask)\n",
    "    relError=error/N\n",
    "    return (error, relError)"
   ]
  },
  {
   "cell_type": "code",
   "execution_count": 50,
   "metadata": {
    "collapsed": false
   },
   "outputs": [
    {
     "name": "stdout",
     "output_type": "stream",
     "text": [
      "2.0\n",
      "2.0\n",
      "2.0\n",
      "2.0\n",
      "2.0\n",
      "2.0\n",
      "2.0\n",
      "2.0\n",
      "2.0\n",
      "2.0\n",
      "2.0\n",
      "2.0\n",
      "2.0\n",
      "2.0\n",
      "2.0\n",
      "2.0\n",
      "2.0\n",
      "2.0\n",
      "2.0\n"
     ]
    }
   ],
   "source": [
    "numDigits=4\n",
    "e,re=my_kmeans(X,numDigits,Y)"
   ]
  },
  {
   "cell_type": "code",
   "execution_count": 51,
   "metadata": {
    "collapsed": false
   },
   "outputs": [
    {
     "name": "stdout",
     "output_type": "stream",
     "text": [
      "(1000, 1)\n"
     ]
    }
   ],
   "source": [
    "print(e,re)"
   ]
  },
  {
   "cell_type": "code",
   "execution_count": null,
   "metadata": {
    "collapsed": true
   },
   "outputs": [],
   "source": []
  }
 ],
 "metadata": {
  "kernelspec": {
   "display_name": "Python 2",
   "language": "python",
   "name": "python2"
  },
  "language_info": {
   "codemirror_mode": {
    "name": "ipython",
    "version": 2
   },
   "file_extension": ".py",
   "mimetype": "text/x-python",
   "name": "python",
   "nbconvert_exporter": "python",
   "pygments_lexer": "ipython2",
   "version": "2.7.10"
  }
 },
 "nbformat": 4,
 "nbformat_minor": 0
}
