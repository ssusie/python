{
 "cells": [
  {
   "cell_type": "markdown",
   "metadata": {},
   "source": [
    "# Problem 1"
   ]
  },
  {
   "cell_type": "code",
   "execution_count": 1,
   "metadata": {
    "collapsed": true
   },
   "outputs": [],
   "source": [
    "%matplotlib inline\n",
    "import matplotlib.pyplot as plt\n",
    "import numpy as np\n",
    "from math import exp, log\n",
    "from __future__ import division\n",
    "import scipy.sparse as sp\n",
    "import pdb\n",
    "import matplotlib.patches as mpatches"
   ]
  },
  {
   "cell_type": "code",
   "execution_count": 2,
   "metadata": {
    "collapsed": true
   },
   "outputs": [],
   "source": [
    "def myCooDescent(w0,w,y,X,lyambda):\n",
    "    # LASSO with coordinate descent\n",
    "    # Subset selection\n",
    "    # From HW1\n",
    "    \n",
    "    N,d=X.shape\n",
    "    wOld=w #keep for computations\n",
    "    wNew=wOld \n",
    "    kmax=50 #max number of iterations\n",
    "    eps=10**(-3) # for convergence\n",
    "    w0old=w0\n",
    "    \n",
    "    for kk in range(kmax):\n",
    "        errorOld=np.square(np.linalg.norm(y-X*wOld-w0old, ord=2))+lyambda*np.linalg.norm(wOld, ord=1)\n",
    "        \n",
    "        yhat=X*wOld+w0old\n",
    "        w0new=np.sum(y-yhat+w0old)/N\n",
    "        yhat=yhat-w0old+w0new\n",
    "    \n",
    "        for jj in range(d):\n",
    "            start, end = X.indptr[jj], X.indptr[jj+1]\n",
    "            aj=2*np.sum(np.square(X.data[start:end]))\n",
    "            \n",
    "            cj=2*np.sum(X.data[start:end]*(y[X.indices[start:end]]-\\\n",
    "                                               yhat[X.indices[start:end]]+X.data[start:end]*wOld[jj]))\n",
    "            if cj+lyambda<0:\n",
    "                wNew[jj]=(cj+lyambda)/aj\n",
    "            elif cj-lyambda>0:\n",
    "                wNew[jj]=(cj-lyambda)/aj\n",
    "            else:\n",
    "                wNew[jj]=0\n",
    "                \n",
    "        if np.linalg.norm(wNew-wOld,ord=np.inf)<eps:\n",
    "            return (w0,wNew)\n",
    "        else:\n",
    "            wOld=wNew\n",
    "            w0old=w0new\n",
    "            \n",
    "        errorNew=np.square(np.linalg.norm(y-X*wNew-w0, ord=2))+lyambda*np.linalg.norm(wNew, ord=1)\n",
    "        if errorOld-errorNew<10**(-3):\n",
    "            print('error grows', jj)\n",
    "                \n",
    "    if kk==kmax-1:\n",
    "        print('reached max iter')\n",
    "        return (w0, wNew)\n",
    "            "
   ]
  },
  {
   "cell_type": "markdown",
   "metadata": {},
   "source": [
    "### 1.1"
   ]
  },
  {
   "cell_type": "code",
   "execution_count": 3,
   "metadata": {
    "collapsed": false
   },
   "outputs": [
    {
     "name": "stdout",
     "output_type": "stream",
     "text": [
      "(100, 5.3591901546047006e-07)\n",
      "(200, 2.8040677511195262e-07)\n",
      "(300, 1.9736402768328622e-07)\n",
      "(400, 1.3891361271779503e-07)\n",
      "(500, 1.0343291808766324e-07)\n",
      "(600, 8.5841807654099392e-08)\n",
      "(700, 7.5664565255591126e-08)\n",
      "(800, 6.0788922553276334e-08)\n",
      "(900, 5.0710610189618613e-08)\n"
     ]
    },
    {
     "data": {
      "text/plain": [
       "<matplotlib.text.Text at 0x1066eea90>"
      ]
     },
     "execution_count": 3,
     "metadata": {},
     "output_type": "execute_result"
    },
    {
     "data": {
      "image/png": "[encoded data removed]",
      "text/plain": [
       "<matplotlib.figure.Figure at 0x10667de50>"
      ]
     },
     "metadata": {},
     "output_type": "display_data"
    }
   ],
   "source": [
    "# Generate data\n",
    "N,d=1000,50;\n",
    "w=np.ones(d)\n",
    "Xbig=np.random.randn(N,d)\n",
    "noise=0.001*np.random.randn(N)\n",
    "Y=Xbig.dot(w)+noise\n",
    "Renj=range(N)\n",
    "valsN=Renj[100::100] # choose different n to fit the data\n",
    "error=np.zeros(len(valsN))\n",
    "k=0\n",
    "for n in valsN:\n",
    "    X=Xbig[0:n,:];\n",
    "    w_ls=np.linalg.lstsq(X, Y[0:n])[0]\n",
    "    error[k]=np.linalg.norm(w_ls-w, ord=2)**2\n",
    "    k+=1\n",
    "    print(n,error[k-1] )\n",
    "plt.plot(valsN,error, 'bo')\n",
    "plt.xlabel('Values of N')\n",
    "plt.ylabel('Error')\n",
    "plt.title('Error from Least Squares')"
   ]
  },
  {
   "cell_type": "markdown",
   "metadata": {},
   "source": [
    "The more data you have the better fit you get for the parameters. It seems to decrese exponentially."
   ]
  },
  {
   "cell_type": "markdown",
   "metadata": {},
   "source": [
    " "
   ]
  },
  {
   "cell_type": "markdown",
   "metadata": {},
   "source": [
    " "
   ]
  },
  {
   "cell_type": "markdown",
   "metadata": {},
   "source": [
    "### 1.2"
   ]
  },
  {
   "cell_type": "code",
   "execution_count": 4,
   "metadata": {
    "collapsed": false
   },
   "outputs": [
    {
     "data": {
      "text/plain": [
       "<matplotlib.text.Text at 0x106ada590>"
      ]
     },
     "execution_count": 4,
     "metadata": {},
     "output_type": "execute_result"
    },
    {
     "data": {
      "image/png": "[encoded data removed]",
      "text/plain": [
       "<matplotlib.figure.Figure at 0x106692710>"
      ]
     },
     "metadata": {},
     "output_type": "display_data"
    }
   ],
   "source": [
    "N,d=1000,50;\n",
    "w=np.zeros(d)\n",
    "w[0]=5\n",
    "Xbig=np.random.randn(N,d)\n",
    "noise=0.001*np.random.randn(N)\n",
    "Y=Xbig.dot(w)+noise\n",
    "R=range(N)\n",
    "valsN=R[100::50]#, 2000, 5000, 6000, 7000, 9000, 10000]\n",
    "k,w0=0,0\n",
    "w_guess=np.random.randn(d)\n",
    "errorLS=np.zeros(len(valsN))\n",
    "errorCD=np.zeros(len(valsN))\n",
    "Xsparse=sp.csc_matrix(Xbig)\n",
    "lyambda=0.9\n",
    "for n in valsN:\n",
    "    X=Xsparse[0:n,:];\n",
    "    XLS=Xbig[0:n,:];\n",
    "    w_ls=np.linalg.lstsq(XLS, Y[0:n])[0]\n",
    "    errorLS[k]=np.linalg.norm(w_ls-w, ord=2)**2\n",
    "    \n",
    "    for jj in range(5):\n",
    "            w0,w_guess=myCooDescent(w0,w_guess,Y[0:n],X,lyambda)\n",
    "            lyambda=0.9*lyambda\n",
    "                        \n",
    "    errorCD[k]=np.linalg.norm(w_guess-w, ord=2)**2\n",
    "    k+=1\n",
    "\n",
    "\n",
    "plt.plot(valsN,errorLS, 'bo')\n",
    "plt.plot(valsN,errorCD, 'r*')\n",
    "plt.xlabel('Values of N')\n",
    "plt.ylabel('Error')\n",
    "plt.title('Error from Least Squares and Lasso')"
   ]
  },
  {
   "cell_type": "code",
   "execution_count": 5,
   "metadata": {
    "collapsed": false
   },
   "outputs": [
    {
     "data": {
      "text/plain": [
       "<matplotlib.text.Text at 0x10687b890>"
      ]
     },
     "execution_count": 5,
     "metadata": {},
     "output_type": "execute_result"
    },
    {
     "data": {
      "image/png": "[encoded data removed]",
      "text/plain": [
       "<matplotlib.figure.Figure at 0x10667df90>"
      ]
     },
     "metadata": {},
     "output_type": "display_data"
    }
   ],
   "source": [
    "plt.plot(valsN[10:],errorLS[10:], 'bo')\n",
    "plt.plot(valsN[10:],errorCD[10:], 'r*')\n",
    "plt.xlabel('Values of N')\n",
    "plt.ylabel('Error')\n",
    "plt.title('Error from Least Squares and Lasso')"
   ]
  },
  {
   "cell_type": "markdown",
   "metadata": {},
   "source": [
    "The red stars represent the error $||w_{guess}-w||$ from Lasso algorithm implemented using coordinate decent and blue circles are the error from least squares for different Values of N."
   ]
  },
  {
   "cell_type": "markdown",
   "metadata": {},
   "source": [
    "Clearly, the Least Squares is the best possible fit when our data represents a line with Gaussian noise. Therefore, it makes sense that lasso gave worse Result then Least squares."
   ]
  },
  {
   "cell_type": "markdown",
   "metadata": {},
   "source": [
    " "
   ]
  },
  {
   "cell_type": "markdown",
   "metadata": {},
   "source": [
    " "
   ]
  },
  {
   "cell_type": "markdown",
   "metadata": {},
   "source": [
    "#Problem 2\n"
   ]
  },
  {
   "cell_type": "code",
   "execution_count": 6,
   "metadata": {
    "collapsed": false
   },
   "outputs": [
    {
     "name": "stdout",
     "output_type": "stream",
     "text": [
      "Susie\n"
     ]
    }
   ],
   "source": [
    "#load data\n",
    "%run start.py\n",
    "training_data = genfromtxt('train.txt', delimiter=',')\n",
    "oversampled=genfromtxt('oversampled_train.txt', delimiter=',')\n",
    "Y_train = training_data[:,0]\n",
    "X_train = training_data[:, 1:]\n",
    "Y_trainOversample=oversampled[:,0]\n",
    "X_trainOversample=oversampled[:,1:]\n",
    "Y_test = genfromtxt('test_label.txt', delimiter=',')\n",
    "X_test = genfromtxt('test.txt', delimiter=',')"
   ]
  },
  {
   "cell_type": "code",
   "execution_count": 7,
   "metadata": {
    "collapsed": true
   },
   "outputs": [],
   "source": [
    "def LogLoss(w0,w,X,Y,N):\n",
    "#     if N>1:\n",
    "#         sumLog=np.sum(-Y*((X.dot(w)+w0).T)+log(1+exp(w0+X.dot(w))))\n",
    "#     else:\n",
    "#         sumLog=(-Y*((X.dot(w)+w0).T)+log(1+exp(w0+X.dot(w))))\n",
    "    sumLog=(-Y*((X.dot(w)+w0).T)+log(1+exp(w0+X.dot(w))))\n",
    "    logloss=0.5*lam*np.linalg.norm(w, ord=2)**2+sumLog/N\n",
    "#     pdb.set_trace()\n",
    "    return logloss\n",
    "    "
   ]
  },
  {
   "cell_type": "code",
   "execution_count": 8,
   "metadata": {
    "collapsed": true
   },
   "outputs": [],
   "source": [
    "def myBatch_GD(w0, w, X, y, eta, lyambda,N):\n",
    "    #algorithm to do linear regression with batch gradient decent\n",
    "    # minimizes log loss function:\n",
    "    #     l(x,w0,w)=0.5*lyambda*norm(w,2)**2-1/N*sum(ln(P(y_j|X_j,w0,w)))\n",
    "    #INPUT: w0 - scalar, initial guess for offset term\n",
    "    # w - d dimentional vector, initial guess for w\n",
    "    # X- Nxd matrix\n",
    "    # y- N dimentional lables\n",
    "    # eta - how much to move in gradient direction\n",
    "    # lyambda -  regularizer\n",
    "    #OUTPUT: w0 and w\n",
    "\n",
    "    numerator=exp(X.dot(w)+w0)\n",
    "    denominator=1+numerator\n",
    "    dl0=np.sum(numerator/denominator-y) # derivative wrt w0\n",
    "    dl=X.T.dot(-y+numerator/denominator) #derivative wrt w vector \n",
    "    \n",
    "    w0=w0-eta*dl0/N; #update w0\n",
    "    w=w-eta*(lyambda*w+dl/N)\n",
    "    return (w0, w)"
   ]
  },
  {
   "cell_type": "code",
   "execution_count": 9,
   "metadata": {
    "collapsed": true
   },
   "outputs": [],
   "source": [
    "def Batch_GD(w0, w, X, Y, eta, lam, nloop):\n",
    "    # performs Batch Gradient Descent  algorithms \n",
    "    # updating w, w0 nloop times\n",
    "    # also returns logloss function\n",
    "    \n",
    "    logLoss=np.zeros(nloop)\n",
    "    N=Y.shape\n",
    "    for k in range(nloop):\n",
    "        w0,w=myBatch_GD(w0, w, X, Y, eta, lam,N)\n",
    "#         ll=LogLoss(w0,w,X,Y,N)\n",
    "#         logLoss[k]=ll\n",
    "#         logloss[k]=LogLoss(w0,w,X,Y,N)\n",
    "        sumLog=np.sum(-Y*((X.dot(w)+w0).T)+log(1+exp(w0+X.dot(w))))\n",
    "        logLoss[k]=0.5*lam*np.linalg.norm(w, ord=2)**2+sumLog/N\n",
    "    return (w0,w,logLoss)"
   ]
  },
  {
   "cell_type": "code",
   "execution_count": 10,
   "metadata": {
    "collapsed": true
   },
   "outputs": [],
   "source": [
    "def prediction(w0, w, X):\n",
    "    # given w0,w and X \n",
    "    # calculates prediction for Y, which is 0 if \n",
    "    # exp(w0+X*w)/(1+exp(w0+X.w))<0.5 and 1 otherwise\n",
    "    n,d=X.shape\n",
    "    top=exp(w0+X.dot(w))\n",
    "    bottom=1+top\n",
    "    prob=top/bottom\n",
    "    predict=np.zeros(n)\n",
    "    predict[prob>=0.5]=1\n",
    "    return predict"
   ]
  },
  {
   "cell_type": "code",
   "execution_count": 11,
   "metadata": {
    "collapsed": true
   },
   "outputs": [],
   "source": [
    "def SumSquaredError(w0, w,X, Y):\n",
    "    # calculates the sum of squared error of prediction and real data\n",
    "    pred=prediction(w0,w,X)\n",
    "    SumSquaredError=np.linalg.norm(Y-pred, ord=2)**2\n",
    "    return SumSquaredError"
   ]
  },
  {
   "cell_type": "code",
   "execution_count": 12,
   "metadata": {
    "collapsed": true
   },
   "outputs": [],
   "source": [
    "def convergeBDG(w0,w,X,Y,eta,lam):\n",
    "    # implements Batch Gradient Descent Algorithm\n",
    "    # with convergence criterion |logloss(k)-logloss(k-1)|<eps\n",
    "    N=Y.shape\n",
    "    logLoss=np.zeros(Y.shape)\n",
    "#     ll=LogLoss(w0,w,X,Y,N)\n",
    "#     logLoss[0]=ll\n",
    "    sumLog=np.sum(-Y*((X.dot(w)+w0).T)+log(1+exp(w0+X.dot(w))))\n",
    "    logLoss[0]=0.5*lam*np.linalg.norm(w, ord=2)**2+sumLog/N\n",
    "    s,k,eps=1, 1, 5*10**(-4)\n",
    "    while s>=eps:\n",
    "        w0,w=myBatch_GD(w0, w, X, Y, eta, lam,N)\n",
    "        sumLog=np.sum(-Y*((X.dot(w)+w0).T)+log(1+exp(w0+X.dot(w))))\n",
    "        logLoss[k]=0.5*lam*np.linalg.norm(w, ord=2)**2+sumLog/N\n",
    "#         logLoss[k]=LogLoss(w0,w,X,Y,N)\n",
    "#         ll=LogLoss(w0,w,X,Y,N)\n",
    "#         logLoss[k]=ll\n",
    "        s=abs(logLoss[k]-logLoss[k-1])\n",
    "        k+=1\n",
    "    print k-1\n",
    "    return(w0,w,logLoss[0:k-1])"
   ]
  },
  {
   "cell_type": "code",
   "execution_count": 13,
   "metadata": {
    "collapsed": true
   },
   "outputs": [],
   "source": [
    "def StochGD(w0,w,X,Y,eta,lam):\n",
    "    # Implements Stochastic Gradient Descent\n",
    "    # using only one data point to update the gradient and therefore w\n",
    "    \n",
    "    N,d=X.shape\n",
    "    logLoss=np.zeros(N)\n",
    "    for k in range(N):\n",
    "        w0,w=myBatch_GD(w0, w, X[k,:], Y[k], eta, lam, N)\n",
    "        sumLog=np.sum(-Y*((X.dot(w)+w0).T)+log(1+exp(w0+X.dot(w))))\n",
    "        logLoss[k]=0.5*lam*np.linalg.norm(w, ord=2)**2+sumLog/N\n",
    "#     ll=LogLoss(w0,w,X,Y,N)\n",
    "#     pdb.set_trace()\n",
    "#     logLoss[k]=ll    \n",
    "\n",
    "    return (w0,w, logLoss)"
   ]
  },
  {
   "cell_type": "code",
   "execution_count": 14,
   "metadata": {
    "collapsed": true
   },
   "outputs": [],
   "source": [
    "def PrecisionRecall(pred, Y):\n",
    "    my0Pred=sum(pred==0)\n",
    "    my1Pred=sum(pred==1)\n",
    "\n",
    "    true0=sum(Y==0)\n",
    "    true1=sum(Y==1)\n",
    "\n",
    "    true0Pred=0\n",
    "    true1Pred=0\n",
    "    for k in range(len(Y)):\n",
    "        if pred[k]==Y[k]:\n",
    "            if pred[k]==0:\n",
    "                true0Pred+=1\n",
    "            else:\n",
    "                true1Pred+=1\n",
    "\n",
    "    #precision\n",
    "    if my0Pred==0:\n",
    "        precision0=0\n",
    "    else:\n",
    "        precision0=true0Pred/my0Pred\n",
    "\n",
    "    if my1Pred==0:\n",
    "        precision1=0\n",
    "    else:\n",
    "        precision1=true1Pred/my1Pred\n",
    "\n",
    "    recall0=true0Pred/true0\n",
    "    recall1=true1Pred/true1\n",
    "\n",
    "\n",
    "    print('precision for 0 ', precision0, 'precision for 1 ', precision1)\n",
    "    print('recall for 0 ', recall0, 'recall for 1 ', recall1)\n"
   ]
  },
  {
   "cell_type": "markdown",
   "metadata": {},
   "source": [
    " "
   ]
  },
  {
   "cell_type": "markdown",
   "metadata": {},
   "source": [
    "## 2.4"
   ]
  },
  {
   "cell_type": "markdown",
   "metadata": {},
   "source": [
    "###2.4.1\n",
    "#####The update for Batch Gradient Descent is:\n",
    "\n",
    "$w^{t+1}=w^t-\\eta*\\bigtriangledown l$, where \n",
    "\n",
    "$\\bigtriangledown l= \\lambda w- \\frac{1}{N}X \\cdot [-y+\\frac{e^{Xw+w0}}{1+e^{Xw+w0}}]$\n",
    "\n",
    "$X$  is a matrix, $y$ is a vector"
   ]
  },
  {
   "cell_type": "markdown",
   "metadata": {},
   "source": [
    "###2.4.2"
   ]
  },
  {
   "cell_type": "code",
   "execution_count": 15,
   "metadata": {
    "collapsed": false
   },
   "outputs": [
    {
     "data": {
      "text/plain": [
       "<matplotlib.text.Text at 0x1073877d0>"
      ]
     },
     "execution_count": 15,
     "metadata": {},
     "output_type": "execute_result"
    },
    {
     "data": {
      "image/png": "[encoded data removed]",
      "text/plain": [
       "<matplotlib.figure.Figure at 0x10738cb90>"
      ]
     },
     "metadata": {},
     "output_type": "display_data"
    }
   ],
   "source": [
    "# initial conditins\n",
    "N,d=X_train.shape\n",
    "w0=0\n",
    "w_guess=np.zeros(d)\n",
    "eta, lam=0.1, 0.3\n",
    "nloop=1000\n",
    "# run Batch Gradient Descent\n",
    "w0,w_guess,LL=Batch_GD(w0, w_guess, X_train, Y_train, eta, lam, nloop)\n",
    "plt.plot(LL,'bo', label=r'log loss');\n",
    "plt.xlabel('Iteration number')\n",
    "plt.ylabel('log loss ')\n",
    "plt.title('Log loss function after each update step')"
   ]
  },
  {
   "cell_type": "code",
   "execution_count": 16,
   "metadata": {
    "collapsed": false
   },
   "outputs": [
    {
     "name": "stdout",
     "output_type": "stream",
     "text": [
      "('Sum squared error for BDG with 1000 iterations', 54.0)\n"
     ]
    }
   ],
   "source": [
    "sse=SumSquaredError(w0, w_guess,X_test, Y_test)\n",
    "print('Sum squared error for BDG with 1000 iterations', sse)"
   ]
  },
  {
   "cell_type": "markdown",
   "metadata": {},
   "source": [
    "##2.4.3"
   ]
  },
  {
   "cell_type": "code",
   "execution_count": 17,
   "metadata": {
    "collapsed": false
   },
   "outputs": [
    {
     "name": "stdout",
     "output_type": "stream",
     "text": [
      "13\n"
     ]
    },
    {
     "data": {
      "image/png": "[encoded data removed]",
      "text/plain": [
       "<matplotlib.figure.Figure at 0x1039ad4d0>"
      ]
     },
     "metadata": {},
     "output_type": "display_data"
    }
   ],
   "source": [
    "#implement BDG with stoping criteria\n",
    "N,d=X_train.shape\n",
    "w0=0\n",
    "w_guess=np.zeros(d)\n",
    "eta, lam=0.1, 0.3\n",
    "w0,w_guess,LogLoss=convergeBDG(w0,w_guess,X_train,Y_train,eta,lam)\n",
    "plt.plot(LogLoss,'ro', label=r'log loss');\n"
   ]
  },
  {
   "cell_type": "code",
   "execution_count": 18,
   "metadata": {
    "collapsed": false
   },
   "outputs": [
    {
     "name": "stdout",
     "output_type": "stream",
     "text": [
      "('Sum squared error for BDG with 1000 iterations', 54.0)\n"
     ]
    }
   ],
   "source": [
    "sse=SumSquaredError(w0, w_guess,X_test, Y_test)\n",
    "print('Sum squared error for BDG with 1000 iterations', sse)"
   ]
  },
  {
   "cell_type": "markdown",
   "metadata": {},
   "source": [
    "Converged in 13 iterations with SSE=54"
   ]
  },
  {
   "cell_type": "markdown",
   "metadata": {},
   "source": [
    "  "
   ]
  },
  {
   "cell_type": "markdown",
   "metadata": {},
   "source": [
    "##2.5"
   ]
  },
  {
   "cell_type": "markdown",
   "metadata": {},
   "source": [
    "###2.5.1\n",
    "\n",
    "##### The update for Stochastic Gradient Descent is:\n",
    "\n",
    "$w^{t+1}=w^t-\\eta*\\bigtriangledown l$, where \n",
    "\n",
    "$\\bigtriangledown l= \\lambda w- X_{j_0} \\cdot \n",
    "[-y_{j_0}+\\frac{e^{X_{j_0}w+w0}}{1+e^{X_{j_0}w+w0}}]$\n",
    "\n",
    "$X_{j_0}$  is a vector, $y_{j_0}$ is a number, i.e. $(X_{j_0},y_{j_0})$ is one data point"
   ]
  },
  {
   "cell_type": "markdown",
   "metadata": {},
   "source": [
    "###2.5.2 (a)\n"
   ]
  },
  {
   "cell_type": "markdown",
   "metadata": {},
   "source": [
    "### $\\lambda=0$"
   ]
  },
  {
   "cell_type": "code",
   "execution_count": 19,
   "metadata": {
    "collapsed": false
   },
   "outputs": [
    {
     "name": "stdout",
     "output_type": "stream",
     "text": [
      "('when lambda=0 the L2 norm of weight vector is', 0.15683064182772641)\n"
     ]
    },
    {
     "data": {
      "text/plain": [
       "<matplotlib.text.Text at 0x10c70ac90>"
      ]
     },
     "execution_count": 19,
     "metadata": {},
     "output_type": "execute_result"
    },
    {
     "data": {
      "image/png": "[encoded data removed]",
      "text/plain": [
       "<matplotlib.figure.Figure at 0x106bfcc90>"
      ]
     },
     "metadata": {},
     "output_type": "display_data"
    }
   ],
   "source": [
    "#for lambda =0\n",
    "N,d=X_train.shape\n",
    "w0=0\n",
    "w_guess=np.zeros(d)\n",
    "eta, lam=0.1, 0\n",
    "w0, w_guess, LL = StochGD(w0,w_guess,X_train,Y_train,eta,lam)\n",
    "nrm=np.linalg.norm(w_guess, ord=2)\n",
    "print('when lambda=0 the L2 norm of weight vector is', nrm)\n",
    "\n",
    "plt.plot(LL,'ro', label=r'log loss')\n",
    "plt.title('Log loss function')"
   ]
  },
  {
   "cell_type": "markdown",
   "metadata": {},
   "source": [
    "### $\\lambda=0.3$"
   ]
  },
  {
   "cell_type": "code",
   "execution_count": 21,
   "metadata": {
    "collapsed": false
   },
   "outputs": [
    {
     "name": "stdout",
     "output_type": "stream",
     "text": [
      "('when lambda=0 the L2 norm of weight vector is', 0.00065960196884327384)\n"
     ]
    },
    {
     "data": {
      "text/plain": [
       "<matplotlib.text.Text at 0x10c8d8fd0>"
      ]
     },
     "execution_count": 21,
     "metadata": {},
     "output_type": "execute_result"
    },
    {
     "data": {
      "image/png": "[encoded data removed]",
      "text/plain": [
       "<matplotlib.figure.Figure at 0x10b2bf750>"
      ]
     },
     "metadata": {},
     "output_type": "display_data"
    }
   ],
   "source": [
    "#for lambda =0.3\n",
    "N,d=X_train.shape\n",
    "w0=0\n",
    "w_guess=np.zeros(d)\n",
    "eta, lam=0.1, 0.3\n",
    "w0, w_guess, LL =StochGD(w0,w_guess,X_train,Y_train,eta,lam)\n",
    "nrm=np.linalg.norm(w_guess, ord=2)\n",
    "print('when lambda=0 the L2 norm of weight vector is',nrm)\n",
    "plt.plot(LL,'ro', label=r'log loss')\n",
    "plt.title('Log loss function')"
   ]
  },
  {
   "cell_type": "markdown",
   "metadata": {},
   "source": [
    "###2.5.2 (b)"
   ]
  },
  {
   "cell_type": "code",
   "execution_count": 22,
   "metadata": {
    "collapsed": false
   },
   "outputs": [
    {
     "name": "stdout",
     "output_type": "stream",
     "text": [
      "('Sum squared error for SDG', 54.0)\n"
     ]
    }
   ],
   "source": [
    "sse=SumSquaredError(w0, w_guess,X_test, Y_test)\n",
    "print('Sum squared error for SDG', sse)"
   ]
  },
  {
   "cell_type": "markdown",
   "metadata": {},
   "source": [
    "###2.5.3"
   ]
  },
  {
   "cell_type": "code",
   "execution_count": 23,
   "metadata": {
    "collapsed": false
   },
   "outputs": [
    {
     "data": {
      "text/plain": [
       "<matplotlib.text.Text at 0x103905c10>"
      ]
     },
     "execution_count": 23,
     "metadata": {},
     "output_type": "execute_result"
    },
    {
     "data": {
      "image/png": "[encoded data removed]",
      "text/plain": [
       "<matplotlib.figure.Figure at 0x10c69c210>"
      ]
     },
     "metadata": {},
     "output_type": "display_data"
    }
   ],
   "source": [
    "N,d=X_train.shape\n",
    "w0=0\n",
    "w_guess=np.zeros(d)\n",
    "eta, lam=0.1, 0.3\n",
    "for k in range(5):\n",
    "    w0, w_guess, LL =StochGD(w0,w_guess,X_train,Y_train,eta,lam)\n",
    "    \n",
    "plt.plot(LL,'ro', label=r'log loss')\n",
    "plt.title('Log loss function')"
   ]
  },
  {
   "cell_type": "code",
   "execution_count": 24,
   "metadata": {
    "collapsed": false
   },
   "outputs": [
    {
     "data": {
      "text/plain": [
       "<matplotlib.text.Text at 0x1073e4890>"
      ]
     },
     "execution_count": 24,
     "metadata": {},
     "output_type": "execute_result"
    },
    {
     "data": {
      "image/png": "[encoded data removed]",
      "text/plain": [
       "<matplotlib.figure.Figure at 0x1029f1510>"
      ]
     },
     "metadata": {},
     "output_type": "display_data"
    }
   ],
   "source": [
    "# initial conditins\n",
    "N,d=X_train.shape\n",
    "w0=0\n",
    "w_guess=np.zeros(d)\n",
    "eta, lam=0.1, 0.3\n",
    "nloop=1000\n",
    "# run Batch Gradient Descent 5 times\n",
    "for jj in range(5):\n",
    "    w0,w_guess,LL=Batch_GD(w0, w_guess, X_train, Y_train, eta, lam, nloop)\n",
    "plt.plot(LL,'bo', label=r'log loss');\n",
    "plt.xlabel('Iteration number')\n",
    "plt.ylabel('log loss ')\n",
    "plt.title('Log loss function')"
   ]
  },
  {
   "cell_type": "markdown",
   "metadata": {},
   "source": [
    "Batch Gradient Descent converges faster"
   ]
  },
  {
   "cell_type": "markdown",
   "metadata": {},
   "source": [
    "  "
   ]
  },
  {
   "cell_type": "markdown",
   "metadata": {},
   "source": [
    "###2.6.1"
   ]
  },
  {
   "cell_type": "code",
   "execution_count": 25,
   "metadata": {
    "collapsed": false
   },
   "outputs": [
    {
     "name": "stdout",
     "output_type": "stream",
     "text": [
      "('precision for 0 ', 0.94599999999999995, 'precision for 1 ', 0)\n",
      "('recall for 0 ', 1.0, 'recall for 1 ', 0.0)\n"
     ]
    }
   ],
   "source": [
    "# initial conditins\n",
    "N,d=X_train.shape\n",
    "w0=0\n",
    "w_guess=np.zeros(d)\n",
    "eta, lam=0.1, 0.3\n",
    "nloop=5000\n",
    "# run Batch Gradient Descent\n",
    "w0,w_guess,LL=Batch_GD(w0, w_guess, X_train, Y_train, eta, lam, nloop)\n",
    "predict=prediction(w0,w_guess,X_test)\n",
    "PrecisionRecall(predict, Y_test)"
   ]
  },
  {
   "cell_type": "markdown",
   "metadata": {},
   "source": [
    "###2.6.2"
   ]
  },
  {
   "cell_type": "code",
   "execution_count": 26,
   "metadata": {
    "collapsed": false
   },
   "outputs": [
    {
     "name": "stdout",
     "output_type": "stream",
     "text": [
      "('precision for 0 ', 0.93799472295514508, 'precision for 1 ', 0.028925619834710745)\n",
      "('recall for 0 ', 0.7515856236786469, 'recall for 1 ', 0.12962962962962962)\n"
     ]
    }
   ],
   "source": [
    "N,d=X_trainOversample.shape\n",
    "w0=0\n",
    "w_guess=np.zeros(d)\n",
    "eta, lam=0.01, 0.3\n",
    "nloop=5000\n",
    "w0,w_guess,LL=Batch_GD(w0, w_guess, X_trainOversample, Y_trainOversample, eta, lam, nloop)\n",
    "predict=prediction(w0,w_guess,X_test)\n",
    "PrecisionRecall(predict, Y_test)"
   ]
  },
  {
   "cell_type": "code",
   "execution_count": null,
   "metadata": {
    "collapsed": true
   },
   "outputs": [],
   "source": []
  }
 ],
 "metadata": {
  "kernelspec": {
   "display_name": "Python 2",
   "language": "python",
   "name": "python2"
  },
  "language_info": {
   "codemirror_mode": {
    "name": "ipython",
    "version": 2
   },
   "file_extension": ".py",
   "mimetype": "text/x-python",
   "name": "python",
   "nbconvert_exporter": "python",
   "pygments_lexer": "ipython2",
   "version": "2.7.10"
  }
 },
 "nbformat": 4,
 "nbformat_minor": 0
}
