{
 "cells": [
  {
   "cell_type": "code",
   "execution_count": 33,
   "metadata": {
    "collapsed": true
   },
   "outputs": [],
   "source": [
    "%matplotlib inline\n",
    "import matplotlib.pyplot as plt\n",
    "import numpy as np\n",
    "import scipy.sparse as sp\n",
    "import pdb"
   ]
  },
  {
   "cell_type": "markdown",
   "metadata": {},
   "source": [
    "Function *myCooDescent* solves Lasso problem with  given inputs: <br />\n",
    "w0: initial condition for offset term <br />\n",
    "w: initial guess for coefficients<br />\n",
    "X,y: data <br />\n",
    "lyambda: Lasso parametr<br />"
   ]
  },
  {
   "cell_type": "code",
   "execution_count": 38,
   "metadata": {
    "collapsed": true
   },
   "outputs": [],
   "source": [
    "def myCooDescent(w0,w,y,X,lyambda):\n",
    "    N,d=X.shape\n",
    "#     print d,N\n",
    "    wOld=w #keep for computations\n",
    "    wNew=wOld \n",
    "    kmax=50 #max number of iterations\n",
    "    eps=10**(-3) # for convergence\n",
    "    w0old=w0\n",
    "    \n",
    "    for kk in range(kmax):\n",
    "#         pdb.set_trace()\n",
    "        errorOld=np.square(np.linalg.norm(y-X*wOld-w0old, ord=2))+lyambda*np.linalg.norm(wOld, ord=1)\n",
    "        \n",
    "        yhat=X*wOld+w0old\n",
    "        w0new=np.sum(y-yhat+w0old)/N\n",
    "        yhat=yhat-w0old+w0new\n",
    "    \n",
    "        for jj in range(d):\n",
    "#             pdb.set_trace()\n",
    "            start, end = X.indptr[jj], X.indptr[jj+1]\n",
    "            aj=2*np.sum(np.square(X.data[start:end]))\n",
    "            \n",
    "            cj=2*np.sum(X.data[start:end]*(y[X.indices[start:end]]-\\\n",
    "                                               yhat[X.indices[start:end]]+X.data[start:end]*wOld[jj]))\n",
    "            if cj+lyambda<0:\n",
    "                wNew[jj]=(cj+lyambda)/aj\n",
    "            elif cj-lyambda>0:\n",
    "                wNew[jj]=(cj-lyambda)/aj\n",
    "            else:\n",
    "                wNew[jj]=0\n",
    "                \n",
    "        if np.linalg.norm(wNew-wOld,ord=np.inf)<eps:\n",
    "#             print('converged')\n",
    "            return (w0,wNew)\n",
    "        else:\n",
    "            wOld=wNew\n",
    "            w0old=w0new\n",
    "            \n",
    "        errorNew=np.square(np.linalg.norm(y-X*wNew-w0, ord=2))+lyambda*np.linalg.norm(wNew, ord=1)\n",
    "        if errorOld-errorNew<10**(-3):\n",
    "            print('error grows', jj)\n",
    "                \n",
    "    if kk==kmax-1:\n",
    "        print('reached max iter')\n",
    "        return (w0, wNew)\n",
    "            "
   ]
  },
  {
   "cell_type": "markdown",
   "metadata": {},
   "source": [
    "###Test on synthetic data:"
   ]
  },
  {
   "cell_type": "code",
   "execution_count": 39,
   "metadata": {
    "collapsed": false
   },
   "outputs": [],
   "source": [
    "N, d, k, sigma=50,75,5,1\n",
    "X=np.random.randn(N,d)\n",
    "r=np.random.randint(2, size=k)\n",
    "r[r==0]=-1\n",
    "r=r*10;\n",
    "zer=np.zeros(d-k)\n",
    "wStar=np.concatenate((r,zer))\n",
    "noise =np.sqrt(sigma) * np.random.randn(N)\n",
    "Xsparse=sp.csc_matrix(X)\n",
    "XT=X.T\n",
    "y=Xsparse*wStar+noise"
   ]
  },
  {
   "cell_type": "markdown",
   "metadata": {},
   "source": [
    "Compute initial conditions"
   ]
  },
  {
   "cell_type": "code",
   "execution_count": 46,
   "metadata": {
    "collapsed": false
   },
   "outputs": [],
   "source": [
    "w0=np.random.randn(1) # random initial guess\n",
    "wGuess=np.random.randn(d) # random initial guess\n",
    "##Calculate Lambda_max\n",
    "lyambda=2*np.linalg.norm(np.dot(XT,y-np.mean(y)), ord=np.inf)\n"
   ]
  },
  {
   "cell_type": "code",
   "execution_count": 47,
   "metadata": {
    "collapsed": false
   },
   "outputs": [],
   "source": [
    "nloop=5\n",
    "# precision=np.zeros(nloop)\n",
    "# recall=np.zeros(nloop)\n",
    "for i in range(30):\n",
    "    w0,wGuess=myCooDescent(w0,wGuess,y,Xsparse,lyambda)\n",
    "    lyambda=0.9*lyambda\n",
    "#     print(w0, wGuess[0:10])"
   ]
  },
  {
   "cell_type": "code",
   "execution_count": 48,
   "metadata": {
    "collapsed": false
   },
   "outputs": [
    {
     "data": {
      "text/plain": [
       "array([ 9.59488434, -9.37767555,  9.57189766, -9.37755019,  9.56669092,\n",
       "        0.        ,  0.        ,  0.        ,  0.        ,  0.        ,\n",
       "        0.        ,  0.        ,  0.        ,  0.        ,  0.        ,\n",
       "        0.        ,  0.        ,  0.        ,  0.        ,  0.        ,\n",
       "        0.        ,  0.10602876,  0.        ,  0.        ,  0.        ,\n",
       "        0.        ,  0.        ,  0.        ,  0.        ,  0.        ,\n",
       "        0.        ,  0.        ,  0.        ,  0.        ,  0.        ,\n",
       "        0.        ,  0.        ,  0.        ,  0.        ,  0.        ,\n",
       "        0.        ,  0.        ,  0.        ,  0.        ,  0.        ,\n",
       "        0.        ,  0.        ,  0.        ,  0.        ,  0.        ,\n",
       "        0.        ,  0.        ,  0.        ,  0.        ,  0.        ,\n",
       "        0.        ,  0.        ,  0.        ,  0.        ,  0.        ,\n",
       "        0.        ,  0.        ,  0.        ,  0.        ,  0.        ,\n",
       "        0.        ,  0.        ,  0.        ,  0.        ,  0.        ,\n",
       "        0.        ,  0.        ,  0.        ,  0.        ,  0.        ])"
      ]
     },
     "execution_count": 48,
     "metadata": {},
     "output_type": "execute_result"
    }
   ],
   "source": [
    "wGuess\n"
   ]
  },
  {
   "cell_type": "code",
   "execution_count": 10,
   "metadata": {
    "collapsed": false
   },
   "outputs": [
    {
     "data": {
      "text/plain": [
       "array([  8.20888890e+24,  -9.43199922e+23,   1.11429795e+25,\n",
       "        -6.97412193e+24,   1.13066913e+25,   3.40052893e+24,\n",
       "         1.23909478e+25,   1.88313468e+24,  -5.17736739e+24,\n",
       "         1.85927772e+23,  -4.49456060e+24,   6.77347273e+24,\n",
       "        -1.25677429e+24,  -8.96755066e+24,  -7.85347958e+24])"
      ]
     },
     "execution_count": 10,
     "metadata": {},
     "output_type": "execute_result"
    }
   ],
   "source": [
    "wGuess[0:15]"
   ]
  },
  {
   "cell_type": "code",
   "execution_count": null,
   "metadata": {
    "collapsed": true
   },
   "outputs": [],
   "source": []
  },
  {
   "cell_type": "code",
   "execution_count": null,
   "metadata": {
    "collapsed": true
   },
   "outputs": [],
   "source": []
  }
 ],
 "metadata": {
  "kernelspec": {
   "display_name": "Python 2",
   "language": "python",
   "name": "python2"
  },
  "language_info": {
   "codemirror_mode": {
    "name": "ipython",
    "version": 2
   },
   "file_extension": ".py",
   "mimetype": "text/x-python",
   "name": "python",
   "nbconvert_exporter": "python",
   "pygments_lexer": "ipython2",
   "version": "2.7.10"
  }
 },
 "nbformat": 4,
 "nbformat_minor": 0
}
