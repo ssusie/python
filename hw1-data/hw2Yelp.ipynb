{
 "cells": [
  {
   "cell_type": "code",
   "execution_count": 2,
   "metadata": {
    "collapsed": true
   },
   "outputs": [],
   "source": [
    "import numpy as np\n",
    "import scipy.io as io\n",
    "import scipy.sparse as sparse\n",
    "\n",
    "# Load a text file of integers:\n",
    "y = np.loadtxt(\"upvote_labels.txt\", dtype=np.int)\n",
    "\n",
    "# Load a text file of strings:\n",
    "featureNames = open(\"upvote_features.txt\").read().splitlines()\n",
    "\n",
    "# Load a csv of floats:\n",
    "A = np.genfromtxt(\"upvote_data.csv\", delimiter=\",\")\n",
    "\n",
    "# Load a matrix market matrix, convert it to csc format:\n",
    "B = io.mmread(\"star_data.mtx\").tocsc()\n",
    "\n"
   ]
  },
  {
   "cell_type": "code",
   "execution_count": 12,
   "metadata": {
    "collapsed": false
   },
   "outputs": [
    {
     "name": "stdout",
     "output_type": "stream",
     "text": [
      "(6000, 1000)\n",
      "[[  1.83545800e-05   9.89344400e-03   0.00000000e+00   1.52754600e-03]\n",
      " [  3.67091600e-05   9.34219200e-03   0.00000000e+00   1.36206200e-03]\n",
      " [  0.00000000e+00   6.50506700e-03   0.00000000e+00   6.60393700e-04]\n",
      " [  1.07374300e-03   2.01565700e-02   0.00000000e+00   6.34063400e-03]]\n",
      "(45000, 2500)\n"
     ]
    }
   ],
   "source": [
    "# A[0:5,0:5]\n",
    "y.shape\n",
    "y[1:10]\n",
    "print A.shape\n",
    "print A[0:4,0:4]\n",
    "print B.shape"
   ]
  },
  {
   "cell_type": "code",
   "execution_count": 13,
   "metadata": {
    "collapsed": true
   },
   "outputs": [],
   "source": [
    "def myCooDescent(w0,w,y,X,lyambda):\n",
    "    N,d=X.shape\n",
    "#     print d,N\n",
    "    wOld=w #keep for computations\n",
    "    wNew=wOld \n",
    "    kmax=50 #max number of iterations\n",
    "    eps=10**(-3) # for convergence\n",
    "    w0old=w0\n",
    "    \n",
    "    for kk in range(kmax):\n",
    "#         pdb.set_trace()\n",
    "        errorOld=np.square(np.linalg.norm(y-X*wOld-w0old, ord=2))+lyambda*np.linalg.norm(wOld, ord=1)\n",
    "        \n",
    "        yhat=X*wOld+w0old\n",
    "        w0new=np.sum(y-yhat+w0old)/N\n",
    "        yhat=yhat-w0old+w0new\n",
    "    \n",
    "        for jj in range(d):\n",
    "#             pdb.set_trace()\n",
    "            start, end = X.indptr[jj], X.indptr[jj+1]\n",
    "            aj=2*np.sum(np.square(X.data[start:end]))\n",
    "            \n",
    "            cj=2*np.sum(X.data[start:end]*(y[X.indices[start:end]]-\\\n",
    "                                               yhat[X.indices[start:end]]+X.data[start:end]*wOld[jj]))\n",
    "            if cj+lyambda<0:\n",
    "                wNew[jj]=(cj+lyambda)/aj\n",
    "            elif cj-lyambda>0:\n",
    "                wNew[jj]=(cj-lyambda)/aj\n",
    "            else:\n",
    "                wNew[jj]=0\n",
    "                \n",
    "        if np.linalg.norm(wNew-wOld,ord=np.inf)<eps:\n",
    "#             print('converged')\n",
    "            return (w0,wNew)\n",
    "        else:\n",
    "            wOld=wNew\n",
    "            w0old=w0new\n",
    "            \n",
    "        errorNew=np.square(np.linalg.norm(y-X*wNew-w0, ord=2))+lyambda*np.linalg.norm(wNew, ord=1)\n",
    "        if errorOld-errorNew<10**(-3):\n",
    "            print('error grows', jj)\n",
    "                \n",
    "    if kk==kmax-1:\n",
    "        print('reached max iter')\n",
    "        return (w0, wNew)\n",
    "            "
   ]
  },
  {
   "cell_type": "code",
   "execution_count": null,
   "metadata": {
    "collapsed": true
   },
   "outputs": [],
   "source": [
    "lyambda=2*np.linalg.norm(np.dot(XT,y-np.mean(y)), ord=np.inf)\n",
    "nloop=5\n",
    "# precision=np.zeros(nloop)\n",
    "# recall=np.zeros(nloop)\n",
    "for i in range(30):\n",
    "    w0,wGuess=myCooDescent(w0,wGuess,y,Xsparse,lyambda)\n",
    "    lyambda=0.9*lyambda\n",
    "#     print(w0, wGuess[0:10])"
   ]
  }
 ],
 "metadata": {
  "kernelspec": {
   "display_name": "Python 2",
   "language": "python",
   "name": "python2"
  },
  "language_info": {
   "codemirror_mode": {
    "name": "ipython",
    "version": 2
   },
   "file_extension": ".py",
   "mimetype": "text/x-python",
   "name": "python",
   "nbconvert_exporter": "python",
   "pygments_lexer": "ipython2",
   "version": "2.7.10"
  }
 },
 "nbformat": 4,
 "nbformat_minor": 0
}
