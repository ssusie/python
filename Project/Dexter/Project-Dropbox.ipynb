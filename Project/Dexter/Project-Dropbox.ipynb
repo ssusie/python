{
 "cells": [
  {
   "cell_type": "code",
   "execution_count": 1,
   "metadata": {
    "collapsed": false
   },
   "outputs": [],
   "source": [
    "%matplotlib inline\n",
    "import matplotlib.pyplot as plt\n",
    "import numpy as np\n",
    "from sklearn.datasets import load_svmlight_file\n",
    "import pdb\n",
    "from sklearn import svm, linear_model\n",
    "from sklearn.ensemble import RandomForestClassifier"
   ]
  },
  {
   "cell_type": "code",
   "execution_count": 2,
   "metadata": {
    "collapsed": false
   },
   "outputs": [],
   "source": [
    "#loading sparse data stored as compressed row matrix\n",
    "from itertools import izip_longest\n",
    "import csv\n",
    "#load training data and save it in concat.txt\n",
    "with open('dexter_train.labels', 'rb') as csv1,open('dexter_train.data', 'rb') as csv2,open('concat.txt', 'w') as out:\n",
    "    spam1 = csv.reader(csv1)\n",
    "    spam2 = csv.reader(csv2)\n",
    "    last_column=list(izip_longest(*spam2))[-1]\n",
    "    for i,j in  izip_longest(spam1,last_column):\n",
    "        out.write(','.join([t.strip(';') for t in i])+' '+j+'\\n')\n",
    "#load validating data and save it in valid.txt         \n",
    "with open('dexter_valid.labels', 'rb') as csv1,open('dexter_valid.data', 'rb') as csv2,open('valid.txt', 'w') as out:\n",
    "    spam1 = csv.reader(csv1)\n",
    "    spam2 = csv.reader(csv2)\n",
    "    last_column=list(izip_longest(*spam2))[-1]\n",
    "    for i,j in  izip_longest(spam1,last_column):\n",
    "        out.write(','.join([t.strip(';') for t in i])+' '+j+'\\n')"
   ]
  },
  {
   "cell_type": "code",
   "execution_count": 3,
   "metadata": {
    "collapsed": false
   },
   "outputs": [],
   "source": [
    "#load data to Python\n",
    "trainLabl=np.genfromtxt('dexter_train.labels')\n",
    "TrainData = load_svmlight_file(\"concat.txt\")\n",
    "valid=load_svmlight_file('valid.txt')"
   ]
  },
  {
   "cell_type": "code",
   "execution_count": 4,
   "metadata": {
    "collapsed": true
   },
   "outputs": [],
   "source": [
    "Xtrain=TrainData[0] #training data\n",
    "Ytrain=TrainData[1] #training abels\n",
    "Xvalid=valid[0] #testing data\n",
    "Yvalid=valid[1] #testing labels\n",
    "pMask=(Yvalid==1) #indices of positive class on validation set\n",
    "nMask=(Yvalid==-1)#indices of negative class on validation set\n"
   ]
  },
  {
   "cell_type": "markdown",
   "metadata": {},
   "source": [
    "As a measure of correctnes we will use Balanced Error Rate:\n",
    "\n",
    "$$BEF=\\displaystyle \\frac{1}{2} \\left(  \n",
    "\\frac{\\text{# positive instances predicted wrong} }{  \\text{ # positive instances} } \n",
    "+ \\frac{\\text{ # negative instances predicted wrong}}{\\text{# negetive instances}}  \\right)$$\n"
   ]
  },
  {
   "cell_type": "code",
   "execution_count": 5,
   "metadata": {
    "collapsed": true
   },
   "outputs": [],
   "source": [
    "def BalancedErrorRate(posMask, negMask, Predict):\n",
    "    Psvm=Predict[posMask]+Yvalid[posMask] #if zero, then worng prediction on positive class\n",
    "    Nsvm=Predict[negMask]+Yvalid[negMask] #if zero, then worng prediction on negative class\n",
    "    errorPsvm=np.sum(Psvm==0) #total number of wrong predicted positive instances\n",
    "    errorNsvm=np.sum(Nsvm==0) #total number of wrong predicted negative instances\n",
    "    numPos=np.sum(posMask) #total number of true positive instances\n",
    "    numNeg=np.sum(negMask) #total number of true negative instances\n",
    "#     print('number of wrong predicted positive instances',errorPsvm, 'number of wrong predicted negative instances',errorNsvm)\n",
    "#     print('number of true negative instances',numPos, 'number of true negative instances', numNeg)\n",
    "    bef= 1.0/2*(errorPsvm*1.0/numPos+errorNsvm*1.0/numNeg)*100\n",
    "#     print('BEF', bef)\n",
    "    return bef"
   ]
  },
  {
   "cell_type": "code",
   "execution_count": 6,
   "metadata": {
    "collapsed": false
   },
   "outputs": [
    {
     "name": "stdout",
     "output_type": "stream",
     "text": [
      "50.0\n",
      "('BEF', 50.0)\n"
     ]
    }
   ],
   "source": [
    "# try Support Vector Machine on the given data\n",
    "clf = svm.SVC()\n",
    "clf.fit(Xtrain, Ytrain) #train classifier\n",
    "PredictSVM=clf.predict(Xvalid) # test on the validation set\n",
    "# error= (# wrong prediction)/(total #)\n",
    "print np.sum(PredictSVM!=Yvalid)/(1.*len(Yvalid))*100\n",
    "BEF = BalancedErrorRate(pMask, nMask, PredictSVM)\n",
    "print('BEF', BEF)"
   ]
  },
  {
   "cell_type": "markdown",
   "metadata": {},
   "source": [
    "###SVM  gives 50% error"
   ]
  },
  {
   "cell_type": "code",
   "execution_count": 8,
   "metadata": {
    "collapsed": false
   },
   "outputs": [
    {
     "name": "stdout",
     "output_type": "stream",
     "text": [
      "(0, 'BEF', 10.0)\n",
      "(1, 'BEF', 12.333333333333334)\n",
      "(2, 'BEF', 10.333333333333334)\n",
      "(3, 'BEF', 8.0)\n",
      "(4, 'BEF', 14.000000000000002)\n",
      "(5, 'BEF', 15.000000000000002)\n",
      "(6, 'BEF', 11.333333333333334)\n",
      "(7, 'BEF', 11.0)\n",
      "(8, 'BEF', 9.0)\n",
      "(9, 'BEF', 8.0)\n",
      "(10, 'BEF', 9.3333333333333339)\n",
      "(11, 'BEF', 10.666666666666668)\n",
      "(12, 'BEF', 8.0)\n",
      "(13, 'BEF', 9.6666666666666661)\n",
      "(14, 'BEF', 10.0)\n",
      "(15, 'BEF', 10.666666666666666)\n",
      "(16, 'BEF', 9.6666666666666679)\n",
      "(17, 'BEF', 12.0)\n",
      "(18, 'BEF', 9.6666666666666661)\n",
      "(19, 'BEF', 10.0)\n",
      "('average error', 10.433333333333332)\n"
     ]
    }
   ],
   "source": [
    "# random forests\n",
    "s=0\n",
    "N=20\n",
    "for j in range(N):\n",
    "#     clf = RandomForestClassifier() #select any subset of features \n",
    "    clf = RandomForestClassifier(max_features=7375) #max number of selected features can be max_features\n",
    "    clf.fit(Xtrain.todense(), Ytrain)  #train Random Forest\n",
    "    PredictRF=clf.predict(Xvalid) #test RF\n",
    "    BEF = BalancedErrorRate(pMask, nMask, PredictRF)\n",
    "    s += BEF\n",
    "#     aveErr=np.sum(PredictRF!=Yvalid)/(1.*len(Yvalid))*100 #for calcualting average errir\n",
    "#     s+=aveErr\n",
    "#     print('wrong prediction',j, aveErr)  \n",
    "    print( j,'BEF', BEF)\n",
    "    PredictRF=None\n",
    "s=s/N\n",
    "print('average error',s)"
   ]
  },
  {
   "cell_type": "markdown",
   "metadata": {},
   "source": [
    "### Random Forests, any number of features, give 17% errror\n",
    "### Random Forests, maximum 7375 number of features , give 10.97% errror"
   ]
  },
  {
   "cell_type": "code",
   "execution_count": 9,
   "metadata": {
    "collapsed": false
   },
   "outputs": [
    {
     "name": "stdout",
     "output_type": "stream",
     "text": [
      "(0, 'BEF', 9.6666666666666661)\n",
      "(1, 'BEF', 10.0)\n",
      "(2, 'BEF', 9.6666666666666661)\n",
      "(3, 'BEF', 10.0)\n",
      "(4, 'BEF', 10.0)\n",
      "(5, 'BEF', 9.6666666666666661)\n",
      "(6, 'BEF', 9.3333333333333321)\n",
      "(7, 'BEF', 9.3333333333333321)\n",
      "(8, 'BEF', 9.6666666666666661)\n",
      "(9, 'BEF', 10.0)\n"
     ]
    }
   ],
   "source": [
    "# Lasso\n",
    "alpha=1\n",
    "for i in range(10):\n",
    "    clf = linear_model.Lasso(alpha)\n",
    "    clf.fit(Xtrain, Ytrain) #train Lasso\n",
    "    PredictL=clf.predict(Xvalid) #test Lasso, predict Values \n",
    "    PredictL[PredictL>=0]=1 #for positive values predict positive class\n",
    "    PredictL[PredictL<0]=-1 #for negative values predict negative class\n",
    "    BEF = BalancedErrorRate(pMask, nMask, PredictL)\n",
    "    print( i,'BEF', BEF)\n",
    "    PredictL=None # delete values \n",
    "    alpha=0.8*alpha # decrease alpha"
   ]
  },
  {
   "cell_type": "markdown",
   "metadata": {},
   "source": [
    "###Lasso about 10%error, but try to combine with SVM"
   ]
  },
  {
   "cell_type": "code",
   "execution_count": 10,
   "metadata": {
    "collapsed": false
   },
   "outputs": [
    {
     "name": "stdout",
     "output_type": "stream",
     "text": [
      "(0, 'BEF', 8.6666666666666679)\n",
      "(1, 'BEF', 10.666666666666666)\n",
      "(2, 'BEF', 9.3333333333333339)\n",
      "(3, 'BEF', 9.3333333333333339)\n",
      "(4, 'BEF', 12.000000000000002)\n",
      "(5, 'BEF', 11.0)\n",
      "(6, 'BEF', 10.666666666666666)\n",
      "(7, 'BEF', 9.0)\n",
      "(8, 'BEF', 10.666666666666666)\n",
      "(9, 'BEF', 10.333333333333334)\n",
      "(10, 'BEF', 9.3333333333333339)\n",
      "(11, 'BEF', 9.3333333333333339)\n",
      "(12, 'BEF', 10.333333333333334)\n",
      "(13, 'BEF', 10.0)\n",
      "(14, 'BEF', 11.333333333333334)\n",
      "('average', 10.133333333333333)\n"
     ]
    }
   ],
   "source": [
    "# Lasso and SVM\n",
    "lam=0.5\n",
    "s=0 #for computing average accuracy\n",
    "for i in range(15):\n",
    "    clf=svm.LinearSVC(penalty='l1', dual=False, C=lam)\n",
    "    clf.fit(Xtrain, Ytrain)\n",
    "    PredictLSVM=clf.predict(Xvalid)\n",
    "    BEF = BalancedErrorRate(pMask, nMask, PredictLSVM)\n",
    "    print( i,'BEF', BEF)\n",
    "    s+=np.sum(PredictLSVM!=Yvalid)/(1.*len(Yvalid))*100\n",
    "#     print(np.sum(Predict!=Yvalid)/(1.*len(Yvalid))*100, lam)\n",
    "    lam=0.7*lam\n",
    "    PredictLSVM=None\n",
    "    \n",
    "print('average',s/15)"
   ]
  },
  {
   "cell_type": "code",
   "execution_count": null,
   "metadata": {
    "collapsed": false
   },
   "outputs": [],
   "source": []
  },
  {
   "cell_type": "markdown",
   "metadata": {},
   "source": [
    "# gives 8.3% error, but random, every time different error"
   ]
  },
  {
   "cell_type": "code",
   "execution_count": null,
   "metadata": {
    "collapsed": false
   },
   "outputs": [],
   "source": []
  },
  {
   "cell_type": "code",
   "execution_count": 12,
   "metadata": {
    "collapsed": false
   },
   "outputs": [
    {
     "name": "stdout",
     "output_type": "stream",
     "text": [
      "(150, 19999) (150, 19999) (1, 19999) (1, 19999) (300, 19999)\n",
      "(19999,) (19999,)\n"
     ]
    }
   ],
   "source": [
    "mask1=Ytrain== 1 # indices for positive class\n",
    "mask2=Ytrain==-1 # indices for negative class\n",
    "Xtrain_dense=Xtrain.todense()\n",
    "Xvalid_dense=Xvalid.todense()\n",
    "# Xvalid_dense=Xvalid\n",
    "# normalize each row fo the data\n",
    "for i in range(Xtrain.shape[0]):\n",
    "#     pdb_settrace()\n",
    "    Xtrain_dense[i,:]=Xtrain_dense[i,:] / np.linalg.norm(Xtrain_dense[i,:], ord=2)\n",
    "    Xvalid_dense[i,:]=Xvalid_dense[i,:] / np.linalg.norm(Xvalid_dense[i,:], ord=2)\n",
    "    \n",
    "X1=Xtrain_dense[mask1,:] # positive points\n",
    "X2=Xtrain_dense[mask2,:] # negative points\n",
    "\n",
    "mean1=X1.mean(0) # mean of each column for positive points\n",
    "mean2=X2.mean(0) # mean of each column for negative points\n",
    "M1=np.squeeze(np.asarray(mean1))\n",
    "M2=np.squeeze(np.asarray(mean2))\n",
    "print X1.shape, X2.shape,mean1.shape,mean2.shape, Xtrain.shape\n",
    "print M1.shape, M2.shape"
   ]
  },
  {
   "cell_type": "code",
   "execution_count": null,
   "metadata": {
    "collapsed": false
   },
   "outputs": [],
   "source": []
  },
  {
   "cell_type": "code",
   "execution_count": 13,
   "metadata": {
    "collapsed": false
   },
   "outputs": [
    {
     "data": {
      "image/png": "[encoded data removed]",
      "text/plain": [
       "<matplotlib.figure.Figure at 0x10704a990>"
      ]
     },
     "metadata": {},
     "output_type": "display_data"
    }
   ],
   "source": [
    "plt.plot(np.sort(abs(M1-M2)),'ro')\n",
    "plt.title('  sorted diffenece of means ')\n",
    "plt.ylabel('difference of means')\n",
    "# plt.xlabel('features')\n",
    "plt.savefig('mean.pdf')"
   ]
  },
  {
   "cell_type": "code",
   "execution_count": 25,
   "metadata": {
    "collapsed": false
   },
   "outputs": [
    {
     "name": "stdout",
     "output_type": "stream",
     "text": [
      "('number of features to keep ', 183)\n",
      "('BEF', 49.666666666666671)\n"
     ]
    }
   ],
   "source": [
    "mask=abs(M1-M2)>0.005 # set threshhold for choosing features\n",
    "print('number of features to keep ', np.sum(mask))\n",
    "XtrainNew=Xtrain[:,mask] # select appropriate features\n",
    "\n",
    "#use SVM on new data\n",
    "clf = svm.SVC()\n",
    "clf.fit(XtrainNew, Ytrain) # train the model\n",
    "PredictSVMnew = clf.predict(Xvalid[:,mask]) # test the model\n",
    "# print np.sum(PredictSVMnew!=Yvalid)/(1.*len(Yvalid))*100\n",
    "BEF = BalancedErrorRate(pMask, nMask, PredictSVMnew)\n",
    "print('BEF', BEF)\n",
    "\n"
   ]
  },
  {
   "cell_type": "code",
   "execution_count": 30,
   "metadata": {
    "collapsed": false
   },
   "outputs": [
    {
     "name": "stdout",
     "output_type": "stream",
     "text": [
      "(0, 'BEF', 9.6666666666666679)\n",
      "(1, 'BEF', 9.0)\n",
      "(2, 'BEF', 9.6666666666666679)\n",
      "(3, 'BEF', 9.6666666666666679)\n",
      "(4, 'BEF', 9.6666666666666679)\n",
      "(5, 'BEF', 9.3333333333333339)\n",
      "(6, 'BEF', 9.6666666666666679)\n",
      "(7, 'BEF', 9.6666666666666679)\n",
      "(8, 'BEF', 10.0)\n",
      "(9, 'BEF', 11.666666666666666)\n",
      "(10, 'BEF', 12.666666666666668)\n",
      "(11, 'BEF', 13.666666666666666)\n",
      "(12, 'BEF', 14.333333333333334)\n",
      "(13, 'BEF', 15.0)\n",
      "(14, 'BEF', 15.333333333333332)\n",
      "(15, 'BEF', 15.333333333333332)\n",
      "(16, 'BEF', 15.666666666666668)\n",
      "(17, 'BEF', 16.0)\n",
      "(18, 'BEF', 16.666666666666664)\n",
      "(19, 'BEF', 17.0)\n",
      "('average error', 13.140350877192983)\n"
     ]
    }
   ],
   "source": [
    "# use Lasso\n",
    "alpha=1\n",
    "average_error=0\n",
    "for i in range(20):\n",
    "    clf = linear_model.Lasso(alpha)\n",
    "    clf.fit(XtrainNew, Ytrain)\n",
    "    PredictL=clf.predict(Xvalid[:,mask])\n",
    "    PredictL[PredictL>=0]=1\n",
    "    PredictL[PredictL<0]=-1\n",
    "#     print np.sum(PredictL!=Yvalid)/(1.*len(Yvalid))*100  \n",
    "    BEF=BalancedErrorRate(pMask, nMask, PredictL)\n",
    "    print( i, 'BEF', BEF)\n",
    "    PredictL=None\n",
    "    alpha=0.8*alpha\n",
    "    average_error+=BEF\n",
    "\n",
    "print('average error', average_error/i)"
   ]
  },
  {
   "cell_type": "code",
   "execution_count": 33,
   "metadata": {
    "collapsed": false
   },
   "outputs": [
    {
     "name": "stdout",
     "output_type": "stream",
     "text": [
      "(0, 'BEF', 9.3333333333333339)\n",
      "(1, 'BEF', 11.666666666666666)\n",
      "(2, 'BEF', 11.0)\n",
      "(3, 'BEF', 9.6666666666666661)\n",
      "(4, 'BEF', 11.0)\n",
      "(5, 'BEF', 12.0)\n",
      "(6, 'BEF', 11.0)\n",
      "(7, 'BEF', 10.666666666666666)\n",
      "(8, 'BEF', 10.0)\n",
      "(9, 'BEF', 11.333333333333334)\n",
      "(10, 'BEF', 12.333333333333334)\n",
      "(11, 'BEF', 7.333333333333333)\n",
      "(12, 'BEF', 9.0)\n",
      "(13, 'BEF', 8.6666666666666679)\n",
      "(14, 'BEF', 8.6666666666666679)\n",
      "(15, 'BEF', 12.666666666666664)\n",
      "(16, 'BEF', 10.0)\n",
      "(17, 'BEF', 8.6666666666666679)\n",
      "(18, 'BEF', 9.6666666666666679)\n",
      "(19, 'BEF', 9.0)\n",
      "10.1833333333\n"
     ]
    }
   ],
   "source": [
    "#Random Forests\n",
    "\n",
    "s=0\n",
    "N=20\n",
    "for j in range(N):\n",
    "#     clf = RandomForestClassifier()\n",
    "    clf = RandomForestClassifier()\n",
    "    clf.fit(XtrainNew, Ytrain)   #train\n",
    "    PredictRF=clf.predict(Xvalid[:,mask]) #classify\n",
    "#     s+=np.sum(PredictRF!=Yvalid)/(1.*len(Yvalid))*100\n",
    "#     print(np.sum(PredictRF!=Yvalid)/(1.*len(Yvalid))*100)\n",
    "    BEF=BalancedErrorRate(pMask, nMask, PredictRF)\n",
    "    s+=BEF\n",
    "    print( j,'BEF', BEF)\n",
    "    PredictRF=None\n",
    "    \n",
    "print s/N"
   ]
  },
  {
   "cell_type": "code",
   "execution_count": null,
   "metadata": {
    "collapsed": false
   },
   "outputs": [],
   "source": []
  },
  {
   "cell_type": "markdown",
   "metadata": {},
   "source": [
    "### Computing mean and picking features that have big mean differences for different classes improved random forest but not svm"
   ]
  },
  {
   "cell_type": "code",
   "execution_count": 35,
   "metadata": {
    "collapsed": false
   },
   "outputs": [
    {
     "name": "stdout",
     "output_type": "stream",
     "text": [
      "(300,)\n"
     ]
    },
    {
     "data": {
      "image/png": "[encoded data removed]",
      "text/plain": [
       "<matplotlib.figure.Figure at 0x10ffe9e90>"
      ]
     },
     "metadata": {},
     "output_type": "display_data"
    }
   ],
   "source": [
    "# transpose and take SVD to find relevant features\n",
    "# then do classification using those features\n",
    "Xdense=(Xtrain-Xtrain.mean(1)).T \n",
    "U,S,V=np.linalg.svd(Xdense, full_matrices=False)\n",
    "sigma=S/np.sum(S)\n",
    "print (S**2).shape\n",
    "plt.plot(sigma,'ko')\n",
    "plt.title('normalized singular values')\n",
    "plt.savefig('svals.pdf')"
   ]
  },
  {
   "cell_type": "code",
   "execution_count": 37,
   "metadata": {
    "collapsed": true
   },
   "outputs": [],
   "source": [
    "NewFeatures=np.diag(S)*V.T # select new features\n",
    "NewFeatures=NewFeatures.T  # transpose back to the original shape"
   ]
  },
  {
   "cell_type": "code",
   "execution_count": 40,
   "metadata": {
    "collapsed": false
   },
   "outputs": [
    {
     "name": "stdout",
     "output_type": "stream",
     "text": [
      "(0, 'BEF', 50.666666666666671)\n",
      "(1, 'BEF', 50.666666666666657)\n",
      "(2, 'BEF', 50.333333333333343)\n",
      "(3, 'BEF', 46.666666666666664)\n",
      "(4, 'BEF', 49.333333333333336)\n",
      "(5, 'BEF', 52.333333333333329)\n",
      "(6, 'BEF', 50.666666666666657)\n",
      "(7, 'BEF', 44.666666666666664)\n",
      "(8, 'BEF', 51.333333333333329)\n",
      "(9, 'BEF', 50.0)\n",
      "(10, 'BEF', 49.666666666666671)\n",
      "(11, 'BEF', 52.666666666666671)\n",
      "(12, 'BEF', 50.0)\n",
      "(13, 'BEF', 55.333333333333336)\n",
      "(14, 'BEF', 44.333333333333336)\n",
      "(15, 'BEF', 46.666666666666664)\n",
      "(16, 'BEF', 51.0)\n",
      "(17, 'BEF', 51.666666666666657)\n",
      "(18, 'BEF', 50.666666666666657)\n",
      "(19, 'BEF', 49.666666666666664)\n",
      "49.9166666667\n"
     ]
    }
   ],
   "source": [
    "# Run Random Forests\n",
    "s=0\n",
    "N=20\n",
    "for j in range(20):\n",
    "#     clf = RandomForestClassifier()\n",
    "    clf = RandomForestClassifier()\n",
    "    clf.fit(NewFeatures, Ytrain)  \n",
    "    PredictRF=clf.predict(Xvalid*U)\n",
    "    BEF=BalancedErrorRate(pMask, nMask, PredictRF)\n",
    "    print( j,'BEF', BEF)\n",
    "    s+=BEF\n",
    "    PredictRF=None\n",
    "s=s/N\n",
    "print s"
   ]
  },
  {
   "cell_type": "markdown",
   "metadata": {
    "collapsed": false
   },
   "source": [
    "#### SVD is bad since we are loosing too much information"
   ]
  },
  {
   "cell_type": "code",
   "execution_count": null,
   "metadata": {
    "collapsed": true
   },
   "outputs": [],
   "source": []
  }
 ],
 "metadata": {
  "kernelspec": {
   "display_name": "Python 2",
   "language": "python",
   "name": "python2"
  },
  "language_info": {
   "codemirror_mode": {
    "name": "ipython",
    "version": 2
   },
   "file_extension": ".py",
   "mimetype": "text/x-python",
   "name": "python",
   "nbconvert_exporter": "python",
   "pygments_lexer": "ipython2",
   "version": "2.7.10"
  }
 },
 "nbformat": 4,
 "nbformat_minor": 0
}
