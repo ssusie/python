{
 "cells": [
  {
   "cell_type": "code",
   "execution_count": 1,
   "metadata": {
    "collapsed": false
   },
   "outputs": [],
   "source": [
    "%matplotlib inline\n",
    "import matplotlib.pyplot as plt\n",
    "import numpy as np\n",
    "from sklearn.datasets import load_svmlight_file\n",
    "import pdb\n",
    "from sklearn import svm, linear_model\n",
    "from sklearn.ensemble import RandomForestClassifier"
   ]
  },
  {
   "cell_type": "code",
   "execution_count": 2,
   "metadata": {
    "collapsed": false
   },
   "outputs": [],
   "source": [
    "#Load data from given files\n",
    "from itertools import izip_longest\n",
    "import csv\n",
    "with open('dexter_train.labels', 'rb') as csv1,open('dexter_train.data', 'rb') as csv2,open('concat.txt', 'w') as out:\n",
    "    spam1 = csv.reader(csv1)\n",
    "    spam2 = csv.reader(csv2)\n",
    "    last_column=list(izip_longest(*spam2))[-1]\n",
    "    for i,j in  izip_longest(spam1,last_column):\n",
    "        out.write(','.join([t.strip(';') for t in i])+' '+j+'\\n')\n",
    "        \n",
    "from itertools import izip_longest\n",
    "import csv\n",
    "with open('dexter_valid.labels', 'rb') as csv1,open('dexter_valid.data', 'rb') as csv2,open('valid.txt', 'w') as out:\n",
    "    spam1 = csv.reader(csv1)\n",
    "    spam2 = csv.reader(csv2)\n",
    "    last_column=list(izip_longest(*spam2))[-1]\n",
    "    for i,j in  izip_longest(spam1,last_column):\n",
    "        out.write(','.join([t.strip(';') for t in i])+' '+j+'\\n')"
   ]
  },
  {
   "cell_type": "code",
   "execution_count": null,
   "metadata": {
    "collapsed": false
   },
   "outputs": [],
   "source": []
  },
  {
   "cell_type": "code",
   "execution_count": 3,
   "metadata": {
    "collapsed": false
   },
   "outputs": [],
   "source": [
    "trainLabl=np.genfromtxt('dexter_train.labels')\n",
    "TrainData = load_svmlight_file(\"concat.txt\") # concat.txt created in the cell above\n",
    "valid=load_svmlight_file('valid.txt') # valid.txt created in the cell above\n"
   ]
  },
  {
   "cell_type": "code",
   "execution_count": null,
   "metadata": {
    "collapsed": false
   },
   "outputs": [],
   "source": []
  },
  {
   "cell_type": "code",
   "execution_count": 4,
   "metadata": {
    "collapsed": true
   },
   "outputs": [],
   "source": [
    "Xtrain=TrainData[0] #training data\n",
    "Ytrain=TrainData[1] #training labels\n",
    "Xvalid=valid[0] #testing data\n",
    "Yvalid=valid[1] #testing labels"
   ]
  },
  {
   "cell_type": "code",
   "execution_count": 5,
   "metadata": {
    "collapsed": false
   },
   "outputs": [
    {
     "name": "stdout",
     "output_type": "stream",
     "text": [
      "('train', <100x100 sparse matrix of type '<type 'numpy.float64'>'\n",
      "\twith 26 stored elements in Compressed Sparse Row format>)\n",
      "('valid', <100x100 sparse matrix of type '<type 'numpy.float64'>'\n",
      "\twith 18 stored elements in Compressed Sparse Row format>)\n"
     ]
    }
   ],
   "source": [
    "print('train', Xtrain[0:100,0:100])\n",
    "print('valid', Xvalid[0:100,0:100])"
   ]
  },
  {
   "cell_type": "code",
   "execution_count": 7,
   "metadata": {
    "collapsed": false
   },
   "outputs": [
    {
     "name": "stdout",
     "output_type": "stream",
     "text": [
      "50.0\n",
      "(150, 0)\n",
      "(150, 150)\n",
      "('BEF', 50.0)\n"
     ]
    }
   ],
   "source": [
    "# use SVM classifier\n",
    "clf = svm.SVC()\n",
    "clf.fit(Xtrain, Ytrain) #train SVM on your data\n",
    "PredictSVM=clf.predict(Xvalid) #test classifier\n",
    "print('number of incorrect answers',np.sum(PredictSVM!=Yvalid)/(1.*len(Yvalid))*100) #print number of incorrect answers\n",
    "\n",
    "pMask=(Yvalid==1)\n",
    "nMask=(Yvalid==-1)\n",
    "\n",
    "Psvm=PredictSVM[pMask]+Yvalid[pMask]\n",
    "Nsvm=PredictSVM[nMask]+Yvalid[nMask]\n",
    "errorPsvm=np.sum(Psvm==0)\n",
    "errorNsvm=np.sum(Nsvm==0)\n",
    "numPos=np.sum(pMask)\n",
    "numNeg=np.sum(nMask)\n",
    "print(errorPsvm, errorNsvm)\n",
    "print(numPos, numNeg)\n",
    "BEF=1.0/2*(errorPsvm*1.0/numPos+errorNsvm*1.0/numNeg)*100\n",
    "print('BEF', BEF)"
   ]
  },
  {
   "cell_type": "code",
   "execution_count": 7,
   "metadata": {
    "collapsed": false
   },
   "outputs": [
    {
     "data": {
      "text/plain": [
       "(300, 19999)"
      ]
     },
     "execution_count": 7,
     "metadata": {},
     "output_type": "execute_result"
    }
   ],
   "source": [
    "Xtrain.shape\n"
   ]
  },
  {
   "cell_type": "code",
   "execution_count": null,
   "metadata": {
    "collapsed": false
   },
   "outputs": [],
   "source": []
  },
  {
   "cell_type": "markdown",
   "metadata": {},
   "source": [
    "#SVM  gives 50% error"
   ]
  },
  {
   "cell_type": "code",
   "execution_count": 15,
   "metadata": {
    "collapsed": false
   },
   "outputs": [
    {
     "name": "stdout",
     "output_type": "stream",
     "text": [
      "(0, 13.0)\n",
      "(0, 'BEF', 13.0)\n",
      "(1, 11.333333333333332)\n",
      "(1, 'BEF', 11.333333333333332)\n",
      "(2, 11.0)\n",
      "(2, 'BEF', 11.0)\n",
      "(3, 10.666666666666668)\n",
      "(3, 'BEF', 10.666666666666666)\n",
      "(4, 11.333333333333332)\n",
      "(4, 'BEF', 11.333333333333332)\n",
      "(5, 9.6666666666666661)\n",
      "(5, 'BEF', 9.6666666666666679)\n",
      "(6, 9.6666666666666661)\n",
      "(6, 'BEF', 9.6666666666666679)\n",
      "(7, 12.0)\n",
      "(7, 'BEF', 12.000000000000002)\n",
      "(8, 10.666666666666668)\n",
      "(8, 'BEF', 10.666666666666666)\n",
      "(9, 13.666666666666666)\n",
      "(9, 'BEF', 13.666666666666666)\n",
      "(10, 10.333333333333334)\n",
      "(10, 'BEF', 10.333333333333334)\n",
      "(11, 14.333333333333334)\n",
      "(11, 'BEF', 14.333333333333334)\n",
      "(12, 12.0)\n",
      "(12, 'BEF', 12.0)\n",
      "(13, 11.0)\n",
      "(13, 'BEF', 10.999999999999998)\n",
      "(14, 9.6666666666666661)\n",
      "(14, 'BEF', 9.6666666666666661)\n",
      "(15, 8.6666666666666679)\n",
      "(15, 'BEF', 8.6666666666666679)\n",
      "(16, 13.0)\n",
      "(16, 'BEF', 13.0)\n",
      "(17, 13.333333333333334)\n",
      "(17, 'BEF', 13.333333333333336)\n",
      "(18, 12.666666666666668)\n",
      "(18, 'BEF', 12.666666666666668)\n",
      "(19, 10.0)\n",
      "(19, 'BEF', 10.0)\n",
      "11.4\n"
     ]
    }
   ],
   "source": [
    "s=0\n",
    "N=20\n",
    "for j in range(N):\n",
    "#     clf = RandomForestClassifier()\n",
    "#     clf = RandomForestClassifier()\n",
    "    clf = RandomForestClassifier(max_features=7375)\n",
    "    clf.fit(Xtrain.todense(), Ytrain)  \n",
    "    PredictRF=clf.predict(Xvalid)\n",
    "    s+=np.sum(PredictRF!=Yvalid)/(1.*len(Yvalid))*100\n",
    "    print(j, np.sum(PredictRF!=Yvalid)/(1.*len(Yvalid))*100)\n",
    "    \n",
    "    Prf=PredictRF[pMask]+Yvalid[pMask]\n",
    "    Nrf=PredictRF[nMask]+Yvalid[nMask]\n",
    "    errorPrf=np.sum(Prf==0)\n",
    "    errorNrf=np.sum(Nrf==0)\n",
    "#     print(errorPrf, numPos, errorNrf, numNeg)\n",
    "    BEF=1.0/2*(errorPrf*1.0/numPos+errorNrf*1.0/numNeg)*100\n",
    "    print( j,'BEF', BEF)\n",
    "    Prf=None\n",
    "    Nrf=None\n",
    "    PredictRF=None\n",
    "s=s/N\n",
    "print s"
   ]
  },
  {
   "cell_type": "code",
   "execution_count": null,
   "metadata": {
    "collapsed": false
   },
   "outputs": [],
   "source": []
  },
  {
   "cell_type": "markdown",
   "metadata": {},
   "source": [
    "# Random Forests give 17% errror"
   ]
  },
  {
   "cell_type": "code",
   "execution_count": 17,
   "metadata": {
    "collapsed": false
   },
   "outputs": [
    {
     "name": "stdout",
     "output_type": "stream",
     "text": [
      "(0, 9.6666666666666661, 1)\n",
      "(19, 'BEF', 9.6666666666666661)\n",
      "(1, 10.0, 0.8)\n",
      "(19, 'BEF', 10.0)\n",
      "(2, 9.6666666666666661, 0.6400000000000001)\n",
      "(19, 'BEF', 9.6666666666666661)\n",
      "(3, 10.0, 0.5120000000000001)\n",
      "(19, 'BEF', 10.0)\n",
      "(4, 10.0, 0.40960000000000013)\n",
      "(19, 'BEF', 10.0)\n",
      "(5, 9.6666666666666661, 0.32768000000000014)\n",
      "(19, 'BEF', 9.6666666666666661)\n",
      "(6, 9.3333333333333339, 0.2621440000000001)\n",
      "(19, 'BEF', 9.3333333333333321)\n",
      "(7, 9.3333333333333339, 0.2097152000000001)\n",
      "(19, 'BEF', 9.3333333333333321)\n",
      "(8, 9.6666666666666661, 0.1677721600000001)\n",
      "(19, 'BEF', 9.6666666666666661)\n",
      "(9, 10.0, 0.13421772800000006)\n",
      "(19, 'BEF', 10.0)\n",
      "(10, 10.333333333333334, 0.10737418240000006)\n",
      "(19, 'BEF', 10.333333333333334)\n",
      "(11, 10.0, 0.08589934592000005)\n",
      "(19, 'BEF', 10.0)\n",
      "(12, 10.333333333333334, 0.06871947673600004)\n",
      "(19, 'BEF', 10.333333333333334)\n",
      "(13, 10.666666666666668, 0.054975581388800036)\n",
      "(19, 'BEF', 10.666666666666666)\n",
      "(14, 10.666666666666668, 0.043980465111040035)\n",
      "(19, 'BEF', 10.666666666666666)\n",
      "(15, 10.666666666666668, 0.03518437208883203)\n",
      "(19, 'BEF', 10.666666666666666)\n",
      "(16, 10.666666666666668, 0.028147497671065627)\n",
      "(19, 'BEF', 10.666666666666666)\n",
      "(17, 10.333333333333334, 0.022517998136852502)\n",
      "(19, 'BEF', 10.333333333333334)\n",
      "(18, 9.6666666666666661, 0.018014398509482003)\n",
      "(19, 'BEF', 9.6666666666666661)\n",
      "(19, 9.6666666666666661, 0.014411518807585602)\n",
      "(19, 'BEF', 9.6666666666666661)\n"
     ]
    },
    {
     "name": "stderr",
     "output_type": "stream",
     "text": [
      "/Users/susiesargsyan/anaconda/lib/python2.7/site-packages/sklearn/linear_model/coordinate_descent.py:444: ConvergenceWarning: Objective did not converge. You might want to increase the number of iterations\n",
      "  ConvergenceWarning)\n"
     ]
    }
   ],
   "source": [
    "alpha=1\n",
    "for i in range(20):\n",
    "    clf = linear_model.Lasso(alpha)\n",
    "#     clf.fit(Xvalid.todense())\n",
    "    clf.fit(Xtrain, Ytrain)\n",
    "    PredictL=clf.predict(Xvalid)\n",
    "    PredictL[PredictL>=0]=1\n",
    "    PredictL[PredictL<0]=-1\n",
    "    print(i, np.sum(PredictL!=Yvalid)/(1.*len(Yvalid))*100, alpha)\n",
    "    Plas=PredictL[pMask]+Yvalid[pMask]\n",
    "    Nlas=PredictL[nMask]+Yvalid[nMask]\n",
    "    errorPlas=np.sum(Plas==0)\n",
    "    errorNlas=np.sum(Nlas==0)\n",
    "#     print(errorPrf, numPos, errorNrf, numNeg)\n",
    "    BEF=1.0/2*(errorPlas*1.0/numPos+errorNlas*1.0/numNeg)*100\n",
    "    print( j,'BEF', BEF)\n",
    "    Plas=None\n",
    "    Nlas=None\n",
    "    PredictL=None\n",
    "    alpha=0.8*alpha"
   ]
  },
  {
   "cell_type": "markdown",
   "metadata": {},
   "source": [
    "#Lasso is bad, ?% error, but try to combine with SVM\n",
    "\n",
    "\n",
    "####dum to try since it's a regression not classification, therefore we set a threshhold on prediction"
   ]
  },
  {
   "cell_type": "code",
   "execution_count": 10,
   "metadata": {
    "collapsed": false
   },
   "outputs": [
    {
     "name": "stdout",
     "output_type": "stream",
     "text": [
      "(9.6666666666666661, 0.5)\n",
      "(9.6666666666666661, 0.35)\n",
      "(10.0, 0.24499999999999997)\n",
      "(9.0, 0.17149999999999996)\n",
      "(8.0, 0.12004999999999996)\n",
      "(8.3333333333333321, 0.08403499999999997)\n",
      "(8.3333333333333321, 0.058824499999999974)\n",
      "(10.0, 0.04117714999999998)\n",
      "(9.6666666666666661, 0.028824004999999986)\n",
      "(10.0, 0.02017680349999999)\n",
      "(9.0, 0.014123762449999992)\n",
      "(9.0, 0.009886633714999994)\n",
      "(10.333333333333334, 0.006920643600499995)\n",
      "(10.0, 0.004844450520349996)\n",
      "(11.333333333333332, 0.003391115364244997)\n",
      "9.48888888889\n"
     ]
    }
   ],
   "source": [
    "lam=0.5\n",
    "s=0\n",
    "for i in range(15):\n",
    "    clf=svm.LinearSVC(penalty='l1', dual=False, C=lam)\n",
    "    clf.fit(Xtrain, Ytrain)\n",
    "    Predict=clf.predict(Xvalid)\n",
    "    s+=np.sum(Predict!=Yvalid)/(1.*len(Yvalid))*100\n",
    "    print(np.sum(Predict!=Yvalid)/(1.*len(Yvalid))*100, lam)\n",
    "    lam=0.7*lam\n",
    "    \n",
    "print s/15"
   ]
  },
  {
   "cell_type": "code",
   "execution_count": null,
   "metadata": {
    "collapsed": false
   },
   "outputs": [],
   "source": []
  },
  {
   "cell_type": "markdown",
   "metadata": {},
   "source": [
    "# gives 8.3% error, but random, every time different error"
   ]
  },
  {
   "cell_type": "code",
   "execution_count": 18,
   "metadata": {
    "collapsed": false
   },
   "outputs": [
    {
     "name": "stdout",
     "output_type": "stream",
     "text": [
      "(300,) [False  True False]\n"
     ]
    }
   ],
   "source": [
    "mask1=Ytrain==1\n",
    "mask2=Ytrain==-1\n",
    "print mask1.shape, mask2[0:3]"
   ]
  },
  {
   "cell_type": "code",
   "execution_count": 46,
   "metadata": {
    "collapsed": false
   },
   "outputs": [
    {
     "name": "stdout",
     "output_type": "stream",
     "text": [
      "<class 'numpy.matrixlib.defmatrix.matrix'>\n",
      "(150, 19999) (150, 19999) (1, 19999) (1, 19999) (300, 19999)\n",
      "(19999,) (19999,)\n"
     ]
    }
   ],
   "source": [
    "print type(Xtrain)\n",
    "Xvalid=Xvalid.todense()\n",
    "for i in range(Xtrain.shape[0]):\n",
    "    Xtrain[i,:]=Xtrain[i,:]/np.linalg.norm(Xtrain[i,:], ord=2)\n",
    "    Xvalid[i,:]=Xvalid[i,:]/np.linalg.norm(Xvalid[i,:], ord=2)\n",
    "    \n",
    "X1=Xtrain[mask1,:]\n",
    "X2=Xtrain[mask2,:]\n",
    "\n",
    "mean1=X1.mean(0)\n",
    "mean2=X2.mean(0)\n",
    "M1=np.squeeze(np.asarray(mean1))\n",
    "M2=np.squeeze(np.asarray(mean2))\n",
    "print X1.shape, X2.shape,mean1.shape,mean2.shape, Xtrain.shape\n",
    "print M1.shape, M2.shape"
   ]
  },
  {
   "cell_type": "code",
   "execution_count": 68,
   "metadata": {
    "collapsed": false
   },
   "outputs": [
    {
     "data": {
      "image/png": "[encoded data removed]",
      "text/plain": [
       "<matplotlib.figure.Figure at 0x10d8811d0>"
      ]
     },
     "metadata": {},
     "output_type": "display_data"
    }
   ],
   "source": [
    "plt.plot(np.sort(abs(M1-M2)),'ro')\n",
    "plt.title('sorted diffenece in means of different classes for each feature')\n",
    "plt.ylabel('difference of means')\n",
    "# plt.xlabel('features')\n",
    "plt.savefig('mean.pdf')"
   ]
  },
  {
   "cell_type": "code",
   "execution_count": 82,
   "metadata": {
    "collapsed": false
   },
   "outputs": [
    {
     "data": {
      "text/plain": [
       "183"
      ]
     },
     "execution_count": 82,
     "metadata": {},
     "output_type": "execute_result"
    }
   ],
   "source": [
    "mask=abs(M1-M2)>0.005\n",
    "np.sum(mask)"
   ]
  },
  {
   "cell_type": "code",
   "execution_count": 83,
   "metadata": {
    "collapsed": false
   },
   "outputs": [
    {
     "data": {
      "text/plain": [
       "183"
      ]
     },
     "execution_count": 83,
     "metadata": {},
     "output_type": "execute_result"
    }
   ],
   "source": [
    "np.sum(mask)"
   ]
  },
  {
   "cell_type": "code",
   "execution_count": 84,
   "metadata": {
    "collapsed": false
   },
   "outputs": [
    {
     "data": {
      "text/plain": [
       "(300, 183)"
      ]
     },
     "execution_count": 84,
     "metadata": {},
     "output_type": "execute_result"
    }
   ],
   "source": [
    "XtrainNew=Xtrain[:,mask]\n",
    "XtrainNew.shape"
   ]
  },
  {
   "cell_type": "code",
   "execution_count": 85,
   "metadata": {
    "collapsed": false
   },
   "outputs": [
    {
     "name": "stdout",
     "output_type": "stream",
     "text": [
      "39.6666666667\n",
      "(0, 119)\n",
      "(150, 150)\n",
      "('BEF', 39.666666666666664)\n"
     ]
    }
   ],
   "source": [
    "clf = svm.SVC()\n",
    "clf.fit(XtrainNew, Ytrain) \n",
    "PredictSVMnew=clf.predict(Xvalid[:,mask])\n",
    "print np.sum(PredictSVMnew!=Yvalid)/(1.*len(Yvalid))*100\n",
    "\n",
    "Psvmnew=PredictSVMnew[pMask]+Yvalid[pMask]\n",
    "Nsvmnew=PredictSVMnew[nMask]+Yvalid[nMask]\n",
    "errorPsvmnew=np.sum(Psvmnew==0)\n",
    "errorNsvmnew=np.sum(Nsvmnew==0)\n",
    "numPos=np.sum(pMask)\n",
    "numNeg=np.sum(nMask)\n",
    "print(errorPsvmnew, errorNsvmnew)\n",
    "print(numPos, numNeg)\n",
    "BEF=1.0/2*(errorPsvmnew*1.0/numPos+errorNsvmnew*1.0/numNeg)*100\n",
    "print('BEF', BEF)\n",
    "PredictSVMnew=None,\n",
    "Psvmnew=None\n",
    "Nsvmnew=None\n"
   ]
  },
  {
   "cell_type": "code",
   "execution_count": 86,
   "metadata": {
    "collapsed": false
   },
   "outputs": [
    {
     "data": {
      "text/plain": [
       "39.666666666666664"
      ]
     },
     "execution_count": 86,
     "metadata": {},
     "output_type": "execute_result"
    }
   ],
   "source": [
    "clf = svm.SVC()\n",
    "clf.fit(XtrainNew, Ytrain) \n",
    "PredictM=clf.predict(Xvalid[:,mask])\n",
    "np.sum(PredictM!=Yvalid)/(1.*len(Yvalid))*100"
   ]
  },
  {
   "cell_type": "code",
   "execution_count": 87,
   "metadata": {
    "collapsed": false
   },
   "outputs": [
    {
     "name": "stdout",
     "output_type": "stream",
     "text": [
      "50.0\n",
      "(0, 'BEF', 50.0)\n",
      "50.0\n",
      "(1, 'BEF', 50.0)\n",
      "50.0\n",
      "(2, 'BEF', 50.0)\n",
      "50.0\n",
      "(3, 'BEF', 50.0)\n",
      "50.0\n",
      "(4, 'BEF', 50.0)\n",
      "50.0\n",
      "(5, 'BEF', 50.0)\n",
      "50.0\n",
      "(6, 'BEF', 50.0)\n",
      "50.0\n",
      "(7, 'BEF', 50.0)\n",
      "37.6666666667\n",
      "(8, 'BEF', 37.666666666666664)\n",
      "37.6666666667\n",
      "(9, 'BEF', 37.666666666666664)\n",
      "37.6666666667\n",
      "(10, 'BEF', 37.666666666666664)\n",
      "34.3333333333\n",
      "(11, 'BEF', 34.333333333333336)\n",
      "25.6666666667\n",
      "(12, 'BEF', 25.666666666666664)\n",
      "14.0\n",
      "(13, 'BEF', 14.000000000000002)\n",
      "9.66666666667\n",
      "(14, 'BEF', 9.6666666666666679)\n",
      "9.33333333333\n",
      "(15, 'BEF', 9.3333333333333339)\n",
      "10.0\n",
      "(16, 'BEF', 10.0)\n",
      "9.0\n",
      "(17, 'BEF', 9.0)\n",
      "9.66666666667\n",
      "(18, 'BEF', 9.6666666666666679)\n",
      "9.66666666667\n",
      "(19, 'BEF', 9.6666666666666679)\n",
      "10.3333333333\n",
      "(20, 'BEF', 10.333333333333334)\n",
      "12.3333333333\n",
      "(21, 'BEF', 12.333333333333332)\n",
      "14.3333333333\n",
      "(22, 'BEF', 14.333333333333332)\n",
      "14.6666666667\n",
      "(23, 'BEF', 14.666666666666666)\n",
      "15.0\n",
      "(24, 'BEF', 15.0)\n",
      "16.0\n",
      "(25, 'BEF', 16.0)\n",
      "16.6666666667\n",
      "(26, 'BEF', 16.666666666666664)\n",
      "17.0\n",
      "(27, 'BEF', 17.0)\n",
      "17.3333333333\n",
      "(28, 'BEF', 17.333333333333336)\n",
      "17.3333333333\n",
      "(29, 'BEF', 17.333333333333336)\n",
      "17.3333333333\n",
      "(30, 'BEF', 17.333333333333336)\n",
      "17.6666666667\n",
      "(31, 'BEF', 17.666666666666668)\n",
      "17.6666666667\n",
      "(32, 'BEF', 17.666666666666668)\n",
      "17.6666666667\n",
      "(33, 'BEF', 17.666666666666668)\n",
      "17.6666666667\n",
      "(34, 'BEF', 17.666666666666668)\n",
      "17.6666666667\n",
      "(35, 'BEF', 17.666666666666668)\n",
      "17.6666666667\n",
      "(36, 'BEF', 17.666666666666668)\n",
      "17.6666666667\n",
      "(37, 'BEF', 17.666666666666668)\n",
      "17.6666666667\n",
      "(38, 'BEF', 17.666666666666668)\n",
      "17.6666666667\n",
      "(39, 'BEF', 17.666666666666668)\n"
     ]
    }
   ],
   "source": [
    "alpha=1\n",
    "for i in range(40):\n",
    "    clf = linear_model.Lasso(alpha)\n",
    "    clf.fit(XtrainNew, Ytrain)\n",
    "    PredictL=clf.predict(Xvalid[:,mask])\n",
    "    PredictL[PredictL>=0]=1\n",
    "    PredictL[PredictL<0]=-1\n",
    "    print np.sum(PredictL!=Yvalid)/(1.*len(Yvalid))*100\n",
    "    alpha=0.8*alpha\n",
    "    Plas=PredictL[pMask]+Yvalid[pMask]\n",
    "    Nlas=PredictL[nMask]+Yvalid[nMask]\n",
    "    errorPlas=np.sum(Plas==0)\n",
    "    errorNlas=np.sum(Nlas==0)\n",
    "#     print(errorPrf, numPos, errorNrf, numNeg)\n",
    "    BEF=1.0/2*(errorPlas*1.0/numPos+errorNlas*1.0/numNeg)*100\n",
    "    print( i,'BEF', BEF)\n",
    "    Plas=None\n",
    "    Nlas=None\n",
    "    PredictL=None\n",
    "    alpha=0.8*alpha\n",
    "    \n"
   ]
  },
  {
   "cell_type": "code",
   "execution_count": 64,
   "metadata": {
    "collapsed": false
   },
   "outputs": [
    {
     "name": "stdout",
     "output_type": "stream",
     "text": [
      "13.0\n",
      "(0, 'BEF', 13.0)\n",
      "11.3333333333\n",
      "(1, 'BEF', 11.333333333333334)\n",
      "14.3333333333\n",
      "(2, 'BEF', 14.333333333333334)\n",
      "15.3333333333\n",
      "(3, 'BEF', 15.333333333333332)\n",
      "17.6666666667\n",
      "(4, 'BEF', 17.666666666666668)\n",
      "14.0\n",
      "(5, 'BEF', 14.000000000000002)\n",
      "13.3333333333\n",
      "(6, 'BEF', 13.333333333333334)\n",
      "19.6666666667\n",
      "(7, 'BEF', 19.666666666666664)\n",
      "16.6666666667\n",
      "(8, 'BEF', 16.666666666666668)\n",
      "14.3333333333\n",
      "(9, 'BEF', 14.333333333333334)\n",
      "15.3333333333\n",
      "(10, 'BEF', 15.333333333333332)\n",
      "12.6666666667\n",
      "(11, 'BEF', 12.666666666666668)\n",
      "15.0\n",
      "(12, 'BEF', 15.000000000000002)\n",
      "11.3333333333\n",
      "(13, 'BEF', 11.333333333333332)\n",
      "15.3333333333\n",
      "(14, 'BEF', 15.333333333333332)\n",
      "15.3333333333\n",
      "(15, 'BEF', 15.333333333333332)\n",
      "18.3333333333\n",
      "(16, 'BEF', 18.333333333333336)\n",
      "19.0\n",
      "(17, 'BEF', 19.0)\n",
      "14.0\n",
      "(18, 'BEF', 14.000000000000002)\n",
      "13.0\n",
      "(19, 'BEF', 13.0)\n",
      "13.3333333333\n",
      "(20, 'BEF', 13.333333333333334)\n",
      "17.3333333333\n",
      "(21, 'BEF', 17.333333333333336)\n",
      "16.3333333333\n",
      "(22, 'BEF', 16.333333333333332)\n",
      "15.6666666667\n",
      "(23, 'BEF', 15.666666666666668)\n",
      "13.0\n",
      "(24, 'BEF', 13.0)\n",
      "17.3333333333\n",
      "(25, 'BEF', 17.333333333333336)\n",
      "13.6666666667\n",
      "(26, 'BEF', 13.666666666666666)\n",
      "14.6666666667\n",
      "(27, 'BEF', 14.666666666666666)\n",
      "15.6666666667\n",
      "(28, 'BEF', 15.666666666666668)\n",
      "15.3333333333\n",
      "(29, 'BEF', 15.333333333333332)\n",
      "15.0444444444\n"
     ]
    }
   ],
   "source": [
    "s=0\n",
    "N=30\n",
    "for j in range(N):\n",
    "#     clf = RandomForestClassifier()\n",
    "    clf = RandomForestClassifier()\n",
    "    clf.fit(XtrainNew, Ytrain)  \n",
    "    PredictRF=clf.predict(Xvalid[:,mask])\n",
    "    s+=np.sum(PredictRF!=Yvalid)/(1.*len(Yvalid))*100\n",
    "    print(np.sum(PredictRF!=Yvalid)/(1.*len(Yvalid))*100)\n",
    "    Prf=PredictRF[pMask]+Yvalid[pMask]\n",
    "    Nrf=PredictRF[nMask]+Yvalid[nMask]\n",
    "    errorPrf=np.sum(Prf==0)\n",
    "    errorNrf=np.sum(Nrf==0)\n",
    "    BEF=1.0/2*(errorPrf*1.0/numPos+errorNrf*1.0/numNeg)*100\n",
    "    print( j,'BEF', BEF)\n",
    "    Prf=None\n",
    "    Nrf=None\n",
    "    PredictRF=None\n",
    "    \n",
    "s=s/N\n",
    "print s"
   ]
  },
  {
   "cell_type": "markdown",
   "metadata": {},
   "source": [
    "### computing mean and picking features that have big mean differences for different classes improved random forest but not svm"
   ]
  },
  {
   "cell_type": "code",
   "execution_count": 90,
   "metadata": {
    "collapsed": false
   },
   "outputs": [],
   "source": [
    "\n",
    "Xdense=(Xtrain-Xtrain.mean(1)).T"
   ]
  },
  {
   "cell_type": "code",
   "execution_count": 91,
   "metadata": {
    "collapsed": true
   },
   "outputs": [],
   "source": [
    "U,S,V=np.linalg.svd(Xdense, full_matrices=False)"
   ]
  },
  {
   "cell_type": "code",
   "execution_count": 92,
   "metadata": {
    "collapsed": false
   },
   "outputs": [
    {
     "name": "stdout",
     "output_type": "stream",
     "text": [
      "(19999, 300) (300,) (300, 300)\n"
     ]
    }
   ],
   "source": [
    "print U.shape, S.shape, V.shape\n"
   ]
  },
  {
   "cell_type": "code",
   "execution_count": 93,
   "metadata": {
    "collapsed": false
   },
   "outputs": [
    {
     "name": "stdout",
     "output_type": "stream",
     "text": [
      "(300,)\n"
     ]
    },
    {
     "data": {
      "image/png": "[encoded data removed]",
      "text/plain": [
       "<matplotlib.figure.Figure at 0x10dddd950>"
      ]
     },
     "metadata": {},
     "output_type": "display_data"
    }
   ],
   "source": [
    "sigma=S/np.sum(S)\n",
    "print (S**2).shape\n",
    "plt.plot(sigma,'ko')\n",
    "plt.title('normalized singular values')\n",
    "plt.savefig('svals.pdf')"
   ]
  },
  {
   "cell_type": "code",
   "execution_count": 95,
   "metadata": {
    "collapsed": false
   },
   "outputs": [
    {
     "name": "stdout",
     "output_type": "stream",
     "text": [
      "(300, 300)\n"
     ]
    }
   ],
   "source": [
    "NewFeatures=np.diag(S)*V.T\n",
    "print NewFeatures.shape\n",
    "NewFeatures=NewFeatures.T"
   ]
  },
  {
   "cell_type": "code",
   "execution_count": 97,
   "metadata": {
    "collapsed": false
   },
   "outputs": [
    {
     "name": "stdout",
     "output_type": "stream",
     "text": [
      "51.0\n",
      "(0, 'BEF', 51.0)\n",
      "49.6666666667\n",
      "(1, 'BEF', 49.666666666666671)\n",
      "50.6666666667\n",
      "(2, 'BEF', 50.666666666666671)\n",
      "43.0\n",
      "(3, 'BEF', 43.000000000000007)\n",
      "54.0\n",
      "(4, 'BEF', 54.0)\n",
      "50.6666666667\n",
      "(5, 'BEF', 50.666666666666657)\n",
      "47.0\n",
      "(6, 'BEF', 47.0)\n",
      "46.0\n",
      "(7, 'BEF', 46.0)\n",
      "47.0\n",
      "(8, 'BEF', 47.0)\n",
      "51.6666666667\n",
      "(9, 'BEF', 51.666666666666657)\n",
      "50.3333333333\n",
      "(10, 'BEF', 50.333333333333329)\n",
      "46.0\n",
      "(11, 'BEF', 46.0)\n",
      "52.3333333333\n",
      "(12, 'BEF', 52.333333333333329)\n",
      "34.6666666667\n",
      "(13, 'BEF', 34.666666666666671)\n",
      "52.0\n",
      "(14, 'BEF', 52.0)\n",
      "47.3333333333\n",
      "(15, 'BEF', 47.333333333333336)\n",
      "51.0\n",
      "(16, 'BEF', 51.0)\n",
      "53.3333333333\n",
      "(17, 'BEF', 53.333333333333336)\n",
      "44.0\n",
      "(18, 'BEF', 44.0)\n",
      "50.0\n",
      "(19, 'BEF', 50.0)\n",
      "42.0\n",
      "(20, 'BEF', 42.000000000000007)\n",
      "49.6666666667\n",
      "(21, 'BEF', 49.666666666666664)\n",
      "47.0\n",
      "(22, 'BEF', 47.0)\n",
      "49.0\n",
      "(23, 'BEF', 49.0)\n",
      "47.6666666667\n",
      "(24, 'BEF', 47.666666666666671)\n",
      "48.0\n",
      "(25, 'BEF', 48.0)\n",
      "54.6666666667\n",
      "(26, 'BEF', 54.666666666666664)\n",
      "45.6666666667\n",
      "(27, 'BEF', 45.666666666666664)\n",
      "45.0\n",
      "(28, 'BEF', 45.0)\n",
      "46.3333333333\n",
      "(29, 'BEF', 46.333333333333329)\n",
      "49.6666666667\n",
      "(30, 'BEF', 49.666666666666664)\n",
      "51.3333333333\n",
      "(31, 'BEF', 51.333333333333329)\n",
      "50.3333333333\n",
      "(32, 'BEF', 50.333333333333329)\n",
      "56.0\n",
      "(33, 'BEF', 55.999999999999993)\n",
      "51.0\n",
      "(34, 'BEF', 51.0)\n",
      "51.6666666667\n",
      "(35, 'BEF', 51.666666666666657)\n",
      "49.0\n",
      "(36, 'BEF', 49.0)\n",
      "48.3333333333\n",
      "(37, 'BEF', 48.333333333333329)\n",
      "48.6666666667\n",
      "(38, 'BEF', 48.666666666666671)\n",
      "55.3333333333\n",
      "(39, 'BEF', 55.333333333333336)\n",
      "46.0\n",
      "(40, 'BEF', 46.0)\n",
      "46.6666666667\n",
      "(41, 'BEF', 46.666666666666664)\n",
      "48.3333333333\n",
      "(42, 'BEF', 48.333333333333336)\n",
      "48.0\n",
      "(43, 'BEF', 48.0)\n",
      "53.0\n",
      "(44, 'BEF', 53.0)\n",
      "49.0\n",
      "(45, 'BEF', 49.0)\n",
      "43.3333333333\n",
      "(46, 'BEF', 43.333333333333336)\n",
      "45.0\n",
      "(47, 'BEF', 45.0)\n",
      "49.6666666667\n",
      "(48, 'BEF', 49.666666666666664)\n",
      "46.6666666667\n",
      "(49, 'BEF', 46.666666666666664)\n",
      "121.683333333\n"
     ]
    }
   ],
   "source": [
    "s=0\n",
    "N=20\n",
    "for j in range(50):\n",
    "#     clf = RandomForestClassifier()\n",
    "    clf = RandomForestClassifier()\n",
    "    clf.fit(NewFeatures, Ytrain)  \n",
    "    PredictRF=clf.predict(Xvalid*U)\n",
    "    s+=np.sum(PredictRF!=Yvalid)/(1.*len(Yvalid))*100\n",
    "    print(np.sum(PredictRF!=Yvalid)/(1.*len(Yvalid))*100)\n",
    "    Prf=PredictRF[pMask]+Yvalid[pMask]\n",
    "    Nrf=PredictRF[nMask]+Yvalid[nMask]\n",
    "    errorPrf=np.sum(Prf==0)\n",
    "    errorNrf=np.sum(Nrf==0)\n",
    "    BEF=1.0/2*(errorPrf*1.0/numPos+errorNrf*1.0/numNeg)*100\n",
    "    print( j,'BEF', BEF)\n",
    "    Prf=None\n",
    "    Nrf=None\n",
    "    PredictRF=None\n",
    "s=s/N\n",
    "print s"
   ]
  },
  {
   "cell_type": "code",
   "execution_count": 98,
   "metadata": {
    "collapsed": false
   },
   "outputs": [
    {
     "data": {
      "text/plain": [
       "2.4336"
      ]
     },
     "execution_count": 98,
     "metadata": {},
     "output_type": "execute_result"
    }
   ],
   "source": [
    "121.68/50"
   ]
  },
  {
   "cell_type": "code",
   "execution_count": null,
   "metadata": {
    "collapsed": true
   },
   "outputs": [],
   "source": []
  }
 ],
 "metadata": {
  "kernelspec": {
   "display_name": "Python 2",
   "language": "python",
   "name": "python2"
  },
  "language_info": {
   "codemirror_mode": {
    "name": "ipython",
    "version": 2
   },
   "file_extension": ".py",
   "mimetype": "text/x-python",
   "name": "python",
   "nbconvert_exporter": "python",
   "pygments_lexer": "ipython2",
   "version": "2.7.10"
  }
 },
 "nbformat": 4,
 "nbformat_minor": 0
}
