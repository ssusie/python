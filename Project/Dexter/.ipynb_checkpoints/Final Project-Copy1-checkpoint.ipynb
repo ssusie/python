{
 "cells": [
  {
   "cell_type": "code",
   "execution_count": 1,
   "metadata": {
    "collapsed": true
   },
   "outputs": [],
   "source": [
    "%matplotlib inline\n",
    "import matplotlib.pyplot as plt\n",
    "import numpy as np\n",
    "from sklearn.datasets import load_svmlight_file\n",
    "import pdb\n",
    "from sklearn import svm, linear_model\n",
    "from sklearn.ensemble import RandomForestClassifier\n"
   ]
  },
  {
   "cell_type": "code",
   "execution_count": 2,
   "metadata": {
    "collapsed": true
   },
   "outputs": [],
   "source": [
    "#Load data from given files\n",
    "from itertools import izip_longest\n",
    "import csv\n",
    "with open('dexter_train.labels', 'rb') as csv1,open('dexter_train.data', 'rb') as csv2,open('concat.txt', 'w') as out:\n",
    "    spam1 = csv.reader(csv1)\n",
    "    spam2 = csv.reader(csv2)\n",
    "    last_column=list(izip_longest(*spam2))[-1]\n",
    "    for i,j in  izip_longest(spam1,last_column):\n",
    "        out.write(','.join([t.strip(';') for t in i])+' '+j+'\\n')\n",
    "        \n",
    "from itertools import izip_longest\n",
    "import csv\n",
    "with open('dexter_valid.labels', 'rb') as csv1,open('dexter_valid.data', 'rb') as csv2,open('valid.txt', 'w') as out:\n",
    "    spam1 = csv.reader(csv1)\n",
    "    spam2 = csv.reader(csv2)\n",
    "    last_column=list(izip_longest(*spam2))[-1]\n",
    "    for i,j in  izip_longest(spam1,last_column):\n",
    "        out.write(','.join([t.strip(';') for t in i])+' '+j+'\\n')"
   ]
  },
  {
   "cell_type": "code",
   "execution_count": 3,
   "metadata": {
    "collapsed": true
   },
   "outputs": [],
   "source": [
    "# trainLabl=np.genfromtxt('dexter_train.labels')\n",
    "TrainData = load_svmlight_file(\"concat.txt\")#created in the cell above\n",
    "valid=load_svmlight_file('valid.txt')#created in the cell above"
   ]
  },
  {
   "cell_type": "code",
   "execution_count": null,
   "metadata": {
    "collapsed": false
   },
   "outputs": [],
   "source": []
  },
  {
   "cell_type": "code",
   "execution_count": 4,
   "metadata": {
    "collapsed": false
   },
   "outputs": [],
   "source": [
    "Xtrain=TrainData[0] #training data\n",
    "Ytrain=TrainData[1] #training label\n",
    "Xvalid=valid[0] # validating data\n",
    "Yvalid=valid[1] # validating labels\n",
    "#concatinate training+validation data to do cross validation\n"
   ]
  },
  {
   "cell_type": "code",
   "execution_count": 5,
   "metadata": {
    "collapsed": false
   },
   "outputs": [
    {
     "name": "stdout",
     "output_type": "stream",
     "text": [
      "((300, 19999), (300, 19999))\n"
     ]
    }
   ],
   "source": [
    "#checking what we have\n",
    "# print(np.linalg.norm(trainLabl-Ytrain, ord=1))\n",
    "print(Xtrain.shape, Xvalid.shape)\n",
    "# X=np.concatenate((Xtrain, Xvalid))\n",
    "# print(Xtrain)"
   ]
  },
  {
   "cell_type": "code",
   "execution_count": 6,
   "metadata": {
    "collapsed": false
   },
   "outputs": [
    {
     "name": "stdout",
     "output_type": "stream",
     "text": [
      "('regular error', 50.0)\n",
      "(150, 0)\n",
      "(150, 150)\n",
      "('BEF', 50.0)\n"
     ]
    }
   ],
   "source": [
    "clf = svm.SVC()\n",
    "clf.fit(Xtrain, Ytrain) \n",
    "Predict=clf.predict(Xvalid)\n",
    "print('regular error',np.sum(Predict!=Yvalid)/(1.*len(Yvalid))*100)\n",
    "#Balanced Error Rate from \"Feature Extraction\" by I. Guyon et al, Chapter 12\n",
    "# BER=1/2 *(#positive instances predicted worng/positive instances +\n",
    "#           #negative instances predicted worng/negative instances )\n",
    "\n",
    "pMask=(Yvalid==1)\n",
    "nMask=(Yvalid==-1)\n",
    "numPos=np.sum(pMask)\n",
    "numNeg=np.sum(nMask)\n",
    "\n",
    "# print type(Predict)\n",
    "# print type(positiveMask)\n",
    "# print(Predict[0:10].shape)\n",
    "# print(positiveMask.shape)\n",
    "# print Xtrain[positiveMask,:]\n",
    "\n",
    "P=Predict[pMask]+Yvalid[pMask]\n",
    "N=Predict[nMask]+Yvalid[nMask]\n",
    "errorP=np.sum(P==0)\n",
    "errorN=np.sum(N==0)\n",
    "print(errorP, errorN)\n",
    "print(numPos, numNeg)\n",
    "BEF=1.0/2*(errorP*1.0/numPos+errorN*1.0/numNeg)*100\n",
    "print('BEF', BEF)"
   ]
  },
  {
   "cell_type": "markdown",
   "metadata": {},
   "source": [
    "Thus, SVM gives 50% error.\n",
    "\n",
    "Now compute F-score of our data:"
   ]
  },
  {
   "cell_type": "code",
   "execution_count": 7,
   "metadata": {
    "collapsed": false
   },
   "outputs": [
    {
     "name": "stdout",
     "output_type": "stream",
     "text": [
      "(150, 150)\n",
      "((300, 19999), (1, 19999), (1, 19999), (1, 19999))\n",
      "(150, 150)\n"
     ]
    }
   ],
   "source": [
    "positiveMask=Ytrain==1\n",
    "negativeMask=Ytrain==-1\n",
    "numPos=np.sum(positiveMask)\n",
    "numNeg=np.sum(negativeMask)\n",
    "print(numPos, numNeg)\n",
    "Xposmean=Xtrain[positiveMask,:].mean(0)\n",
    "Xnegmean=Xtrain[negativeMask,:].mean(0)\n",
    "Xmean=Xtrain.mean(0)\n",
    "print(Xtrain.shape, Xposmean.shape, Xnegmean.shape, Xmean.shape)\n",
    "print(numPos, numNeg)"
   ]
  },
  {
   "cell_type": "code",
   "execution_count": 8,
   "metadata": {
    "collapsed": false
   },
   "outputs": [
    {
     "name": "stdout",
     "output_type": "stream",
     "text": [
      "((1, 19999), (1, 19999))\n",
      "((1, 19999), (1, 19999))\n",
      "((150, 19999), (150, 19999))\n",
      "(1, 19999)\n"
     ]
    }
   ],
   "source": [
    "# (np.square(Xposmean-Xmean)).shape\n",
    "\n",
    "print((Xposmean-Xmean).shape, (np.square(Xposmean-Xmean)).shape)\n",
    "print((Xnegmean-Xmean).shape, (np.square(Xnegmean-Xmean)).shape)\n",
    "print((Xtrain[positiveMask,:]-Xmean).shape, (np.square(Xtrain[positiveMask,:]-Xmean)).shape)\n",
    "print(np.sum(np.square(Xtrain[positiveMask,:]-Xmean), axis=0).shape)"
   ]
  },
  {
   "cell_type": "code",
   "execution_count": 16,
   "metadata": {
    "collapsed": false
   },
   "outputs": [
    {
     "name": "stdout",
     "output_type": "stream",
     "text": [
      "((1, 19999), (1, 19999))\n",
      "7751\n",
      "((19999,), (1, 19999))\n"
     ]
    }
   ],
   "source": [
    "numer=(np.square(Xposmean-Xmean)+np.square(Xnegmean-Xmean))\n",
    "denomin=np.sum(np.square(Xtrain[positiveMask,:]-Xposmean), axis=0)*1.0/(numPos-1)+np.sum(np.square(Xtrain[negativeMask,:]-Xnegmean), axis=0)*1.0/(numNeg-1)\n",
    "print(numer.shape, denomin.shape)\n",
    "\n",
    "FScore=np.zeros(numer.shape[1])\n",
    "index=FScore\n",
    "k=0 #keeps number of features that have nonzero F-score\n",
    "for i in range(numer.shape[1]):\n",
    "    if denomin[0,i]!=0:\n",
    "        FScore[k]=numer[0,i]/denomin[0,i]\n",
    "        index[k]=i\n",
    "        k+=1\n",
    "print k                 \n",
    "print(np.array(range(19999)).shape, numer[0,:].shape)"
   ]
  },
  {
   "cell_type": "code",
   "execution_count": 18,
   "metadata": {
    "collapsed": false
   },
   "outputs": [],
   "source": [
    "# plt.plot(numer[0,:],'ko')\n",
    "# plt.show()"
   ]
  },
  {
   "cell_type": "code",
   "execution_count": 19,
   "metadata": {
    "collapsed": false
   },
   "outputs": [
    {
     "name": "stdout",
     "output_type": "stream",
     "text": [
      "(150, 19999)\n",
      "(1, 19999)\n",
      "(150, 150)\n"
     ]
    }
   ],
   "source": [
    "A=np.square(Xtrain[negativeMask,:]-Xnegmean)\n",
    "print(A.shape)\n",
    "print((np.sum(A, axis=0)).shape)\n",
    "print(numPos, numNeg)"
   ]
  },
  {
   "cell_type": "code",
   "execution_count": 12,
   "metadata": {
    "collapsed": false
   },
   "outputs": [
    {
     "name": "stdout",
     "output_type": "stream",
     "text": [
      "[[ 0.          0.          0.         ...,  0.01742222  0.          2.31842222]]\n"
     ]
    },
    {
     "data": {
      "text/plain": [
       "[<matplotlib.lines.Line2D at 0x1354e2c50>]"
      ]
     },
     "execution_count": 12,
     "metadata": {},
     "output_type": "execute_result"
    },
    {
     "data": {
      "image/png": "[encoded data removed]",
      "text/plain": [
       "<matplotlib.figure.Figure at 0x10ab6e390>"
      ]
     },
     "metadata": {},
     "output_type": "display_data"
    }
   ],
   "source": [
    "print(numer[0,:])\n",
    "plt.plot(FScore[0:k],'ro')"
   ]
  },
  {
   "cell_type": "code",
   "execution_count": 31,
   "metadata": {
    "collapsed": false
   },
   "outputs": [
    {
     "data": {
      "text/plain": [
       "[<matplotlib.lines.Line2D at 0x10b136f50>]"
      ]
     },
     "execution_count": 31,
     "metadata": {},
     "output_type": "execute_result"
    },
    {
     "data": {
      "image/png": "[encoded data removed]",
      "text/plain": [
       "<matplotlib.figure.Figure at 0x10b051cd0>"
      ]
     },
     "metadata": {},
     "output_type": "display_data"
    }
   ],
   "source": [
    "plt.plot(index[0:k],'b*')"
   ]
  },
  {
   "cell_type": "code",
   "execution_count": 32,
   "metadata": {
    "collapsed": false
   },
   "outputs": [
    {
     "data": {
      "text/plain": [
       "array([  3.00000000e+00,   5.00000000e+00,   7.00000000e+00, ...,\n",
       "         1.99950000e+04,   1.99960000e+04,   1.99980000e+04])"
      ]
     },
     "execution_count": 32,
     "metadata": {},
     "output_type": "execute_result"
    }
   ],
   "source": [
    "index[0:k]"
   ]
  },
  {
   "cell_type": "code",
   "execution_count": 33,
   "metadata": {
    "collapsed": false
   },
   "outputs": [
    {
     "data": {
      "text/plain": [
       "7751"
      ]
     },
     "execution_count": 33,
     "metadata": {},
     "output_type": "execute_result"
    }
   ],
   "source": [
    "k"
   ]
  },
  {
   "cell_type": "code",
   "execution_count": 34,
   "metadata": {
    "collapsed": false
   },
   "outputs": [
    {
     "data": {
      "text/plain": [
       "7385"
      ]
     },
     "execution_count": 34,
     "metadata": {},
     "output_type": "execute_result"
    }
   ],
   "source": [
    " 9947-2562"
   ]
  },
  {
   "cell_type": "markdown",
   "metadata": {},
   "source": [
    "Apply SVM to features selected by high F-score"
   ]
  },
  {
   "cell_type": "code",
   "execution_count": 35,
   "metadata": {
    "collapsed": false
   },
   "outputs": [
    {
     "name": "stdout",
     "output_type": "stream",
     "text": [
      "(25, 19)\n",
      "(150, 150)\n",
      "('BEF', 14.666666666666666)\n"
     ]
    }
   ],
   "source": [
    "clf = svm.SVC()\n",
    "clf.fit(Xtrain[:,index[0:k]], Ytrain) \n",
    "Predict_Fscore=clf.predict(Xvalid[:,index[0:k]])\n",
    "pMask=(Yvalid==1)\n",
    "nMask=(Yvalid==-1)\n",
    "\n",
    "Pfscore=Predict_Fscore[pMask]+Yvalid[pMask]\n",
    "Nfscore=Predict_Fscore[nMask]+Yvalid[nMask]\n",
    "errorPfscore=np.sum(Pfscore==0)\n",
    "errorNfscore=np.sum(Nfscore==0)\n",
    "numPos=np.sum(pMask)\n",
    "numNeg=np.sum(nMask)\n",
    "print(errorPfscore, errorNfscore)\n",
    "print(numPos, numNeg)\n",
    "BEF=1.0/2*(errorPfscore*1.0/numPos+errorNfscore*1.0/numNeg)*100\n",
    "print('BEF', BEF)"
   ]
  },
  {
   "cell_type": "code",
   "execution_count": 21,
   "metadata": {
    "collapsed": false
   },
   "outputs": [
    {
     "name": "stdout",
     "output_type": "stream",
     "text": [
      "('regular error', 14.666666666666666)\n"
     ]
    }
   ],
   "source": [
    "print('regular error',np.sum(Predict_Fscore!=Yvalid)/(1.*len(Yvalid))*100)"
   ]
  },
  {
   "cell_type": "markdown",
   "metadata": {},
   "source": [
    "Thus, F-score+SVM gives 14.6% error."
   ]
  },
  {
   "cell_type": "code",
   "execution_count": 22,
   "metadata": {
    "collapsed": false
   },
   "outputs": [
    {
     "data": {
      "text/plain": [
       "7751"
      ]
     },
     "execution_count": 22,
     "metadata": {},
     "output_type": "execute_result"
    }
   ],
   "source": [
    "np.sum(FScore>0.015)"
   ]
  },
  {
   "cell_type": "code",
   "execution_count": 25,
   "metadata": {
    "collapsed": false
   },
   "outputs": [
    {
     "data": {
      "text/plain": [
       "(300,)"
      ]
     },
     "execution_count": 25,
     "metadata": {},
     "output_type": "execute_result"
    }
   ],
   "source": [
    "Predict_Fscore.shape"
   ]
  },
  {
   "cell_type": "code",
   "execution_count": null,
   "metadata": {
    "collapsed": true
   },
   "outputs": [],
   "source": []
  }
 ],
 "metadata": {
  "kernelspec": {
   "display_name": "Python 2",
   "language": "python",
   "name": "python2"
  },
  "language_info": {
   "codemirror_mode": {
    "name": "ipython",
    "version": 2
   },
   "file_extension": ".py",
   "mimetype": "text/x-python",
   "name": "python",
   "nbconvert_exporter": "python",
   "pygments_lexer": "ipython2",
   "version": "2.7.10"
  }
 },
 "nbformat": 4,
 "nbformat_minor": 0
}
