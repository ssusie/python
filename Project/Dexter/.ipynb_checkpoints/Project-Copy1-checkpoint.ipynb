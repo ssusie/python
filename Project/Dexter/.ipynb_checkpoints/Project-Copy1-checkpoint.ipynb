{
 "cells": [
  {
   "cell_type": "code",
   "execution_count": 1,
   "metadata": {
    "collapsed": false
   },
   "outputs": [],
   "source": [
    "%matplotlib inline\n",
    "import matplotlib.pyplot as plt\n",
    "import numpy as np\n",
    "from sklearn.datasets import load_svmlight_file\n",
    "import pdb\n",
    "from sklearn import svm, linear_model\n",
    "from sklearn.ensemble import RandomForestClassifier"
   ]
  },
  {
   "cell_type": "code",
   "execution_count": 2,
   "metadata": {
    "collapsed": false
   },
   "outputs": [],
   "source": [
    "# from itertools import izip_longest\n",
    "# import csv\n",
    "# with open('dexter_train.labels', 'rb') as csv1,open('dexter_train.data', 'rb') as csv2,open('concat.txt', 'w') as out:\n",
    "#     spam1 = csv.reader(csv2)\n",
    "#     spam2 = csv.reader(csv1)\n",
    "#     last_column=list(izip_longest(*spam2))[-1]\n",
    "#     for i,j in  izip_longest(spam1,last_column):\n",
    "#         out.write(','.join([t.strip(';') for t in i])+' '+j+'\\n')\n",
    "        \n",
    "from itertools import izip_longest\n",
    "import csv\n",
    "with open('dexter_train.labels', 'rb') as csv1,open('dexter_train.data', 'rb') as csv2,open('concat.txt', 'w') as out:\n",
    "    spam1 = csv.reader(csv1)\n",
    "    spam2 = csv.reader(csv2)\n",
    "    last_column=list(izip_longest(*spam2))[-1]\n",
    "    for i,j in  izip_longest(spam1,last_column):\n",
    "        out.write(','.join([t.strip(';') for t in i])+' '+j+'\\n')\n",
    "        \n",
    "from itertools import izip_longest\n",
    "import csv\n",
    "with open('dexter_valid.labels', 'rb') as csv1,open('dexter_valid.data', 'rb') as csv2,open('valid.txt', 'w') as out:\n",
    "    spam1 = csv.reader(csv1)\n",
    "    spam2 = csv.reader(csv2)\n",
    "    last_column=list(izip_longest(*spam2))[-1]\n",
    "    for i,j in  izip_longest(spam1,last_column):\n",
    "        out.write(','.join([t.strip(';') for t in i])+' '+j+'\\n')"
   ]
  },
  {
   "cell_type": "code",
   "execution_count": null,
   "metadata": {
    "collapsed": false
   },
   "outputs": [],
   "source": []
  },
  {
   "cell_type": "code",
   "execution_count": 20,
   "metadata": {
    "collapsed": false
   },
   "outputs": [],
   "source": [
    "trainLabl=np.genfromtxt('dexter_train.labels')\n",
    "# pdb.set_trace()\n",
    "TrainData = load_svmlight_file(\"concat.txt\")\n",
    "valid=load_svmlight_file('valid.txt')\n",
    "# trainData=np.genfromtxt('dexter_train.data')\n",
    "# param=np.genfromtxt('dexter.param')\n",
    "# valid=np.genfromtxt('dexter_valid.data')\n"
   ]
  },
  {
   "cell_type": "code",
   "execution_count": null,
   "metadata": {
    "collapsed": false
   },
   "outputs": [],
   "source": []
  },
  {
   "cell_type": "code",
   "execution_count": 25,
   "metadata": {
    "collapsed": true
   },
   "outputs": [],
   "source": [
    "Xtrain=TrainData[0]\n",
    "Ytrain=TrainData[1]\n",
    "Xvalid=valid[0]\n",
    "Yvalid=valid[1]"
   ]
  },
  {
   "cell_type": "code",
   "execution_count": 26,
   "metadata": {
    "collapsed": false
   },
   "outputs": [
    {
     "name": "stdout",
     "output_type": "stream",
     "text": [
      "('train', <100x100 sparse matrix of type '<type 'numpy.float64'>'\n",
      "\twith 26 stored elements in Compressed Sparse Row format>)\n",
      "('valid', <100x100 sparse matrix of type '<type 'numpy.float64'>'\n",
      "\twith 18 stored elements in Compressed Sparse Row format>)\n"
     ]
    }
   ],
   "source": [
    "print('train', Xtrain[0:100,0:100])\n",
    "print('valid', Xvalid[0:100,0:100])"
   ]
  },
  {
   "cell_type": "code",
   "execution_count": 6,
   "metadata": {
    "collapsed": false
   },
   "outputs": [
    {
     "data": {
      "text/plain": [
       "50.0"
      ]
     },
     "execution_count": 6,
     "metadata": {},
     "output_type": "execute_result"
    }
   ],
   "source": [
    "clf = svm.SVC()\n",
    "clf.fit(Xtrain, Ytrain) \n",
    "Predict=clf.predict(Xvalid)\n",
    "np.sum(Predict!=Yvalid)/(1.*len(Yvalid))*100"
   ]
  },
  {
   "cell_type": "code",
   "execution_count": 7,
   "metadata": {
    "collapsed": false
   },
   "outputs": [
    {
     "data": {
      "text/plain": [
       "(300, 19999)"
      ]
     },
     "execution_count": 7,
     "metadata": {},
     "output_type": "execute_result"
    }
   ],
   "source": [
    "Xtrain.shape\n"
   ]
  },
  {
   "cell_type": "code",
   "execution_count": null,
   "metadata": {
    "collapsed": false
   },
   "outputs": [],
   "source": []
  },
  {
   "cell_type": "markdown",
   "metadata": {},
   "source": [
    "#SVM  gives 50% error"
   ]
  },
  {
   "cell_type": "code",
   "execution_count": 8,
   "metadata": {
    "collapsed": false
   },
   "outputs": [
    {
     "name": "stdout",
     "output_type": "stream",
     "text": [
      "10.3333333333\n",
      "10.3333333333\n",
      "11.0\n",
      "12.3333333333\n",
      "9.0\n",
      "10.6666666667\n",
      "10.3333333333\n",
      "10.6666666667\n",
      "9.0\n",
      "12.0\n",
      "8.66666666667\n",
      "9.0\n",
      "11.3333333333\n",
      "9.66666666667\n",
      "10.0\n",
      "10.0\n",
      "8.0\n",
      "11.6666666667\n",
      "11.3333333333\n",
      "11.6666666667\n",
      "10.35\n"
     ]
    }
   ],
   "source": [
    "s=0\n",
    "N=20\n",
    "for j in range(N):\n",
    "#     clf = RandomForestClassifier()\n",
    "    clf = RandomForestClassifier(max_features=7375)\n",
    "    clf.fit(Xtrain.todense(), Ytrain)  \n",
    "    Predict=clf.predict(Xvalid)\n",
    "    s+=np.sum(Predict!=Yvalid)/(1.*len(Yvalid))*100\n",
    "    print(np.sum(Predict!=Yvalid)/(1.*len(Yvalid))*100)\n",
    "s=s/N\n",
    "print s"
   ]
  },
  {
   "cell_type": "code",
   "execution_count": null,
   "metadata": {
    "collapsed": false
   },
   "outputs": [],
   "source": []
  },
  {
   "cell_type": "markdown",
   "metadata": {},
   "source": [
    "# Random Forests give 17% errror"
   ]
  },
  {
   "cell_type": "code",
   "execution_count": 9,
   "metadata": {
    "collapsed": false
   },
   "outputs": [
    {
     "name": "stdout",
     "output_type": "stream",
     "text": [
      "(10.333333333333334, 0.1)\n",
      "(10.0, 0.08000000000000002)\n",
      "(10.666666666666668, 0.06400000000000002)\n",
      "(10.666666666666668, 0.051200000000000016)\n",
      "(10.666666666666668, 0.04096000000000002)\n",
      "(10.666666666666668, 0.03276800000000001)\n",
      "(10.333333333333334, 0.026214400000000013)\n",
      "(10.0, 0.02097152000000001)\n",
      "(9.6666666666666661, 0.016777216000000008)\n",
      "(9.3333333333333339, 0.013421772800000007)\n",
      "(10.0, 0.010737418240000006)\n",
      "(10.666666666666668, 0.008589934592000005)\n",
      "(10.333333333333334, 0.0068719476736000045)\n",
      "(11.0, 0.005497558138880004)\n",
      "(12.0, 0.004398046511104004)\n",
      "(10.666666666666668, 0.0035184372088832034)\n",
      "(12.333333333333334, 0.002814749767106563)\n",
      "(11.333333333333332, 0.0022517998136852503)\n",
      "(10.666666666666668, 0.0018014398509482003)\n",
      "(11.666666666666666, 0.0014411518807585604)\n"
     ]
    },
    {
     "name": "stderr",
     "output_type": "stream",
     "text": [
      "/Users/susiesargsyan/anaconda/lib/python2.7/site-packages/sklearn/linear_model/coordinate_descent.py:444: ConvergenceWarning: Objective did not converge. You might want to increase the number of iterations\n",
      "  ConvergenceWarning)\n"
     ]
    }
   ],
   "source": [
    "alpha=0.1\n",
    "for i in range(20):\n",
    "    clf = linear_model.Lasso(alpha)\n",
    "#     clf.fit(Xvalid.todense())\n",
    "    clf.fit(Xtrain, Ytrain)\n",
    "    Predict=clf.predict(Xvalid)\n",
    "    Predict[Predict>=0]=1\n",
    "    Predict[Predict<0]=-1\n",
    "    print(np.sum(Predict!=Yvalid)/(1.*len(Yvalid))*100, alpha)\n",
    "    alpha=0.8*alpha"
   ]
  },
  {
   "cell_type": "markdown",
   "metadata": {},
   "source": [
    "#Lasso is bad, ?% error, but try to combine with SVM\n",
    "\n",
    "\n",
    "####dum to try since it's a regression not classification, therefore we set a threshhold on prediction"
   ]
  },
  {
   "cell_type": "code",
   "execution_count": 10,
   "metadata": {
    "collapsed": false
   },
   "outputs": [
    {
     "name": "stdout",
     "output_type": "stream",
     "text": [
      "(9.6666666666666661, 0.5)\n",
      "(9.6666666666666661, 0.35)\n",
      "(10.0, 0.24499999999999997)\n",
      "(9.0, 0.17149999999999996)\n",
      "(8.0, 0.12004999999999996)\n",
      "(8.3333333333333321, 0.08403499999999997)\n",
      "(8.3333333333333321, 0.058824499999999974)\n",
      "(10.0, 0.04117714999999998)\n",
      "(9.6666666666666661, 0.028824004999999986)\n",
      "(10.0, 0.02017680349999999)\n",
      "(9.0, 0.014123762449999992)\n",
      "(9.0, 0.009886633714999994)\n",
      "(10.333333333333334, 0.006920643600499995)\n",
      "(10.0, 0.004844450520349996)\n",
      "(11.333333333333332, 0.003391115364244997)\n",
      "9.48888888889\n"
     ]
    }
   ],
   "source": [
    "lam=0.5\n",
    "s=0\n",
    "for i in range(15):\n",
    "    clf=svm.LinearSVC(penalty='l1', dual=False, C=lam)\n",
    "    clf.fit(Xtrain, Ytrain)\n",
    "    Predict=clf.predict(Xvalid)\n",
    "    s+=np.sum(Predict!=Yvalid)/(1.*len(Yvalid))*100\n",
    "    print(np.sum(Predict!=Yvalid)/(1.*len(Yvalid))*100, lam)\n",
    "    lam=0.7*lam\n",
    "    \n",
    "print s/15"
   ]
  },
  {
   "cell_type": "code",
   "execution_count": null,
   "metadata": {
    "collapsed": false
   },
   "outputs": [],
   "source": []
  },
  {
   "cell_type": "markdown",
   "metadata": {},
   "source": [
    "# gives 8.3% error, but random, every time different error"
   ]
  },
  {
   "cell_type": "code",
   "execution_count": 30,
   "metadata": {
    "collapsed": false
   },
   "outputs": [
    {
     "name": "stdout",
     "output_type": "stream",
     "text": [
      "(300,) [False  True False]\n"
     ]
    }
   ],
   "source": [
    "mask1=Ytrain==1\n",
    "mask2=Ytrain==-1\n",
    "print mask1.shape, mask2[0:3]"
   ]
  },
  {
   "cell_type": "code",
   "execution_count": 31,
   "metadata": {
    "collapsed": false
   },
   "outputs": [
    {
     "name": "stdout",
     "output_type": "stream",
     "text": [
      "(150, 19999) (150, 19999) (1, 19999) (1, 19999) (300, 19999)\n",
      "(19999,) (19999,)\n"
     ]
    }
   ],
   "source": [
    "X1=Xtrain[mask1,:]\n",
    "X2=Xtrain[mask2,:]\n",
    "mean1=X1.mean(0)\n",
    "mean2=X2.mean(0)\n",
    "M1=np.squeeze(np.asarray(mean1))\n",
    "M2=np.squeeze(np.asarray(mean2))\n",
    "print X1.shape, X2.shape,mean1.shape,mean2.shape, Xtrain.shape\n",
    "print M1.shape, M2.shape"
   ]
  },
  {
   "cell_type": "code",
   "execution_count": 32,
   "metadata": {
    "collapsed": false
   },
   "outputs": [
    {
     "data": {
      "text/plain": [
       "(19999,)"
      ]
     },
     "execution_count": 32,
     "metadata": {},
     "output_type": "execute_result"
    }
   ],
   "source": [
    "mask=abs(M1-M2)>5*10**(-1)\n",
    "mask.shape"
   ]
  },
  {
   "cell_type": "code",
   "execution_count": 33,
   "metadata": {
    "collapsed": false
   },
   "outputs": [
    {
     "data": {
      "text/plain": [
       "5223"
      ]
     },
     "execution_count": 33,
     "metadata": {},
     "output_type": "execute_result"
    }
   ],
   "source": [
    "np.sum(mask)"
   ]
  },
  {
   "cell_type": "code",
   "execution_count": 34,
   "metadata": {
    "collapsed": false
   },
   "outputs": [
    {
     "data": {
      "text/plain": [
       "(300, 5223)"
      ]
     },
     "execution_count": 34,
     "metadata": {},
     "output_type": "execute_result"
    }
   ],
   "source": [
    "XtrainNew=Xtrain[:,mask]\n",
    "XtrainNew.shape"
   ]
  },
  {
   "cell_type": "code",
   "execution_count": 35,
   "metadata": {
    "collapsed": false
   },
   "outputs": [
    {
     "data": {
      "text/plain": [
       "18.666666666666668"
      ]
     },
     "execution_count": 35,
     "metadata": {},
     "output_type": "execute_result"
    }
   ],
   "source": [
    "clf = svm.SVC()\n",
    "clf.fit(XtrainNew, Ytrain) \n",
    "Predict=clf.predict(Xvalid[:,mask])\n",
    "np.sum(Predict!=Yvalid)/(1.*len(Yvalid))*100"
   ]
  },
  {
   "cell_type": "code",
   "execution_count": 36,
   "metadata": {
    "collapsed": false
   },
   "outputs": [
    {
     "name": "stdout",
     "output_type": "stream",
     "text": [
      "11.0\n",
      "11.3333333333\n",
      "11.0\n",
      "11.6666666667\n",
      "12.0\n",
      "11.3333333333\n",
      "10.3333333333\n",
      "10.6666666667\n",
      "10.6666666667\n",
      "10.0\n",
      "10.3333333333\n",
      "10.6666666667\n",
      "12.6666666667\n",
      "15.3333333333\n",
      "15.6666666667\n",
      "15.6666666667\n",
      "17.3333333333\n",
      "20.0\n",
      "21.0\n",
      "22.6666666667\n"
     ]
    }
   ],
   "source": [
    "alpha=0.01\n",
    "for i in range(20):\n",
    "    clf = linear_model.Lasso(alpha)\n",
    "#     clf.fit(Xvalid.todense())\n",
    "    clf.fit(XtrainNew, Ytrain)\n",
    "    Predict=clf.predict(Xvalid[:,mask])\n",
    "    Predict[Predict>=0]=1\n",
    "    Predict[Predict<0]=-1\n",
    "    print np.sum(Predict!=Yvalid)/(1.*len(Yvalid))*100\n",
    "    alpha=0.8*alpha\n",
    "    \n"
   ]
  },
  {
   "cell_type": "code",
   "execution_count": 37,
   "metadata": {
    "collapsed": false
   },
   "outputs": [
    {
     "ename": "ValueError",
     "evalue": "max_features must be in (0, n_features]",
     "output_type": "error",
     "traceback": [
      "\u001b[0;31m---------------------------------------------------------------------------\u001b[0m",
      "\u001b[0;31mValueError\u001b[0m                                Traceback (most recent call last)",
      "\u001b[0;32m<ipython-input-37-0f7faa24a6a1>\u001b[0m in \u001b[0;36m<module>\u001b[0;34m()\u001b[0m\n\u001b[1;32m      4\u001b[0m \u001b[0;31m#     clf = RandomForestClassifier()\u001b[0m\u001b[0;34m\u001b[0m\u001b[0;34m\u001b[0m\u001b[0m\n\u001b[1;32m      5\u001b[0m     \u001b[0mclf\u001b[0m \u001b[0;34m=\u001b[0m \u001b[0mRandomForestClassifier\u001b[0m\u001b[0;34m(\u001b[0m\u001b[0mmax_features\u001b[0m\u001b[0;34m=\u001b[0m\u001b[0;36m7375\u001b[0m\u001b[0;34m)\u001b[0m\u001b[0;34m\u001b[0m\u001b[0m\n\u001b[0;32m----> 6\u001b[0;31m     \u001b[0mclf\u001b[0m\u001b[0;34m.\u001b[0m\u001b[0mfit\u001b[0m\u001b[0;34m(\u001b[0m\u001b[0mXtrainNew\u001b[0m\u001b[0;34m.\u001b[0m\u001b[0mtodense\u001b[0m\u001b[0;34m(\u001b[0m\u001b[0;34m)\u001b[0m\u001b[0;34m,\u001b[0m \u001b[0mYtrain\u001b[0m\u001b[0;34m)\u001b[0m\u001b[0;34m\u001b[0m\u001b[0m\n\u001b[0m\u001b[1;32m      7\u001b[0m     \u001b[0mPredict\u001b[0m\u001b[0;34m=\u001b[0m\u001b[0mclf\u001b[0m\u001b[0;34m.\u001b[0m\u001b[0mpredict\u001b[0m\u001b[0;34m(\u001b[0m\u001b[0mXvalid\u001b[0m\u001b[0;34m[\u001b[0m\u001b[0;34m:\u001b[0m\u001b[0;34m,\u001b[0m\u001b[0mmask\u001b[0m\u001b[0;34m]\u001b[0m\u001b[0;34m)\u001b[0m\u001b[0;34m\u001b[0m\u001b[0m\n\u001b[1;32m      8\u001b[0m     \u001b[0ms\u001b[0m\u001b[0;34m+=\u001b[0m\u001b[0mnp\u001b[0m\u001b[0;34m.\u001b[0m\u001b[0msum\u001b[0m\u001b[0;34m(\u001b[0m\u001b[0mPredict\u001b[0m\u001b[0;34m!=\u001b[0m\u001b[0mYvalid\u001b[0m\u001b[0;34m)\u001b[0m\u001b[0;34m/\u001b[0m\u001b[0;34m(\u001b[0m\u001b[0;36m1.\u001b[0m\u001b[0;34m*\u001b[0m\u001b[0mlen\u001b[0m\u001b[0;34m(\u001b[0m\u001b[0mYvalid\u001b[0m\u001b[0;34m)\u001b[0m\u001b[0;34m)\u001b[0m\u001b[0;34m*\u001b[0m\u001b[0;36m100\u001b[0m\u001b[0;34m\u001b[0m\u001b[0m\n",
      "\u001b[0;32m/Users/susiesargsyan/anaconda/lib/python2.7/site-packages/sklearn/ensemble/forest.pyc\u001b[0m in \u001b[0;36mfit\u001b[0;34m(self, X, y, sample_weight)\u001b[0m\n\u001b[1;32m    271\u001b[0m                     \u001b[0mt\u001b[0m\u001b[0;34m,\u001b[0m \u001b[0mself\u001b[0m\u001b[0;34m,\u001b[0m \u001b[0mX\u001b[0m\u001b[0;34m,\u001b[0m \u001b[0my\u001b[0m\u001b[0;34m,\u001b[0m \u001b[0msample_weight\u001b[0m\u001b[0;34m,\u001b[0m \u001b[0mi\u001b[0m\u001b[0;34m,\u001b[0m \u001b[0mlen\u001b[0m\u001b[0;34m(\u001b[0m\u001b[0mtrees\u001b[0m\u001b[0;34m)\u001b[0m\u001b[0;34m,\u001b[0m\u001b[0;34m\u001b[0m\u001b[0m\n\u001b[1;32m    272\u001b[0m                     verbose=self.verbose, class_weight=self.class_weight)\n\u001b[0;32m--> 273\u001b[0;31m                 for i, t in enumerate(trees))\n\u001b[0m\u001b[1;32m    274\u001b[0m \u001b[0;34m\u001b[0m\u001b[0m\n\u001b[1;32m    275\u001b[0m             \u001b[0;31m# Collect newly grown trees\u001b[0m\u001b[0;34m\u001b[0m\u001b[0;34m\u001b[0m\u001b[0m\n",
      "\u001b[0;32m/Users/susiesargsyan/anaconda/lib/python2.7/site-packages/sklearn/externals/joblib/parallel.pyc\u001b[0m in \u001b[0;36m__call__\u001b[0;34m(self, iterable)\u001b[0m\n\u001b[1;32m    657\u001b[0m             \u001b[0mself\u001b[0m\u001b[0;34m.\u001b[0m\u001b[0m_iterating\u001b[0m \u001b[0;34m=\u001b[0m \u001b[0mTrue\u001b[0m\u001b[0;34m\u001b[0m\u001b[0m\n\u001b[1;32m    658\u001b[0m             \u001b[0;32mfor\u001b[0m \u001b[0mfunction\u001b[0m\u001b[0;34m,\u001b[0m \u001b[0margs\u001b[0m\u001b[0;34m,\u001b[0m \u001b[0mkwargs\u001b[0m \u001b[0;32min\u001b[0m \u001b[0miterable\u001b[0m\u001b[0;34m:\u001b[0m\u001b[0;34m\u001b[0m\u001b[0m\n\u001b[0;32m--> 659\u001b[0;31m                 \u001b[0mself\u001b[0m\u001b[0;34m.\u001b[0m\u001b[0mdispatch\u001b[0m\u001b[0;34m(\u001b[0m\u001b[0mfunction\u001b[0m\u001b[0;34m,\u001b[0m \u001b[0margs\u001b[0m\u001b[0;34m,\u001b[0m \u001b[0mkwargs\u001b[0m\u001b[0;34m)\u001b[0m\u001b[0;34m\u001b[0m\u001b[0m\n\u001b[0m\u001b[1;32m    660\u001b[0m \u001b[0;34m\u001b[0m\u001b[0m\n\u001b[1;32m    661\u001b[0m             \u001b[0;32mif\u001b[0m \u001b[0mpre_dispatch\u001b[0m \u001b[0;34m==\u001b[0m \u001b[0;34m\"all\"\u001b[0m \u001b[0;32mor\u001b[0m \u001b[0mn_jobs\u001b[0m \u001b[0;34m==\u001b[0m \u001b[0;36m1\u001b[0m\u001b[0;34m:\u001b[0m\u001b[0;34m\u001b[0m\u001b[0m\n",
      "\u001b[0;32m/Users/susiesargsyan/anaconda/lib/python2.7/site-packages/sklearn/externals/joblib/parallel.pyc\u001b[0m in \u001b[0;36mdispatch\u001b[0;34m(self, func, args, kwargs)\u001b[0m\n\u001b[1;32m    404\u001b[0m         \"\"\"\n\u001b[1;32m    405\u001b[0m         \u001b[0;32mif\u001b[0m \u001b[0mself\u001b[0m\u001b[0;34m.\u001b[0m\u001b[0m_pool\u001b[0m \u001b[0;32mis\u001b[0m \u001b[0mNone\u001b[0m\u001b[0;34m:\u001b[0m\u001b[0;34m\u001b[0m\u001b[0m\n\u001b[0;32m--> 406\u001b[0;31m             \u001b[0mjob\u001b[0m \u001b[0;34m=\u001b[0m \u001b[0mImmediateApply\u001b[0m\u001b[0;34m(\u001b[0m\u001b[0mfunc\u001b[0m\u001b[0;34m,\u001b[0m \u001b[0margs\u001b[0m\u001b[0;34m,\u001b[0m \u001b[0mkwargs\u001b[0m\u001b[0;34m)\u001b[0m\u001b[0;34m\u001b[0m\u001b[0m\n\u001b[0m\u001b[1;32m    407\u001b[0m             \u001b[0mindex\u001b[0m \u001b[0;34m=\u001b[0m \u001b[0mlen\u001b[0m\u001b[0;34m(\u001b[0m\u001b[0mself\u001b[0m\u001b[0;34m.\u001b[0m\u001b[0m_jobs\u001b[0m\u001b[0;34m)\u001b[0m\u001b[0;34m\u001b[0m\u001b[0m\n\u001b[1;32m    408\u001b[0m             \u001b[0;32mif\u001b[0m \u001b[0;32mnot\u001b[0m \u001b[0m_verbosity_filter\u001b[0m\u001b[0;34m(\u001b[0m\u001b[0mindex\u001b[0m\u001b[0;34m,\u001b[0m \u001b[0mself\u001b[0m\u001b[0;34m.\u001b[0m\u001b[0mverbose\u001b[0m\u001b[0;34m)\u001b[0m\u001b[0;34m:\u001b[0m\u001b[0;34m\u001b[0m\u001b[0m\n",
      "\u001b[0;32m/Users/susiesargsyan/anaconda/lib/python2.7/site-packages/sklearn/externals/joblib/parallel.pyc\u001b[0m in \u001b[0;36m__init__\u001b[0;34m(self, func, args, kwargs)\u001b[0m\n\u001b[1;32m    138\u001b[0m         \u001b[0;31m# Don't delay the application, to avoid keeping the input\u001b[0m\u001b[0;34m\u001b[0m\u001b[0;34m\u001b[0m\u001b[0m\n\u001b[1;32m    139\u001b[0m         \u001b[0;31m# arguments in memory\u001b[0m\u001b[0;34m\u001b[0m\u001b[0;34m\u001b[0m\u001b[0m\n\u001b[0;32m--> 140\u001b[0;31m         \u001b[0mself\u001b[0m\u001b[0;34m.\u001b[0m\u001b[0mresults\u001b[0m \u001b[0;34m=\u001b[0m \u001b[0mfunc\u001b[0m\u001b[0;34m(\u001b[0m\u001b[0;34m*\u001b[0m\u001b[0margs\u001b[0m\u001b[0;34m,\u001b[0m \u001b[0;34m**\u001b[0m\u001b[0mkwargs\u001b[0m\u001b[0;34m)\u001b[0m\u001b[0;34m\u001b[0m\u001b[0m\n\u001b[0m\u001b[1;32m    141\u001b[0m \u001b[0;34m\u001b[0m\u001b[0m\n\u001b[1;32m    142\u001b[0m     \u001b[0;32mdef\u001b[0m \u001b[0mget\u001b[0m\u001b[0;34m(\u001b[0m\u001b[0mself\u001b[0m\u001b[0;34m)\u001b[0m\u001b[0;34m:\u001b[0m\u001b[0;34m\u001b[0m\u001b[0m\n",
      "\u001b[0;32m/Users/susiesargsyan/anaconda/lib/python2.7/site-packages/sklearn/ensemble/forest.pyc\u001b[0m in \u001b[0;36m_parallel_build_trees\u001b[0;34m(tree, forest, X, y, sample_weight, tree_idx, n_trees, verbose, class_weight)\u001b[0m\n\u001b[1;32m     92\u001b[0m             \u001b[0mcurr_sample_weight\u001b[0m \u001b[0;34m*=\u001b[0m \u001b[0mcompute_sample_weight\u001b[0m\u001b[0;34m(\u001b[0m\u001b[0;34m'auto'\u001b[0m\u001b[0;34m,\u001b[0m \u001b[0my\u001b[0m\u001b[0;34m,\u001b[0m \u001b[0mindices\u001b[0m\u001b[0;34m)\u001b[0m\u001b[0;34m\u001b[0m\u001b[0m\n\u001b[1;32m     93\u001b[0m \u001b[0;34m\u001b[0m\u001b[0m\n\u001b[0;32m---> 94\u001b[0;31m         \u001b[0mtree\u001b[0m\u001b[0;34m.\u001b[0m\u001b[0mfit\u001b[0m\u001b[0;34m(\u001b[0m\u001b[0mX\u001b[0m\u001b[0;34m,\u001b[0m \u001b[0my\u001b[0m\u001b[0;34m,\u001b[0m \u001b[0msample_weight\u001b[0m\u001b[0;34m=\u001b[0m\u001b[0mcurr_sample_weight\u001b[0m\u001b[0;34m,\u001b[0m \u001b[0mcheck_input\u001b[0m\u001b[0;34m=\u001b[0m\u001b[0mFalse\u001b[0m\u001b[0;34m)\u001b[0m\u001b[0;34m\u001b[0m\u001b[0m\n\u001b[0m\u001b[1;32m     95\u001b[0m \u001b[0;34m\u001b[0m\u001b[0m\n\u001b[1;32m     96\u001b[0m         \u001b[0mtree\u001b[0m\u001b[0;34m.\u001b[0m\u001b[0mindices_\u001b[0m \u001b[0;34m=\u001b[0m \u001b[0msample_counts\u001b[0m \u001b[0;34m>\u001b[0m \u001b[0;36m0.\u001b[0m\u001b[0;34m\u001b[0m\u001b[0m\n",
      "\u001b[0;32m/Users/susiesargsyan/anaconda/lib/python2.7/site-packages/sklearn/tree/tree.pyc\u001b[0m in \u001b[0;36mfit\u001b[0;34m(self, X, y, sample_weight, check_input)\u001b[0m\n\u001b[1;32m    229\u001b[0m             \u001b[0;32mraise\u001b[0m \u001b[0mValueError\u001b[0m\u001b[0;34m(\u001b[0m\u001b[0;34m\"max_depth must be greater than zero. \"\u001b[0m\u001b[0;34m)\u001b[0m\u001b[0;34m\u001b[0m\u001b[0m\n\u001b[1;32m    230\u001b[0m         \u001b[0;32mif\u001b[0m \u001b[0;32mnot\u001b[0m \u001b[0;34m(\u001b[0m\u001b[0;36m0\u001b[0m \u001b[0;34m<\u001b[0m \u001b[0mmax_features\u001b[0m \u001b[0;34m<=\u001b[0m \u001b[0mself\u001b[0m\u001b[0;34m.\u001b[0m\u001b[0mn_features_\u001b[0m\u001b[0;34m)\u001b[0m\u001b[0;34m:\u001b[0m\u001b[0;34m\u001b[0m\u001b[0m\n\u001b[0;32m--> 231\u001b[0;31m             \u001b[0;32mraise\u001b[0m \u001b[0mValueError\u001b[0m\u001b[0;34m(\u001b[0m\u001b[0;34m\"max_features must be in (0, n_features]\"\u001b[0m\u001b[0;34m)\u001b[0m\u001b[0;34m\u001b[0m\u001b[0m\n\u001b[0m\u001b[1;32m    232\u001b[0m         \u001b[0;32mif\u001b[0m \u001b[0;32mnot\u001b[0m \u001b[0misinstance\u001b[0m\u001b[0;34m(\u001b[0m\u001b[0mmax_leaf_nodes\u001b[0m\u001b[0;34m,\u001b[0m \u001b[0;34m(\u001b[0m\u001b[0mnumbers\u001b[0m\u001b[0;34m.\u001b[0m\u001b[0mIntegral\u001b[0m\u001b[0;34m,\u001b[0m \u001b[0mnp\u001b[0m\u001b[0;34m.\u001b[0m\u001b[0minteger\u001b[0m\u001b[0;34m)\u001b[0m\u001b[0;34m)\u001b[0m\u001b[0;34m:\u001b[0m\u001b[0;34m\u001b[0m\u001b[0m\n\u001b[1;32m    233\u001b[0m             raise ValueError(\"max_leaf_nodes must be integral number but was \"\n",
      "\u001b[0;31mValueError\u001b[0m: max_features must be in (0, n_features]"
     ]
    }
   ],
   "source": [
    "s=0\n",
    "N=20\n",
    "for j in range(N):\n",
    "#     clf = RandomForestClassifier()\n",
    "    clf = RandomForestClassifier(max_features=7375)\n",
    "    clf.fit(XtrainNew.todense(), Ytrain)  \n",
    "    Predict=clf.predict(Xvalid[:,mask])\n",
    "    s+=np.sum(Predict!=Yvalid)/(1.*len(Yvalid))*100\n",
    "    print(np.sum(Predict!=Yvalid)/(1.*len(Yvalid))*100)\n",
    "s=s/N\n",
    "print s"
   ]
  },
  {
   "cell_type": "markdown",
   "metadata": {},
   "source": [
    "### computing mean and picking features that have big mean differences for different classes improved random forest but not svm"
   ]
  },
  {
   "cell_type": "code",
   "execution_count": 6,
   "metadata": {
    "collapsed": true
   },
   "outputs": [],
   "source": [
    "Xdense=Xtrain.todense()\n",
    "Xdense=(Xdense-Xdense.mean(1)).T"
   ]
  },
  {
   "cell_type": "code",
   "execution_count": 7,
   "metadata": {
    "collapsed": true
   },
   "outputs": [],
   "source": [
    "U,S,V=np.linalg.svd(Xdense, full_matrices=False)"
   ]
  },
  {
   "cell_type": "code",
   "execution_count": 8,
   "metadata": {
    "collapsed": false
   },
   "outputs": [
    {
     "name": "stdout",
     "output_type": "stream",
     "text": [
      "(19999, 300) (300,) (300, 300)\n"
     ]
    }
   ],
   "source": [
    "print U.shape, S.shape, V.shape\n"
   ]
  },
  {
   "cell_type": "code",
   "execution_count": 9,
   "metadata": {
    "collapsed": false
   },
   "outputs": [
    {
     "name": "stdout",
     "output_type": "stream",
     "text": [
      "(300,)\n"
     ]
    },
    {
     "data": {
      "text/plain": [
       "[<matplotlib.lines.Line2D at 0x113519f10>]"
      ]
     },
     "execution_count": 9,
     "metadata": {},
     "output_type": "execute_result"
    },
    {
     "data": {
      "image/png": "[encoded data removed]",
      "text/plain": [
       "<matplotlib.figure.Figure at 0x1039c1290>"
      ]
     },
     "metadata": {},
     "output_type": "display_data"
    }
   ],
   "source": [
    "sigma=S/np.sum(S)\n",
    "print (S**2).shape\n",
    "plt.plot(sigma,'ko')"
   ]
  },
  {
   "cell_type": "code",
   "execution_count": 15,
   "metadata": {
    "collapsed": false
   },
   "outputs": [
    {
     "name": "stdout",
     "output_type": "stream",
     "text": [
      "(300, 300)\n"
     ]
    }
   ],
   "source": [
    "NewFeatures=np.diag(S)*V.T\n",
    "print NewFeatures.shape\n",
    "NewFeatures=NewFeatures.T"
   ]
  },
  {
   "cell_type": "code",
   "execution_count": 18,
   "metadata": {
    "collapsed": false
   },
   "outputs": [
    {
     "name": "stdout",
     "output_type": "stream",
     "text": [
      "50.0\n",
      "47.6666666667\n",
      "49.6666666667\n",
      "53.3333333333\n",
      "51.0\n",
      "48.6666666667\n",
      "50.6666666667\n",
      "50.3333333333\n",
      "53.0\n",
      "52.6666666667\n",
      "50.0\n",
      "49.6666666667\n",
      "52.0\n",
      "53.6666666667\n",
      "46.3333333333\n",
      "48.0\n",
      "45.6666666667\n",
      "51.3333333333\n",
      "46.3333333333\n",
      "48.3333333333\n",
      "49.9166666667\n"
     ]
    }
   ],
   "source": [
    "s=0\n",
    "N=20\n",
    "for j in range(N):\n",
    "#     clf = RandomForestClassifier()\n",
    "    clf = RandomForestClassifier()\n",
    "    clf.fit(NewFeatures, Ytrain)  \n",
    "    Predict=clf.predict(Xvalid*U)\n",
    "    s+=np.sum(Predict!=Yvalid)/(1.*len(Yvalid))*100\n",
    "    print(np.sum(Predict!=Yvalid)/(1.*len(Yvalid))*100)\n",
    "s=s/N\n",
    "print s"
   ]
  },
  {
   "cell_type": "code",
   "execution_count": null,
   "metadata": {
    "collapsed": true
   },
   "outputs": [],
   "source": []
  }
 ],
 "metadata": {
  "kernelspec": {
   "display_name": "Python 2",
   "language": "python",
   "name": "python2"
  },
  "language_info": {
   "codemirror_mode": {
    "name": "ipython",
    "version": 2
   },
   "file_extension": ".py",
   "mimetype": "text/x-python",
   "name": "python",
   "nbconvert_exporter": "python",
   "pygments_lexer": "ipython2",
   "version": "2.7.10"
  }
 },
 "nbformat": 4,
 "nbformat_minor": 0
}
