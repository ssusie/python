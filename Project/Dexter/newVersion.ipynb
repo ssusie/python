{
 "cells": [
  {
   "cell_type": "code",
   "execution_count": 1,
   "metadata": {
    "collapsed": true
   },
   "outputs": [],
   "source": [
    "%matplotlib inline\n",
    "import matplotlib.pyplot as plt\n",
    "import numpy as np\n",
    "from sklearn.datasets import load_svmlight_file\n",
    "import pdb\n",
    "from sklearn import svm, linear_model\n",
    "from sklearn.ensemble import RandomForestClassifier\n",
    "import random"
   ]
  },
  {
   "cell_type": "code",
   "execution_count": 2,
   "metadata": {
    "collapsed": true
   },
   "outputs": [],
   "source": [
    "#Load data from given files\n",
    "from itertools import izip_longest\n",
    "import csv\n",
    "with open('dexter_train.labels', 'rb') as csv1,open('dexter_train.data', 'rb') as csv2,open('concat.txt', 'w') as out:\n",
    "    spam1 = csv.reader(csv1)\n",
    "    spam2 = csv.reader(csv2)\n",
    "    last_column=list(izip_longest(*spam2))[-1]\n",
    "    for i,j in  izip_longest(spam1,last_column):\n",
    "        out.write(','.join([t.strip(';') for t in i])+' '+j+'\\n')\n",
    "        \n",
    "from itertools import izip_longest\n",
    "import csv\n",
    "with open('dexter_valid.labels', 'rb') as csv1,open('dexter_valid.data', 'rb') as csv2,open('valid.txt', 'w') as out:\n",
    "    spam1 = csv.reader(csv1)\n",
    "    spam2 = csv.reader(csv2)\n",
    "    last_column=list(izip_longest(*spam2))[-1]\n",
    "    for i,j in  izip_longest(spam1,last_column):\n",
    "        out.write(','.join([t.strip(';') for t in i])+' '+j+'\\n')"
   ]
  },
  {
   "cell_type": "code",
   "execution_count": 3,
   "metadata": {
    "collapsed": true
   },
   "outputs": [],
   "source": [
    "TrainData = load_svmlight_file(\"concat.txt\")#created in the cell above\n",
    "valid=load_svmlight_file('valid.txt')#created in the cell above"
   ]
  },
  {
   "cell_type": "code",
   "execution_count": 4,
   "metadata": {
    "collapsed": true
   },
   "outputs": [],
   "source": [
    "X=TrainData[0] #training data\n",
    "Ytrain=TrainData[1] #training label\n",
    "Xv=valid[0] # validating data\n",
    "Yvalid=valid[1] # validating labels\n",
    "N,d=X.shape"
   ]
  },
  {
   "cell_type": "code",
   "execution_count": null,
   "metadata": {
    "collapsed": false
   },
   "outputs": [],
   "source": []
  },
  {
   "cell_type": "code",
   "execution_count": 5,
   "metadata": {
    "collapsed": false
   },
   "outputs": [
    {
     "name": "stdout",
     "output_type": "stream",
     "text": [
      "((300, 19999), (300, 19999))\n",
      "1.0\n",
      "1.0\n"
     ]
    }
   ],
   "source": [
    "Xtrain=X.multiply(1/np.sqrt(X.multiply(X).sum(1))) #normalize each row\n",
    "Xvalid=Xv.multiply(1/np.sqrt(Xv.multiply(Xv).sum(1))) #normalize each row\n",
    "print(Xtrain.shape, Xvalid.shape)\n",
    "print(np.linalg.norm(Xtrain[100,:]))\n",
    "print(np.linalg.norm(Xvalid[100,:]))"
   ]
  },
  {
   "cell_type": "code",
   "execution_count": 25,
   "metadata": {
    "collapsed": false
   },
   "outputs": [
    {
     "name": "stdout",
     "output_type": "stream",
     "text": [
      "((300, 19999), (1, 19999), (1, 19999), (1, 19999))\n"
     ]
    }
   ],
   "source": [
    "train_index=random.sample(range(Xtrain.shape[0]), 270 ) # 90% for training, 20% for cross-validation\n",
    "cv_index=list(set(range(Xtrain.shape[0]))-set(train_index)) #cross-validation set\n",
    "Xtr=Xtrain\n",
    "Ytr=Ytrain\n",
    "Xcv=Xtrain[cv_index,:]\n",
    "Ycv=Ytrain[cv_index]\n",
    "pMask=(Yvalid==1)\n",
    "nMask=(Yvalid==-1)\n",
    "positiveMask=Ytr==1  # indices of positive points\n",
    "negativeMask=Ytr==-1 # indices of negative points\n",
    "numPos=np.sum(positiveMask) # total number of positive points\n",
    "numNeg=np.sum(negativeMask) # total number of negative points\n",
    "Xposmean=Xtr[positiveMask,:].mean(0) # take the mean of each column of positive data\n",
    "Xnegmean=Xtr[negativeMask,:].mean(0) # take the mean of each column of negative data\n",
    "Xmean=Xtr.mean(0) # mean of features accooss all data points\n",
    "print(Xtr.shape, Xposmean.shape, Xnegmean.shape, Xmean.shape)"
   ]
  },
  {
   "cell_type": "code",
   "execution_count": 9,
   "metadata": {
    "collapsed": true
   },
   "outputs": [],
   "source": [
    "def BalancedErrorRate(posMask, negMask, Predict):\n",
    "    Psvm=Predict[posMask]+Yvalid[posMask] #if zero, then worng prediction on positive class\n",
    "    Nsvm=Predict[negMask]+Yvalid[negMask] #if zero, then worng prediction on negative class\n",
    "    errorPsvm=np.sum(Psvm==0) #total number of wrong predicted positive instances\n",
    "    errorNsvm=np.sum(Nsvm==0) #total number of wrong predicted negative instances\n",
    "    numPos=np.sum(posMask) #total number of true positive instances\n",
    "    numNeg=np.sum(negMask) #total number of true negative instances\n",
    "#     print('number of wrong predicted positive instances',errorPsvm, 'number of wrong predicted negative instances',errorNsvm)\n",
    "#     print('number of true negative instances',numPos, 'number of true negative instances', numNeg)\n",
    "    bef= 1.0/2*(errorPsvm*1.0/numPos+errorNsvm*1.0/numNeg)*100\n",
    "#     print('BEF', bef)\n",
    "    return bef"
   ]
  },
  {
   "cell_type": "code",
   "execution_count": 12,
   "metadata": {
    "collapsed": false
   },
   "outputs": [
    {
     "name": "stdout",
     "output_type": "stream",
     "text": [
      "('regular error', 39.666666666666664)\n",
      "('BEF', 39.666666666666664)\n"
     ]
    }
   ],
   "source": [
    "# Use SVM\n",
    "clf = svm.SVC()\n",
    "clf.fit(Xtr, Ytr) \n",
    "PredictSVM=clf.predict(Xvalid)\n",
    "print('regular error',np.sum(PredictSVM!=Yvalid)/(1.*len(Yvalid))*100)\n",
    "# Balanced Error Rate from \"Feature Extraction\" by I. Guyon et al, Chapter 12\n",
    "# BER=1/2 *(#positive instances predicted worng/positive instances +\n",
    "#           #negative instances predicted worng/negative instances )\n",
    "\n",
    "BEF=BalancedErrorRate(pMask, nMask, PredictSVM)\n",
    "print('BEF', BEF)"
   ]
  },
  {
   "cell_type": "markdown",
   "metadata": {
    "collapsed": false
   },
   "source": [
    "## Compute F-score for selecting features"
   ]
  },
  {
   "cell_type": "code",
   "execution_count": 26,
   "metadata": {
    "collapsed": false
   },
   "outputs": [
    {
     "name": "stdout",
     "output_type": "stream",
     "text": [
      "((1, 19999), (1, 19999))\n"
     ]
    }
   ],
   "source": [
    "numer=(np.square(Xposmean-Xmean)+np.square(Xnegmean-Xmean)) # numerator for F-score\n",
    "denomin=np.sum(np.square(Xtrain[positiveMask,:]-Xposmean), axis=0)*1.0/(numPos-1)+ \\\n",
    "np.sum(np.square(Xtrain[negativeMask,:]-Xnegmean), axis=0)*1.0/(numNeg-1) # denominator for F-score\n",
    "print(numer.shape, denomin.shape)"
   ]
  },
  {
   "cell_type": "code",
   "execution_count": 27,
   "metadata": {
    "collapsed": false
   },
   "outputs": [
    {
     "name": "stdout",
     "output_type": "stream",
     "text": [
      "('k', 7751)\n"
     ]
    }
   ],
   "source": [
    "FScore=np.zeros(numer.shape[1])  # initialize\n",
    "ind=np.zeros(numer.shape[1]) #keeps indixes of features that have nonzero F-score\n",
    "k=0 #keeps number of features that have nonzero F-score\n",
    "for i in range(numer.shape[1]):\n",
    "    if denomin[0,i]!=0: # otherwise it's =0\n",
    "        FScore[k]=numer[0,i]/denomin[0,i] # compute F-score\n",
    "        ind[k]=i # index of nonzero F-score\n",
    "        k+=1 # increase the number of featurs having nonzero F-score \n",
    "print('k',k)   \n",
    "index=ind[0:k].astype(int) # only first k values are indices needed"
   ]
  },
  {
   "cell_type": "code",
   "execution_count": 28,
   "metadata": {
    "collapsed": false
   },
   "outputs": [
    {
     "data": {
      "text/plain": [
       "<matplotlib.text.Text at 0x113cb17d0>"
      ]
     },
     "execution_count": 28,
     "metadata": {},
     "output_type": "execute_result"
    },
    {
     "data": {
      "image/png": "[encoded data removed]",
      "text/plain": [
       "<matplotlib.figure.Figure at 0x113ab3890>"
      ]
     },
     "metadata": {},
     "output_type": "display_data"
    }
   ],
   "source": [
    "plt.plot(np.sort(FScore[index]),'ro')\n",
    "plt.title('  nonzero F-score ')"
   ]
  },
  {
   "cell_type": "code",
   "execution_count": 22,
   "metadata": {
    "collapsed": false
   },
   "outputs": [],
   "source": [
    "thresh=0.005\n",
    "maskF=FScore>thresh # keep features whose F-score is grater than threshhold\n",
    "\n",
    "I=maskF\n",
    "# print len(I)"
   ]
  },
  {
   "cell_type": "code",
   "execution_count": 32,
   "metadata": {
    "collapsed": false
   },
   "outputs": [
    {
     "name": "stdout",
     "output_type": "stream",
     "text": [
      "(0, 14)\n",
      "(12, 18)\n",
      "('BEF', 38.888888888888893)\n"
     ]
    }
   ],
   "source": [
    "# Predict_Fscore=None\n",
    "# pMask=None\n",
    "# nMask=None\n",
    "# Pfscore=None\n",
    "# Nfscore=None\n",
    "# print(pMask)\n",
    "clf = svm.SVC()\n",
    "clf.fit(Xtr[:,I], Ytr) \n",
    "Predict_Fscore=clf.predict(Xcv[:,I])\n",
    "pvMask=(Ycv==1)\n",
    "nvMask=(Ycv==-1)\n",
    "\n",
    "Pvfscore=Predict_Fscore[pvMask]+Ycv[pvMask]\n",
    "Nvfscore=Predict_Fscore[nvMask]+Ycv[nvMask]\n",
    "errorPvfscore=np.sum(Pvfscore==0)\n",
    "errorNvfscore=np.sum(Nvfscore==0)\n",
    "numPosv=np.sum(pvMask)\n",
    "numNegv=np.sum(nvMask)\n",
    "print(errorPvfscore, errorNvfscore)\n",
    "print(numPosv, numNegv)\n",
    "BEF=1.0/2*(errorPvfscore*1.0/numPosv+errorNvfscore*1.0/numNegv)*100\n",
    "print('BEF', BEF)"
   ]
  },
  {
   "cell_type": "code",
   "execution_count": 34,
   "metadata": {
    "collapsed": false
   },
   "outputs": [
    {
     "data": {
      "text/plain": [
       "(270, 543)"
      ]
     },
     "execution_count": 34,
     "metadata": {},
     "output_type": "execute_result"
    }
   ],
   "source": [
    "Xtr[:,I].shape"
   ]
  },
  {
   "cell_type": "code",
   "execution_count": null,
   "metadata": {
    "collapsed": true
   },
   "outputs": [],
   "source": []
  }
 ],
 "metadata": {
  "kernelspec": {
   "display_name": "Python 2",
   "language": "python",
   "name": "python2"
  },
  "language_info": {
   "codemirror_mode": {
    "name": "ipython",
    "version": 2
   },
   "file_extension": ".py",
   "mimetype": "text/x-python",
   "name": "python",
   "nbconvert_exporter": "python",
   "pygments_lexer": "ipython2",
   "version": "2.7.10"
  }
 },
 "nbformat": 4,
 "nbformat_minor": 0
}
