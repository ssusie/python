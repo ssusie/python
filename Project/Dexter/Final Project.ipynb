{
 "cells": [
  {
   "cell_type": "code",
   "execution_count": 1,
   "metadata": {
    "collapsed": true
   },
   "outputs": [],
   "source": [
    "%matplotlib inline\n",
    "import matplotlib.pyplot as plt\n",
    "import numpy as np\n",
    "from sklearn.datasets import load_svmlight_file\n",
    "import pdb\n",
    "from sklearn import svm, linear_model\n",
    "from sklearn.ensemble import RandomForestClassifier\n",
    "import random"
   ]
  },
  {
   "cell_type": "code",
   "execution_count": 2,
   "metadata": {
    "collapsed": true
   },
   "outputs": [],
   "source": [
    "#Load data from given files\n",
    "from itertools import izip_longest\n",
    "import csv\n",
    "with open('dexter_train.labels', 'rb') as csv1,open('dexter_train.data', 'rb') as csv2,open('concat.txt', 'w') as out:\n",
    "    spam1 = csv.reader(csv1)\n",
    "    spam2 = csv.reader(csv2)\n",
    "    last_column=list(izip_longest(*spam2))[-1]\n",
    "    for i,j in  izip_longest(spam1,last_column):\n",
    "        out.write(','.join([t.strip(';') for t in i])+' '+j+'\\n')\n",
    "        \n",
    "from itertools import izip_longest\n",
    "import csv\n",
    "with open('dexter_valid.labels', 'rb') as csv1,open('dexter_valid.data', 'rb') as csv2,open('valid.txt', 'w') as out:\n",
    "    spam1 = csv.reader(csv1)\n",
    "    spam2 = csv.reader(csv2)\n",
    "    last_column=list(izip_longest(*spam2))[-1]\n",
    "    for i,j in  izip_longest(spam1,last_column):\n",
    "        out.write(','.join([t.strip(';') for t in i])+' '+j+'\\n')"
   ]
  },
  {
   "cell_type": "code",
   "execution_count": 3,
   "metadata": {
    "collapsed": true
   },
   "outputs": [],
   "source": [
    "# trainLabl=np.genfromtxt('dexter_train.labels')\n",
    "TrainData = load_svmlight_file(\"concat.txt\")#created in the cell above\n",
    "valid=load_svmlight_file('valid.txt')#created in the cell above"
   ]
  },
  {
   "cell_type": "code",
   "execution_count": null,
   "metadata": {
    "collapsed": false
   },
   "outputs": [],
   "source": []
  },
  {
   "cell_type": "code",
   "execution_count": 4,
   "metadata": {
    "collapsed": false
   },
   "outputs": [],
   "source": [
    "XTr=TrainData[0] #training data\n",
    "Yt=TrainData[1] #training label\n",
    "Xval=valid[0] # validating data\n",
    "Yv=valid[1] # validating labels\n",
    "#concatinate training+validation data to do cross validation\n"
   ]
  },
  {
   "cell_type": "code",
   "execution_count": 5,
   "metadata": {
    "collapsed": false
   },
   "outputs": [
    {
     "name": "stdout",
     "output_type": "stream",
     "text": [
      "1.0\n"
     ]
    }
   ],
   "source": [
    "N,d=XTr.shape\n",
    "Xt=XTr.todense()\n",
    "Xv=Xval.todense()\n",
    "for i in range(N):    \n",
    "    Xt[i,:]=Xt[i,:]/np.linalg.norm(Xt[i,:], ord=2)\n",
    "    Xv[i,:]=Xv[i,:]/np.linalg.norm(Xv[i,:], ord=2)\n",
    "    \n",
    "print(np.linalg.norm(Xt[0,:], ord=2))"
   ]
  },
  {
   "cell_type": "code",
   "execution_count": 20,
   "metadata": {
    "collapsed": false
   },
   "outputs": [],
   "source": [
    "# train_index=random.sample(range(Xt.shape[0]), 240 ) # 80% for training, 20% for cross-validation\n",
    "# cv_index=list(set(range(Xt.shape[0]))-set(train_index)) #cross-validation set\n",
    "Xtrain=Xt\n",
    "Xvalid=Xv\n",
    "Ytrain=Yt\n",
    "Yvalid=Yv"
   ]
  },
  {
   "cell_type": "code",
   "execution_count": 11,
   "metadata": {
    "collapsed": false
   },
   "outputs": [
    {
     "name": "stdout",
     "output_type": "stream",
     "text": [
      "((300, 19999), (300, 19999))\n"
     ]
    }
   ],
   "source": [
    "print(Xtrain.shape, Xvalid.shape)"
   ]
  },
  {
   "cell_type": "markdown",
   "metadata": {},
   "source": [
    " "
   ]
  },
  {
   "cell_type": "code",
   "execution_count": 12,
   "metadata": {
    "collapsed": false
   },
   "outputs": [
    {
     "name": "stdout",
     "output_type": "stream",
     "text": [
      "(150, 150)\n",
      "((300, 19999), (1, 19999), (1, 19999), (1, 19999))\n",
      "(150, 150)\n"
     ]
    }
   ],
   "source": [
    "positiveMask=Ytrain==1\n",
    "negativeMask=Ytrain==-1\n",
    "numPos=np.sum(positiveMask)\n",
    "numNeg=np.sum(negativeMask)\n",
    "print(numPos, numNeg)\n",
    "Xposmean=Xtrain[positiveMask,:].mean(0)\n",
    "Xnegmean=Xtrain[negativeMask,:].mean(0)\n",
    "Xmean=Xtrain.mean(0)\n",
    "print(Xtrain.shape, Xposmean.shape, Xnegmean.shape, Xmean.shape)\n",
    "print(numPos, numNeg)"
   ]
  },
  {
   "cell_type": "code",
   "execution_count": null,
   "metadata": {
    "collapsed": false
   },
   "outputs": [],
   "source": []
  },
  {
   "cell_type": "code",
   "execution_count": 13,
   "metadata": {
    "collapsed": false
   },
   "outputs": [
    {
     "name": "stdout",
     "output_type": "stream",
     "text": [
      "((1, 19999), (1, 19999))\n",
      "7751\n",
      "((19999,), (1, 19999))\n"
     ]
    }
   ],
   "source": [
    "numer=(np.square(Xposmean-Xmean)+np.square(Xnegmean-Xmean))\n",
    "denomin=np.sum(np.square(Xtrain[positiveMask,:]-Xposmean), axis=0)*1.0/(numPos-1)+np.sum(np.square(Xtrain[negativeMask,:]-Xnegmean), axis=0)*1.0/(numNeg-1)\n",
    "print(numer.shape, denomin.shape)\n",
    "\n",
    "FScore=np.zeros(numer.shape[1])\n",
    "index=np.zeros(numer.shape[1])\n",
    "k=0 #keeps number of features that have nonzero F-score\n",
    "for i in range(numer.shape[1]):\n",
    "    if denomin[0,i]!=0:\n",
    "#         pdb.set_trace()\n",
    "        FScore[k]=numer[0,i]/denomin[0,i]\n",
    "        index[k]=i\n",
    "        k+=1\n",
    "print k                 \n",
    "print(np.array(range(19999)).shape, numer[0,:].shape)"
   ]
  },
  {
   "cell_type": "code",
   "execution_count": 15,
   "metadata": {
    "collapsed": false
   },
   "outputs": [
    {
     "data": {
      "image/png": "[encoded data removed]",
      "text/plain": [
       "<matplotlib.figure.Figure at 0x1076be650>"
      ]
     },
     "metadata": {},
     "output_type": "display_data"
    }
   ],
   "source": [
    "plt.plot(np.sort(FScore[0:k]),'ro')\n",
    "plt.title('sorted non-zero F-score')\n",
    "plt.ylabel('F-score')\n",
    "plt.savefig('fscore.pdf')"
   ]
  },
  {
   "cell_type": "code",
   "execution_count": 14,
   "metadata": {
    "collapsed": false
   },
   "outputs": [
    {
     "data": {
      "text/plain": [
       "256"
      ]
     },
     "execution_count": 14,
     "metadata": {},
     "output_type": "execute_result"
    }
   ],
   "source": []
  },
  {
   "cell_type": "code",
   "execution_count": 17,
   "metadata": {
    "collapsed": false
   },
   "outputs": [
    {
     "name": "stdout",
     "output_type": "stream",
     "text": [
      "7751\n",
      "7751\n"
     ]
    },
    {
     "data": {
      "text/plain": [
       "0"
      ]
     },
     "execution_count": 17,
     "metadata": {},
     "output_type": "execute_result"
    }
   ],
   "source": [
    "maskF=FScore>0\n",
    "print np.sum(maskF)\n",
    "I=index[0:k].astype(int)\n",
    "print len(I)\n",
    "# print I\n",
    "np.sum(FScore[0:k]==0)"
   ]
  },
  {
   "cell_type": "code",
   "execution_count": 21,
   "metadata": {
    "collapsed": false
   },
   "outputs": [
    {
     "data": {
      "text/plain": [
       "numpy.matrixlib.defmatrix.matrix"
      ]
     },
     "execution_count": 21,
     "metadata": {},
     "output_type": "execute_result"
    }
   ],
   "source": [
    "I=index[0:k].astype(int)"
   ]
  },
  {
   "cell_type": "code",
   "execution_count": 22,
   "metadata": {
    "collapsed": false
   },
   "outputs": [
    {
     "name": "stdout",
     "output_type": "stream",
     "text": [
      "(0, 119)\n",
      "(150, 150)\n",
      "('BEF', 39.666666666666664)\n"
     ]
    }
   ],
   "source": [
    "clf = svm.SVC()\n",
    "clf.fit(Xtrain[:,I], Ytrain) \n",
    "PredF=clf.predict(Xvalid[:,I])\n",
    "pfMask=(Yvalid==1)\n",
    "nfMask=(Yvalid==-1)\n",
    "Pf=None\n",
    "Nf=None\n",
    "Pf=PredF[pfMask]+Yvalid[pfMask]\n",
    "Nf=PredF[nfMask]+Yvalid[nfMask]\n",
    "errorPf=np.sum(Pf==0)\n",
    "errorNf=np.sum(Nf==0)\n",
    "numPos=np.sum(pfMask)\n",
    "numNeg=np.sum(nfMask)\n",
    "print(errorPf, errorNf)\n",
    "print(numPos, numNeg)\n",
    "BEF=1.0/2*(errorPf*1.0/numPos+errorNf*1.0/numNeg)*100\n",
    "print('BEF', BEF)"
   ]
  },
  {
   "cell_type": "code",
   "execution_count": 20,
   "metadata": {
    "collapsed": false
   },
   "outputs": [
    {
     "data": {
      "text/plain": [
       "array([-1., -1., -1., -1., -1., -1., -1., -1., -1., -1., -1., -1., -1.,\n",
       "       -1., -1., -1., -1., -1., -1., -1., -1., -1., -1., -1., -1., -1.,\n",
       "       -1., -1., -1., -1., -1., -1., -1., -1., -1., -1., -1., -1., -1.,\n",
       "       -1., -1., -1., -1., -1., -1., -1., -1., -1., -1., -1., -1., -1.,\n",
       "       -1., -1., -1., -1., -1., -1., -1., -1.])"
      ]
     },
     "execution_count": 20,
     "metadata": {},
     "output_type": "execute_result"
    }
   ],
   "source": [
    "PredF"
   ]
  },
  {
   "cell_type": "code",
   "execution_count": 21,
   "metadata": {
    "collapsed": false
   },
   "outputs": [
    {
     "name": "stdout",
     "output_type": "stream",
     "text": [
      "(150, 0)\n",
      "(150, 150)\n",
      "('BEF', 50.0)\n"
     ]
    }
   ],
   "source": [
    "clf = svm.SVC()\n",
    "clf.fit(Xtrain[:,I], Ytrain) \n",
    "PredF=clf.predict(Xv[:,I])\n",
    "pfMask=None\n",
    "nfMask=None\n",
    "pfMask=(Yv==1)\n",
    "nfMask=(Yv==-1)\n",
    "Pf=None\n",
    "Nf=None\n",
    "Pf=PredF[pfMask]+Yv[pfMask]\n",
    "Nf=PredF[nfMask]+Yv[nfMask]\n",
    "errorPf=np.sum(Pf==0)\n",
    "errorNf=np.sum(Nf==0)\n",
    "numPos=np.sum(pfMask)\n",
    "numNeg=np.sum(nfMask)\n",
    "print(errorPf, errorNf)\n",
    "print(numPos, numNeg)\n",
    "BEF=1.0/2*(errorPf*1.0/numPos+errorNf*1.0/numNeg)*100\n",
    "print('BEF', BEF)"
   ]
  },
  {
   "cell_type": "code",
   "execution_count": null,
   "metadata": {
    "collapsed": true
   },
   "outputs": [],
   "source": []
  }
 ],
 "metadata": {
  "kernelspec": {
   "display_name": "Python 2",
   "language": "python",
   "name": "python2"
  },
  "language_info": {
   "codemirror_mode": {
    "name": "ipython",
    "version": 2
   },
   "file_extension": ".py",
   "mimetype": "text/x-python",
   "name": "python",
   "nbconvert_exporter": "python",
   "pygments_lexer": "ipython2",
   "version": "2.7.10"
  }
 },
 "nbformat": 4,
 "nbformat_minor": 0
}
