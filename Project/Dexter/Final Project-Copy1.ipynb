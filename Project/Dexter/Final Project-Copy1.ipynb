{
 "cells": [
  {
   "cell_type": "code",
   "execution_count": 2,
   "metadata": {
    "collapsed": true
   },
   "outputs": [],
   "source": [
    "%matplotlib inline\n",
    "import matplotlib.pyplot as plt\n",
    "import numpy as np\n",
    "from sklearn.datasets import load_svmlight_file\n",
    "import pdb\n",
    "from sklearn import svm, linear_model\n",
    "from sklearn.ensemble import RandomForestClassifier\n",
    "import random"
   ]
  },
  {
   "cell_type": "code",
   "execution_count": 3,
   "metadata": {
    "collapsed": true
   },
   "outputs": [],
   "source": [
    "#Load data from given files\n",
    "from itertools import izip_longest\n",
    "import csv\n",
    "with open('dexter_train.labels', 'rb') as csv1,open('dexter_train.data', 'rb') as csv2,open('concat.txt', 'w') as out:\n",
    "    spam1 = csv.reader(csv1)\n",
    "    spam2 = csv.reader(csv2)\n",
    "    last_column=list(izip_longest(*spam2))[-1]\n",
    "    for i,j in  izip_longest(spam1,last_column):\n",
    "        out.write(','.join([t.strip(';') for t in i])+' '+j+'\\n')\n",
    "        \n",
    "from itertools import izip_longest\n",
    "import csv\n",
    "with open('dexter_valid.labels', 'rb') as csv1,open('dexter_valid.data', 'rb') as csv2,open('valid.txt', 'w') as out:\n",
    "    spam1 = csv.reader(csv1)\n",
    "    spam2 = csv.reader(csv2)\n",
    "    last_column=list(izip_longest(*spam2))[-1]\n",
    "    for i,j in  izip_longest(spam1,last_column):\n",
    "        out.write(','.join([t.strip(';') for t in i])+' '+j+'\\n')"
   ]
  },
  {
   "cell_type": "code",
   "execution_count": 4,
   "metadata": {
    "collapsed": false
   },
   "outputs": [],
   "source": [
    "# trainLabl=np.genfromtxt('dexter_train.labels')\n",
    "TrainData = load_svmlight_file(\"concat.txt\")#created in the cell above\n",
    "valid=load_svmlight_file('valid.txt')#created in the cell above"
   ]
  },
  {
   "cell_type": "code",
   "execution_count": null,
   "metadata": {
    "collapsed": false
   },
   "outputs": [],
   "source": []
  },
  {
   "cell_type": "code",
   "execution_count": 5,
   "metadata": {
    "collapsed": false
   },
   "outputs": [],
   "source": [
    "X=TrainData[0] #training data\n",
    "Ytrain=TrainData[1] #training label\n",
    "Xvalid=valid[0] # validating data\n",
    "Yvalid=valid[1] # validating labels\n",
    "#concatinate training+validation data to do cross validation\n",
    "N,d=X.shape"
   ]
  },
  {
   "cell_type": "code",
   "execution_count": 6,
   "metadata": {
    "collapsed": false
   },
   "outputs": [
    {
     "name": "stdout",
     "output_type": "stream",
     "text": [
      "  (0, 9)\t105.0\n",
      "[[ 0.          0.          0.          0.          0.          0.          0.\n",
      "   0.          0.          0.08021423]\n",
      " [ 0.          0.          0.          0.          0.          0.          0.\n",
      "   0.          0.          0.        ]\n",
      " [ 0.          0.          0.          0.          0.          0.          0.\n",
      "   0.          0.          0.        ]]\n",
      "0\n"
     ]
    }
   ],
   "source": [
    "Xtrain=X.todense()\n",
    "for i in range(N):    \n",
    "    Xtrain[i,:]=Xtrain[i,:]/np.linalg.norm(Xtrain[i,:], ord=2)\n",
    "print(X[0:3, 0:10])\n",
    "print(Xtrain[0:3, 0:10])\n",
    "print(np.sum(Xtrain>1))"
   ]
  },
  {
   "cell_type": "code",
   "execution_count": null,
   "metadata": {
    "collapsed": false
   },
   "outputs": [],
   "source": []
  },
  {
   "cell_type": "code",
   "execution_count": 7,
   "metadata": {
    "collapsed": false
   },
   "outputs": [
    {
     "name": "stdout",
     "output_type": "stream",
     "text": [
      "((300, 19999), (300, 19999))\n"
     ]
    }
   ],
   "source": [
    "#checking what we have\n",
    "# print(np.linalg.norm(trainLabl-Ytrain, ord=1))\n",
    "print(Xtrain.shape, Xvalid.shape)\n",
    "# X=np.concatenate((Xtrain, Xvalid))\n",
    "# print(Xtrain)"
   ]
  },
  {
   "cell_type": "code",
   "execution_count": 21,
   "metadata": {
    "collapsed": false
   },
   "outputs": [],
   "source": [
    "# clf = svm.SVC()\n",
    "# clf.fit(Xtrain, Ytrain) \n",
    "# Predict=clf.predict(Xvalid.todense())\n",
    "# print('regular error',np.sum(Predict!=Yvalid)/(1.*len(Yvalid))*100)\n",
    "# #Balanced Error Rate from \"Feature Extraction\" by I. Guyon et al, Chapter 12\n",
    "# # BER=1/2 *(#positive instances predicted worng/positive instances +\n",
    "# #           #negative instances predicted worng/negative instances )\n",
    "\n",
    "# pMask=(Yvalid==1)\n",
    "# nMask=(Yvalid==-1)\n",
    "# numPos=np.sum(pMask)\n",
    "# numNeg=np.sum(nMask)\n",
    "\n",
    "# # print type(Predict)\n",
    "# # print type(positiveMask)\n",
    "# # print(Predict[0:10].shape)\n",
    "# # print(positiveMask.shape)\n",
    "# # print Xtrain[positiveMask,:]\n",
    "\n",
    "# Pos=Predict[pMask]+Yvalid[pMask]\n",
    "# Neg=Predict[nMask]+Yvalid[nMask]\n",
    "# errorP=np.sum(Pos==0)\n",
    "# errorN=np.sum(Neg==0)\n",
    "# print(errorP, errorN)\n",
    "# print(numPos, numNeg)\n",
    "# BEF=1.0/2*(errorP*1.0/numPos+errorN*1.0/numNeg)*100\n",
    "# print('BEF', BEF)"
   ]
  },
  {
   "cell_type": "markdown",
   "metadata": {},
   "source": [
    "Thus, SVM gives 50% error.\n",
    "\n",
    "Now compute F-score of our data:"
   ]
  },
  {
   "cell_type": "markdown",
   "metadata": {},
   "source": [
    "%%%%%%%%%%%%%%%%%%%%%%%%%%%%%%%%%%%%%%%%%%%%%%%%%%%%%%%%%%%%%%%%%%%%%%%%%%%"
   ]
  },
  {
   "cell_type": "code",
   "execution_count": 9,
   "metadata": {
    "collapsed": false
   },
   "outputs": [
    {
     "data": {
      "text/plain": [
       "300"
      ]
     },
     "execution_count": 9,
     "metadata": {},
     "output_type": "execute_result"
    }
   ],
   "source": [
    "N"
   ]
  },
  {
   "cell_type": "code",
   "execution_count": 20,
   "metadata": {
    "collapsed": false
   },
   "outputs": [
    {
     "name": "stdout",
     "output_type": "stream",
     "text": [
      "(135, 135)\n",
      "((270, 19999), (1, 19999), (1, 19999), (1, 19999))\n",
      "((1, 19999), (1, 19999))\n",
      "('k', 7701)\n",
      "(0, 150)\n",
      "(150, 150)\n",
      "('BEF', 50.0)\n"
     ]
    },
    {
     "data": {
      "image/png": "[encoded data removed]",
      "text/plain": [
       "<matplotlib.figure.Figure at 0x1166a9990>"
      ]
     },
     "metadata": {},
     "output_type": "display_data"
    }
   ],
   "source": [
    "# for i in range(5):\n",
    "train_index=random.sample(range(Xtrain.shape[0]), 270 ) # 80% for training, 20% for cross-validation\n",
    "cv_index=list(set(range(Xtrain.shape[0]))-set(train_index)) #cross-validation set\n",
    "Xtr=Xtrain[train_index,:]\n",
    "Xcv=Xtrain[cv_index,:]\n",
    "Ytr=Ytrain[train_index]\n",
    "Ycv=Ytrain[cv_index]\n",
    "positiveMask=Ytr==1\n",
    "negativeMask=Ytr==-1\n",
    "numPos=np.sum(positiveMask)\n",
    "numNeg=np.sum(negativeMask)\n",
    "print(numPos, numNeg)\n",
    "Xposmean=Xtr[positiveMask,:].mean(0)\n",
    "Xnegmean=Xtr[negativeMask,:].mean(0)\n",
    "Xmean=Xtr.mean(0)\n",
    "print(Xtr.shape, Xposmean.shape, Xnegmean.shape, Xmean.shape)\n",
    "# print(numPos, numNeg)\n",
    "numer=(np.square(Xposmean-Xmean)+np.square(Xnegmean-Xmean))\n",
    "denomin=np.sum(np.square(Xtrain[positiveMask,:]-Xposmean), axis=0)*1.0/(numPos-1)+np.sum(np.square(Xtrain[negativeMask,:]-Xnegmean), axis=0)*1.0/(numNeg-1)\n",
    "print(numer.shape, denomin.shape)\n",
    "\n",
    "FScore=np.zeros(numer.shape[1])\n",
    "ind=FScore\n",
    "k=0 #keeps number of features that have nonzero F-score\n",
    "for i in range(numer.shape[1]):\n",
    "    if denomin[0,i]!=0:\n",
    "        FScore[k]=numer[0,i]/denomin[0,i]\n",
    "        ind[k]=i\n",
    "        k+=1\n",
    "print('k',k)   \n",
    "index=ind[0:k].astype(int)\n",
    "plt.plot(FScore[0:k],'ro')\n",
    "plt.plot(index[0:k],'b*')\n",
    "clf = svm.SVC()\n",
    "clf.fit(Xtrain[:,index[0:k]], Ytrain) \n",
    "Predict_Fscore=clf.predict(Xvalid[:,index[0:k]].todense())\n",
    "pMask=(Yvalid==1)\n",
    "nMask=(Yvalid==-1)\n",
    "\n",
    "Pfscore=Predict_Fscore[pMask]+Yvalid[pMask]\n",
    "Nfscore=Predict_Fscore[nMask]+Yvalid[nMask]\n",
    "errorPfscore=np.sum(Pfscore==0)\n",
    "errorNfscore=np.sum(Nfscore==0)\n",
    "numPos=np.sum(pMask)\n",
    "numNeg=np.sum(nMask)\n",
    "print(errorPfscore, errorNfscore)\n",
    "print(numPos, numNeg)\n",
    "BEF=1.0/2*(errorPfscore*1.0/numPos+errorNfscore*1.0/numNeg)*100\n",
    "print('BEF', BEF)\n",
    "Xtr=None\n",
    "Ytr=None\n",
    "Xcv=None\n",
    "Ycv=None\n",
    "positiveMask=None\n",
    "negativeMask=None\n",
    "Xposmean=None\n",
    "Xnegmean=None\n",
    "Xmean=None\n",
    "numer=None\n",
    "denomin=None\n",
    "FScore=None\n",
    "index=None\n",
    "Predict_Fscore=None\n",
    "pMask=None\n",
    "nMask=None\n",
    "Pfscore=None\n",
    "Nfscore=None\n",
    "index=None\n",
    "ind=None"
   ]
  },
  {
   "cell_type": "code",
   "execution_count": 17,
   "metadata": {
    "collapsed": false
   },
   "outputs": [
    {
     "data": {
      "text/plain": [
       "array([  3.00000000e+00,   5.00000000e+00,   7.00000000e+00, ...,\n",
       "         1.99950000e+04,   1.99960000e+04,   1.99980000e+04])"
      ]
     },
     "execution_count": 17,
     "metadata": {},
     "output_type": "execute_result"
    }
   ],
   "source": [
    "index[0:k]\n"
   ]
  },
  {
   "cell_type": "code",
   "execution_count": 78,
   "metadata": {
    "collapsed": false
   },
   "outputs": [],
   "source": [
    "# plt.plot(numer[0,:],'ko')\n",
    "# plt.show()"
   ]
  },
  {
   "cell_type": "code",
   "execution_count": 79,
   "metadata": {
    "collapsed": false
   },
   "outputs": [
    {
     "name": "stdout",
     "output_type": "stream",
     "text": [
      "(138, 19999)\n",
      "(1, 19999)\n",
      "(132, 138)\n"
     ]
    }
   ],
   "source": [
    "A=np.square(Xtrain[negativeMask,:]-Xnegmean)\n",
    "print(A.shape)\n",
    "print((np.sum(A, axis=0)).shape)\n",
    "print(numPos, numNeg)"
   ]
  },
  {
   "cell_type": "code",
   "execution_count": 80,
   "metadata": {
    "collapsed": false
   },
   "outputs": [
    {
     "name": "stdout",
     "output_type": "stream",
     "text": [
      "[[ 0.          0.          0.         ...,  0.02250881  0.          3.02521925]]\n"
     ]
    },
    {
     "data": {
      "text/plain": [
       "[<matplotlib.lines.Line2D at 0x116bf3050>]"
      ]
     },
     "execution_count": 80,
     "metadata": {},
     "output_type": "execute_result"
    },
    {
     "data": {
      "image/png": "[encoded data removed]",
      "text/plain": [
       "<matplotlib.figure.Figure at 0x1116318d0>"
      ]
     },
     "metadata": {},
     "output_type": "display_data"
    }
   ],
   "source": [
    "print(numer[0,:])\n"
   ]
  },
  {
   "cell_type": "code",
   "execution_count": 81,
   "metadata": {
    "collapsed": false
   },
   "outputs": [
    {
     "data": {
      "text/plain": [
       "[<matplotlib.lines.Line2D at 0x116cff510>]"
      ]
     },
     "execution_count": 81,
     "metadata": {},
     "output_type": "execute_result"
    },
    {
     "data": {
      "image/png": "[encoded data removed]",
      "text/plain": [
       "<matplotlib.figure.Figure at 0x116c12f90>"
      ]
     },
     "metadata": {},
     "output_type": "display_data"
    }
   ],
   "source": []
  },
  {
   "cell_type": "code",
   "execution_count": 82,
   "metadata": {
    "collapsed": false
   },
   "outputs": [
    {
     "data": {
      "text/plain": [
       "array([  3.00000000e+00,   5.00000000e+00,   7.00000000e+00, ...,\n",
       "         1.99950000e+04,   1.99960000e+04,   1.99980000e+04])"
      ]
     },
     "execution_count": 82,
     "metadata": {},
     "output_type": "execute_result"
    }
   ],
   "source": [
    "index[0:k]"
   ]
  },
  {
   "cell_type": "code",
   "execution_count": 83,
   "metadata": {
    "collapsed": false
   },
   "outputs": [
    {
     "data": {
      "text/plain": [
       "7688"
      ]
     },
     "execution_count": 83,
     "metadata": {},
     "output_type": "execute_result"
    }
   ],
   "source": [
    "k"
   ]
  },
  {
   "cell_type": "code",
   "execution_count": 84,
   "metadata": {
    "collapsed": false
   },
   "outputs": [
    {
     "data": {
      "text/plain": [
       "7385"
      ]
     },
     "execution_count": 84,
     "metadata": {},
     "output_type": "execute_result"
    }
   ],
   "source": [
    " 9947-2562"
   ]
  },
  {
   "cell_type": "markdown",
   "metadata": {},
   "source": [
    "Apply SVM to features selected by high F-score"
   ]
  },
  {
   "cell_type": "code",
   "execution_count": 85,
   "metadata": {
    "collapsed": false
   },
   "outputs": [
    {
     "name": "stdout",
     "output_type": "stream",
     "text": [
      "(1, 100)\n",
      "(150, 150)\n",
      "('BEF', 33.666666666666664)\n"
     ]
    }
   ],
   "source": []
  },
  {
   "cell_type": "code",
   "execution_count": 86,
   "metadata": {
    "collapsed": false
   },
   "outputs": [
    {
     "name": "stdout",
     "output_type": "stream",
     "text": [
      "('regular error', 33.666666666666664)\n"
     ]
    }
   ],
   "source": [
    "print('regular error',np.sum(Predict_Fscore!=Yvalid)/(1.*len(Yvalid))*100)"
   ]
  },
  {
   "cell_type": "markdown",
   "metadata": {},
   "source": [
    "Thus, F-score+SVM gives 14.6% error."
   ]
  },
  {
   "cell_type": "code",
   "execution_count": 50,
   "metadata": {
    "collapsed": false
   },
   "outputs": [
    {
     "data": {
      "text/plain": [
       "7637"
      ]
     },
     "execution_count": 50,
     "metadata": {},
     "output_type": "execute_result"
    }
   ],
   "source": [
    "np.sum(FScore>0.015)"
   ]
  },
  {
   "cell_type": "code",
   "execution_count": 51,
   "metadata": {
    "collapsed": false
   },
   "outputs": [
    {
     "data": {
      "text/plain": [
       "(300,)"
      ]
     },
     "execution_count": 51,
     "metadata": {},
     "output_type": "execute_result"
    }
   ],
   "source": [
    "Predict_Fscore.shape"
   ]
  },
  {
   "cell_type": "code",
   "execution_count": 6,
   "metadata": {
    "collapsed": false
   },
   "outputs": [],
   "source": [
    "\n",
    "a=random.sample(range(5),  3)"
   ]
  },
  {
   "cell_type": "code",
   "execution_count": 10,
   "metadata": {
    "collapsed": false
   },
   "outputs": [
    {
     "ename": "TypeError",
     "evalue": "only length-1 arrays can be converted to Python scalars",
     "output_type": "error",
     "traceback": [
      "\u001b[0;31m---------------------------------------------------------------------------\u001b[0m",
      "\u001b[0;31mTypeError\u001b[0m                                 Traceback (most recent call last)",
      "\u001b[0;32m<ipython-input-10-404e58c11d29>\u001b[0m in \u001b[0;36m<module>\u001b[0;34m()\u001b[0m\n\u001b[0;32m----> 1\u001b[0;31m \u001b[0mlist\u001b[0m\u001b[0;34m(\u001b[0m\u001b[0mset\u001b[0m\u001b[0;34m(\u001b[0m\u001b[0mrange\u001b[0m\u001b[0;34m(\u001b[0m\u001b[0mN\u001b[0m\u001b[0;34m)\u001b[0m\u001b[0;34m)\u001b[0m\u001b[0;34m-\u001b[0m\u001b[0mset\u001b[0m\u001b[0;34m(\u001b[0m\u001b[0ma\u001b[0m\u001b[0;34m)\u001b[0m\u001b[0;34m)\u001b[0m\u001b[0;34m\u001b[0m\u001b[0m\n\u001b[0m",
      "\u001b[0;31mTypeError\u001b[0m: only length-1 arrays can be converted to Python scalars"
     ]
    }
   ],
   "source": [
    "list(set(range(N))-set(a))"
   ]
  },
  {
   "cell_type": "code",
   "execution_count": 12,
   "metadata": {
    "collapsed": false
   },
   "outputs": [
    {
     "data": {
      "text/plain": [
       "array([-2., -2., -2., -2., -2., -2., -2., -2., -2., -2., -2., -2., -2.,\n",
       "       -2., -2., -2., -2., -2., -2., -2., -2., -2., -2., -2., -2., -2.,\n",
       "       -2., -2., -2., -2., -2., -2., -2., -2., -2., -2., -2., -2., -2.,\n",
       "       -2., -2., -2., -2., -2., -2., -2., -2., -2., -2., -2., -2., -2.,\n",
       "       -2., -2., -2., -2., -2., -2., -2., -2., -2., -2., -2., -2., -2.,\n",
       "       -2., -2., -2., -2., -2., -2., -2., -2., -2., -2., -2., -2., -2.,\n",
       "       -2., -2., -2., -2., -2., -2., -2., -2., -2., -2., -2., -2., -2.,\n",
       "       -2., -2., -2., -2., -2., -2., -2., -2., -2., -2., -2., -2., -2.,\n",
       "       -2., -2., -2., -2., -2., -2., -2., -2., -2., -2., -2., -2., -2.,\n",
       "       -2., -2., -2., -2., -2., -2., -2., -2., -2., -2., -2., -2., -2.,\n",
       "       -2., -2., -2., -2., -2., -2., -2., -2., -2., -2., -2., -2., -2.,\n",
       "       -2., -2., -2., -2., -2., -2., -2.])"
      ]
     },
     "execution_count": 12,
     "metadata": {},
     "output_type": "execute_result"
    }
   ],
   "source": [
    "N"
   ]
  },
  {
   "cell_type": "code",
   "execution_count": 10,
   "metadata": {
    "collapsed": true
   },
   "outputs": [],
   "source": [
    "reset?\n"
   ]
  },
  {
   "cell_type": "code",
   "execution_count": null,
   "metadata": {
    "collapsed": true
   },
   "outputs": [],
   "source": []
  }
 ],
 "metadata": {
  "kernelspec": {
   "display_name": "Python 2",
   "language": "python",
   "name": "python2"
  },
  "language_info": {
   "codemirror_mode": {
    "name": "ipython",
    "version": 2
   },
   "file_extension": ".py",
   "mimetype": "text/x-python",
   "name": "python",
   "nbconvert_exporter": "python",
   "pygments_lexer": "ipython2",
   "version": "2.7.10"
  }
 },
 "nbformat": 4,
 "nbformat_minor": 0
}
