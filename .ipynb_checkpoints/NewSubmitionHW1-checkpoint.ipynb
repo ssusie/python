{
 "cells": [
  {
   "cell_type": "code",
   "execution_count": 1,
   "metadata": {
    "collapsed": true
   },
   "outputs": [],
   "source": [
    "%matplotlib inline\n",
    "import matplotlib.pyplot as plt\n",
    "import numpy as np\n",
    "import scipy.sparse as sp"
   ]
  },
  {
   "cell_type": "markdown",
   "metadata": {
    "collapsed": false
   },
   "source": [
    "Function *myCooDescent* solves Lasso problem with  given inputs: <br />\n",
    "w0: initial condition for offset term <br />\n",
    "w: initial guess for coefficients<br />\n",
    "X,y: data <br />\n",
    "lyambda: Lasso parametr<br />"
   ]
  },
  {
   "cell_type": "code",
   "execution_count": 2,
   "metadata": {
    "collapsed": false
   },
   "outputs": [],
   "source": [
    "def myCooDescent(w0,wOld,y,X,lyambda):\n",
    "    N,d=X.shape\n",
    "    wNew=wOld\n",
    "    kmax=50\n",
    "    eps=10**(-3)\n",
    "    w0old=w0\n",
    "    \n",
    "    for kk in range(kmax):\n",
    "\n",
    "        errorOld=np.square(np.linalg.norm(y-X*wOld-w0old, ord=2))+lyambda*np.linalg.norm(wOld, ord=1)\n",
    "        \n",
    "#         yhat=X*wNew+w0old\n",
    "#         w0new=np.sum(y-yhat+w0old)/N\n",
    "#         yhat=yhat-w0old+w0new\n",
    "        w0=np.sum(y-X*wOld)/N\n",
    "\n",
    "    \n",
    "        for jj in range(d):\n",
    "\n",
    "#             start, end = X.indptr[jj], X.indptr[jj+1]\n",
    "#             aj=2*np.sum(np.square(X.data[start:end]))\n",
    "          \n",
    "            aj=2*(X[:,jj].T*X[:,jj]).data\n",
    "            #to delete the jj-th column\n",
    "            I=np.identity(d)\n",
    "            I[jj,jj]=0;\n",
    "            I=sp.csc_matrix(I)         \n",
    "            cj=2*(X[:,jj].T*(y-X*I*wNew-w0))\n",
    "            \n",
    "#             cj=2*np.sum(X.data[start:end]*(y[X.indices[start:end]]-\\\n",
    "#                                                yhat[X.indices[start:end]]+X.data[start:end]*wNew[jj]))\n",
    "            if cj+lyambda<0:\n",
    "                wNew[jj]=(cj+lyambda)/aj\n",
    "            elif cj-lyambda>0:\n",
    "                wNew[jj]=(cj-lyambda)/aj\n",
    "            else:\n",
    "                wNew[jj]=0\n",
    "                \n",
    "        if np.linalg.norm(wNew-wOld,ord=np.inf)<eps:\n",
    "            print('converged')\n",
    "            return (w0,wNew)\n",
    "        else:\n",
    "            wOld=wNew\n",
    "        errorNew=np.square(np.linalg.norm(y-X*wNew-w0, ord=2))+lyambda*np.linalg.norm(wNew, ord=1)\n",
    "        if errorOld-errorNew<10**(-3):\n",
    "            print('error grows', jj)\n",
    "                \n",
    "    if kk==kmax-1:\n",
    "        print('reached max iter')\n",
    "        return (w0, wNew)\n",
    "            "
   ]
  },
  {
   "cell_type": "markdown",
   "metadata": {},
   "source": [
    "## Test on synthetic data"
   ]
  },
  {
   "cell_type": "code",
   "execution_count": 14,
   "metadata": {
    "collapsed": false
   },
   "outputs": [],
   "source": [
    "N, d, k, sigma=50,75,5,1\n",
    "X=np.random.randn(N,d)\n",
    "r=np.random.randint(2, size=k)\n",
    "r[r==0]=-1\n",
    "r=r*10;\n",
    "zer=np.zeros(d-k)\n",
    "wStar=np.concatenate((r,zer))\n",
    "noise =np.sqrt(sigma) * np.random.randn(N)\n",
    "Xsparse=sp.csc_matrix(X)\n",
    "XT=X.T\n",
    "y=Xsparse*wStar+noise"
   ]
  },
  {
   "cell_type": "markdown",
   "metadata": {},
   "source": [
    "Compute initial conditions"
   ]
  },
  {
   "cell_type": "code",
   "execution_count": 15,
   "metadata": {
    "collapsed": false
   },
   "outputs": [],
   "source": [
    "w0=np.random.randn(1)\n",
    "wGuess=np.random.randn(d)\n",
    "#compute Lambda_max to start with it\n",
    "lambda_max=2*np.linalg.norm(np.dot(XT,y-np.mean(y)), ord=np.inf)\n"
   ]
  },
  {
   "cell_type": "code",
   "execution_count": 16,
   "metadata": {
    "collapsed": false
   },
   "outputs": [
    {
     "name": "stdout",
     "output_type": "stream",
     "text": [
      "converged\n",
      "('recall', 0.0, 'precision', inf)\n",
      "converged\n",
      "('recall', 0.40000000000000002, 'precision', 1.0)\n",
      "converged\n",
      "('recall', 0.59999999999999998, 'precision', 1.0)\n",
      "converged\n",
      "('recall', 1.0, 'precision', 1.0)\n",
      "converged\n",
      "('recall', 1.0, 'precision', 0.83333333333333337)\n",
      "converged\n",
      "('recall', 1.0, 'precision', 1.0)\n",
      "converged\n",
      "('recall', 1.0, 'precision', 0.83333333333333337)\n",
      "converged\n",
      "('recall', 1.0, 'precision', 0.83333333333333337)\n",
      "converged\n",
      "('recall', 1.0, 'precision', 0.83333333333333337)\n",
      "converged\n",
      "('recall', 1.0, 'precision', 0.625)\n",
      "converged\n",
      "('recall', 1.0, 'precision', 0.41666666666666669)\n",
      "converged\n",
      "('recall', 1.0, 'precision', 0.26315789473684209)\n",
      "converged\n",
      "('recall', 1.0, 'precision', 0.23809523809523808)\n",
      "converged\n",
      "('recall', 1.0, 'precision', 0.17241379310344829)\n",
      "converged\n",
      "('recall', 1.0, 'precision', 0.1388888888888889)\n",
      "converged\n",
      "('recall', 1.0, 'precision', 0.10638297872340426)\n",
      "converged\n",
      "('recall', 1.0, 'precision', 0.094339622641509441)\n",
      "converged\n",
      "('recall', 1.0, 'precision', 0.089285714285714288)\n",
      "converged\n",
      "('recall', 1.0, 'precision', 0.080645161290322578)\n",
      "converged\n",
      "('recall', 1.0, 'precision', 0.074626865671641784)\n"
     ]
    }
   ],
   "source": [
    "nloop=20\n",
    "precision=np.zeros(nloop)\n",
    "recall=np.zeros(nloop)\n",
    "eps=10**(-4)\n",
    "Lam=np.zeros(nloop+1)\n",
    "Lam[0]=lambda_max\n",
    "\n",
    "for i in range(nloop):\n",
    "    w0,wGuess=myCooDescent(w0,wGuess,y,Xsparse,Lam[i])\n",
    "    totalNonzeros=len(wGuess[abs(wGuess)>10**(-4)])\n",
    "    \n",
    "    correctNonzeros=len(wGuess[abs(wGuess[0:k])>10**(-4)])\n",
    "    recall[i]=correctNonzeros/(k*1.0) \n",
    "    if totalNonzeros==0:\n",
    "        precision[i]=np.inf\n",
    "    else:\n",
    "        precision[i]=correctNonzeros/(totalNonzeros*1.0)\n",
    "    Lam[i+1]=0.7*Lam[i]\n",
    "#     print(w0, wGuess[0:10])\n",
    "    print('recall', recall[i], 'precision',precision[i])"
   ]
  },
  {
   "cell_type": "code",
   "execution_count": 17,
   "metadata": {
    "collapsed": false
   },
   "outputs": [
    {
     "data": {
      "text/plain": [
       "(20,)"
      ]
     },
     "execution_count": 17,
     "metadata": {},
     "output_type": "execute_result"
    },
    {
     "data": {
      "image/png": "[encoded data removed]",
      "text/plain": [
       "<matplotlib.figure.Figure at 0x107199510>"
      ]
     },
     "metadata": {},
     "output_type": "display_data"
    }
   ],
   "source": [
    "plt.plot(Lam[0:nloop],precision, label=r'precision');\n",
    "plt.plot(Lam[0:nloop],recall, label=r'recall');\n",
    "plt.xlabel('lambda')\n",
    "plt.legend();\n",
    "(Lam[0:nloop-1]).shape\n",
    "precision.shape"
   ]
  },
  {
   "cell_type": "markdown",
   "metadata": {
    "collapsed": false
   },
   "source": [
    "decreasing lambda we allow w to have more nonzero values which affects the result. The optimal lambsa accurse when plots intersect."
   ]
  },
  {
   "cell_type": "markdown",
   "metadata": {
    "collapsed": false
   },
   "source": [
    "## change $\\sigma$ to 10"
   ]
  },
  {
   "cell_type": "code",
   "execution_count": 20,
   "metadata": {
    "collapsed": true
   },
   "outputs": [],
   "source": [
    "N, d, k, sigma=50,75,5,10\n",
    "X=np.random.randn(N,d)\n",
    "r=np.random.randint(2, size=k)\n",
    "r[r==0]=-1\n",
    "r=r*10;\n",
    "zer=np.zeros(d-k)\n",
    "wStar=np.concatenate((r,zer))\n",
    "noise =np.sqrt(sigma) * np.random.randn(N)\n",
    "Xsparse=sp.csc_matrix(X)\n",
    "XT=X.T\n",
    "y=Xsparse*wStar+noise\n",
    "w0=np.random.randn(1)\n",
    "wGuess=np.random.randn(d)\n",
    "#compute Lambda_max to start with it\n",
    "lambda_max=2*np.linalg.norm(np.dot(XT,y-np.mean(y)), ord=np.inf)\n",
    "\n"
   ]
  },
  {
   "cell_type": "code",
   "execution_count": 21,
   "metadata": {
    "collapsed": false
   },
   "outputs": [
    {
     "name": "stdout",
     "output_type": "stream",
     "text": [
      "converged\n",
      "('recall', 0.0, 'precision', inf)\n",
      "converged\n",
      "('recall', 0.40000000000000002, 'precision', 1.0)\n",
      "converged\n",
      "('recall', 0.80000000000000004, 'precision', 0.80000000000000004)\n",
      "converged\n",
      "('recall', 1.0, 'precision', 0.625)\n",
      "converged\n",
      "('recall', 1.0, 'precision', 0.41666666666666669)\n",
      "converged\n",
      "('recall', 1.0, 'precision', 0.33333333333333331)\n",
      "converged\n",
      "('recall', 1.0, 'precision', 0.3125)\n",
      "converged\n",
      "('recall', 1.0, 'precision', 0.3125)\n",
      "converged\n",
      "('recall', 1.0, 'precision', 0.22727272727272727)\n",
      "converged\n",
      "('recall', 1.0, 'precision', 0.17857142857142858)\n",
      "converged\n",
      "('recall', 1.0, 'precision', 0.15625)\n",
      "converged\n",
      "('recall', 1.0, 'precision', 0.15151515151515152)\n",
      "converged\n",
      "('recall', 1.0, 'precision', 0.12820512820512819)\n",
      "converged\n",
      "('recall', 1.0, 'precision', 0.11363636363636363)\n",
      "converged\n",
      "('recall', 1.0, 'precision', 0.1111111111111111)\n",
      "converged\n",
      "('recall', 1.0, 'precision', 0.098039215686274508)\n",
      "converged\n",
      "('recall', 1.0, 'precision', 0.096153846153846159)\n",
      "converged\n",
      "('recall', 1.0, 'precision', 0.089285714285714288)\n",
      "converged\n",
      "('recall', 1.0, 'precision', 0.081967213114754092)\n",
      "converged\n",
      "('recall', 1.0, 'precision', 0.078125)\n"
     ]
    }
   ],
   "source": [
    "nloop=20\n",
    "precision=np.zeros(nloop)\n",
    "recall=np.zeros(nloop)\n",
    "eps=10**(-4)\n",
    "Lam=np.zeros(nloop+1)\n",
    "Lam[0]=lambda_max\n",
    "\n",
    "for i in range(nloop):\n",
    "    w0,wGuess=myCooDescent(w0,wGuess,y,Xsparse,Lam[i])\n",
    "    totalNonzeros=len(wGuess[abs(wGuess)>10**(-4)])\n",
    "    \n",
    "    correctNonzeros=len(wGuess[abs(wGuess[0:k])>10**(-4)])\n",
    "    recall[i]=correctNonzeros/(k*1.0) \n",
    "    if totalNonzeros==0:\n",
    "        precision[i]=np.inf\n",
    "    else:\n",
    "        precision[i]=correctNonzeros/(totalNonzeros*1.0)\n",
    "    Lam[i+1]=0.7*Lam[i]\n",
    "#     print(w0, wGuess[0:10])\n",
    "    print('recall', recall[i], 'precision',precision[i])"
   ]
  },
  {
   "cell_type": "code",
   "execution_count": 22,
   "metadata": {
    "collapsed": false
   },
   "outputs": [
    {
     "data": {
      "text/plain": [
       "(20,)"
      ]
     },
     "execution_count": 22,
     "metadata": {},
     "output_type": "execute_result"
    },
    {
     "data": {
      "image/png": "[encoded data removed]",
      "text/plain": [
       "<matplotlib.figure.Figure at 0x10718a050>"
      ]
     },
     "metadata": {},
     "output_type": "display_data"
    }
   ],
   "source": [
    "plt.plot(Lam[1:nloop],precision[1:nloop], label=r'precision');\n",
    "plt.plot(Lam[0:nloop],recall, label=r'recall');\n",
    "plt.xlabel('lambda')\n",
    "plt.legend();\n",
    "(Lam[0:nloop-1]).shape\n",
    "precision.shape"
   ]
  },
  {
   "cell_type": "code",
   "execution_count": null,
   "metadata": {
    "collapsed": true
   },
   "outputs": [],
   "source": []
  }
 ],
 "metadata": {
  "kernelspec": {
   "display_name": "Python 2",
   "language": "python",
   "name": "python2"
  },
  "language_info": {
   "codemirror_mode": {
    "name": "ipython",
    "version": 2
   },
   "file_extension": ".py",
   "mimetype": "text/x-python",
   "name": "python",
   "nbconvert_exporter": "python",
   "pygments_lexer": "ipython2",
   "version": "2.7.10"
  }
 },
 "nbformat": 4,
 "nbformat_minor": 0
}
