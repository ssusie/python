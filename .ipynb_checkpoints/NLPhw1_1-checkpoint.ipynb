{
 "cells": [
  {
   "cell_type": "code",
   "execution_count": 1,
   "metadata": {
    "collapsed": true
   },
   "outputs": [],
   "source": [
    "import numpy as np\n",
    "import pdb\n",
    "\n",
    "########## build language model  ############ \n",
    "# load training data\n",
    "with open(\"article.txt\") as f:\n",
    "    words = [word for line in f for word in line.split()]\n",
    "V=len(words)\n",
    "\n",
    "def logProb(x,VocSize, Language):\n",
    "    # x is a three dimensional array\n",
    "    # function computes log_2(p)\n",
    "    # where p is the probability of x[1:3] triple\n",
    "    lam1 = 0.5\n",
    "    lam2 = 0.5\n",
    "    p = lam1 * unigram(x[3],VocSize,Language) + ...\n",
    "        lam2 * bigram(x[3],x[2],VocSize,Language)  \n",
    "    return np.log2(p)\n",
    "\n",
    "def unigram(x,VocSize,Language):\n",
    "    eps = 0.1\n",
    "    return (eps + uni(x, Vocsize, Language)) / (eps * VocSize)\n",
    "def uni(x, VocSize, Language):\n",
    "    count=0\n",
    "    for word in Language:\n",
    "        if word == x:\n",
    "            count += 1    \n",
    "    return count * 1.0 / VocSize\n",
    "\n",
    "def bigram(x,y,VocSize,Language)\n",
    "    delta = 0.1\n",
    "    return (delta + bi(x,VocSize,L)) / (delta * VocSize)\n",
    "def bi(x,v):\n",
    "\n",
    "\n",
    "\n",
    "\n",
    "def output_o(h):\n",
    "    file = open(\"text_output.txt\", \"a\")\n",
    "    file.write(\"# add a character \\n\")\n",
    "#   logProb(h[-2:])\n",
    "    file.close()\n",
    "\n",
    "with open('test_input.txt', 'r') as f:\n",
    "    data = f.readlines()\n",
    "for line in data:\n",
    "    Commands = line.split()\n",
    "    for command in Commands:\n",
    "        history = []\n",
    "        for i in range(len(command)):\n",
    "            \n",
    "            if command[i] == o:\n",
    "                if command[i+1] == :#STOP\n",
    "                    h = []\n",
    "                else:\n",
    "                    history.append(command[i+1])\n",
    "                    output_o(h, words, V)\n",
    "                    \n",
    "            elif command[i] == q:\n",
    "                output(2)\n",
    "                \n",
    "\n"
   ]
  },
  {
   "cell_type": "code",
   "execution_count": 3,
   "metadata": {
    "collapsed": false
   },
   "outputs": [
    {
     "data": {
      "text/plain": [
       "-15.996826528020659"
      ]
     },
     "execution_count": 3,
     "metadata": {},
     "output_type": "execute_result"
    }
   ],
   "source": [
    "import numpy as np\n",
    "np.log2(1.0/65392)\n"
   ]
  },
  {
   "cell_type": "code",
   "execution_count": null,
   "metadata": {
    "collapsed": true
   },
   "outputs": [],
   "source": []
  }
 ],
 "metadata": {
  "kernelspec": {
   "display_name": "Python 2",
   "language": "python",
   "name": "python2"
  },
  "language_info": {
   "codemirror_mode": {
    "name": "ipython",
    "version": 2
   },
   "file_extension": ".py",
   "mimetype": "text/x-python",
   "name": "python",
   "nbconvert_exporter": "python",
   "pygments_lexer": "ipython2",
   "version": "2.7.10"
  }
 },
 "nbformat": 4,
 "nbformat_minor": 0
}
