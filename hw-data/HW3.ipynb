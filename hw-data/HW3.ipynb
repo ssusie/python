{
 "cells": [
  {
   "cell_type": "markdown",
   "metadata": {},
   "source": [
    "# Problem 3"
   ]
  },
  {
   "cell_type": "code",
   "execution_count": 4,
   "metadata": {
    "collapsed": true
   },
   "outputs": [],
   "source": [
    "%matplotlib inline\n",
    "import matplotlib.pyplot as plt\n",
    "import numpy as np\n",
    "import pdb"
   ]
  },
  {
   "cell_type": "code",
   "execution_count": 5,
   "metadata": {
    "collapsed": true
   },
   "outputs": [],
   "source": [
    "def loaddata(fname):\n",
    "    data = np.loadtxt(fname,skiprows=1, delimiter=',')\n",
    "    y = data[:,0]\n",
    "    X = data[:,1:]\n",
    "    nm = np.sqrt(np.sum(X * X, axis=1))\n",
    "    X = X / nm[:,None]\n",
    "    return y, X\n",
    "trainY, trainX = loaddata('validation.csv')\n",
    "testY, testX = loaddata('test.csv')"
   ]
  },
  {
   "cell_type": "code",
   "execution_count": 6,
   "metadata": {
    "collapsed": false
   },
   "outputs": [
    {
     "name": "stdout",
     "output_type": "stream",
     "text": [
      "(1000, 784) (1000,) (1000, 784) (1000,)\n"
     ]
    }
   ],
   "source": [
    "print trainX.shape, trainY.shape, testX.shape, testY.shape\n"
   ]
  },
  {
   "cell_type": "markdown",
   "metadata": {},
   "source": [
    "## 3.2"
   ]
  },
  {
   "cell_type": "markdown",
   "metadata": {},
   "source": [
    "###3.2.1 SDG update rule"
   ]
  },
  {
   "cell_type": "markdown",
   "metadata": {},
   "source": [
    "With point $(x^j, y^j)$ the update rule for w and w0 is the following:\n",
    "\n",
    "\n",
    "if $y^j(w_{old}x^j+w0_{old})<1$\n",
    "\n",
    "$\\quad w0_{new}=w0_{old}- \\eta (-y^j)$\n",
    "\n",
    "$\\quad$ for k=1:length(w)\n",
    "\n",
    "$\\qquad w_{k, new}=w_{k,old}-\\eta \\left(\\displaystyle \\frac{2w_{k,old}}{NC}-y^jx^j_{k}\\right)$\n",
    "\n"
   ]
  },
  {
   "cell_type": "markdown",
   "metadata": {},
   "source": [
    "###3.2.2\n"
   ]
  },
  {
   "cell_type": "code",
   "execution_count": 7,
   "metadata": {
    "collapsed": true
   },
   "outputs": [],
   "source": [
    "def StochGD(w0,w,x,y,eta, coef,N):\n",
    "    # For hinge loss function l((x,y),w,w0)=max(0, 1-y(wx+w0))\n",
    "    # Implement Stochastic Gradient Descent\n",
    "    # using only one data point to update the gradient and therefore w\n",
    "    \n",
    "    if y*(x.dot(w)+w0)<1:# otherwise gradient is 0, so no update\n",
    "        w0=w0+eta*y\n",
    "        w=w-eta*(coef*w-y*x)\n",
    "        \n",
    "    return (w0,w)\n",
    "    "
   ]
  },
  {
   "cell_type": "markdown",
   "metadata": {},
   "source": [
    "###3.2.3"
   ]
  },
  {
   "cell_type": "code",
   "execution_count": 8,
   "metadata": {
    "collapsed": false
   },
   "outputs": [
    {
     "name": "stdout",
     "output_type": "stream",
     "text": [
      "('norm of w', 17.300265865979682)\n"
     ]
    },
    {
     "data": {
      "image/png": "[encoded data removed]",
      "text/plain": [
       "<matplotlib.figure.Figure at 0x1055a2d90>"
      ]
     },
     "metadata": {},
     "output_type": "display_data"
    }
   ],
   "source": [
    "w0=0;\n",
    "N,d=trainX.shape\n",
    "w=np.zeros(d)\n",
    "nloop=50\n",
    "eta=0.1\n",
    "C=1\n",
    "coef=2.0/N/C\n",
    "loss=np.zeros(nloop)\n",
    "zer=np.zeros(N)\n",
    "for i in range(nloop):\n",
    "    for j in range(N):\n",
    "        w0,w=StochGD(w0,w,trainX[j,:],trainY[j],eta,coef,N)\n",
    "    M=1-trainY*(trainX.dot(w)+w0)\n",
    "    sumL=np.sum(np.maximum(M,zer))\n",
    "    loss[i]= 0.5*coef*np.linalg.norm(w, ord=2)**2+sumL*1.0/N  \n",
    "    \n",
    "plt.plot(loss,'ro')    \n",
    "print('norm of w',np.linalg.norm(w, ord=2) )"
   ]
  },
  {
   "cell_type": "markdown",
   "metadata": {},
   "source": [
    "###3.2.4\n"
   ]
  },
  {
   "cell_type": "code",
   "execution_count": 9,
   "metadata": {
    "collapsed": false
   },
   "outputs": [
    {
     "name": "stdout",
     "output_type": "stream",
     "text": [
      "('test', 7.3999999999999995)\n",
      "('train', 3.5000000000000004)\n"
     ]
    }
   ],
   "source": [
    "predictY = np.sign(testX.dot(w)+w0)\n",
    "Yincorrect=predictY+testY\n",
    "mask=Yincorrect==0\n",
    "print('test',sum(mask)*1.0/N*100)\n",
    "predictValidY = np.sign(trainX.dot(w)+w0)\n",
    "Yincorrect=predictValidY+trainY\n",
    "mask=Yincorrect==0\n",
    "print('train',sum(mask)*1.0/N*100)"
   ]
  },
  {
   "cell_type": "markdown",
   "metadata": {},
   "source": [
    "#### a) prediction error on test dataset is 7.4%\n",
    "\n",
    "#### b) prediction error on training set is 3.5%\n",
    "\n",
    "#### c) $||w||=17.3$"
   ]
  },
  {
   "cell_type": "markdown",
   "metadata": {},
   "source": [
    " "
   ]
  },
  {
   "cell_type": "markdown",
   "metadata": {},
   "source": [
    "##3.2.5"
   ]
  },
  {
   "cell_type": "code",
   "execution_count": 10,
   "metadata": {
    "collapsed": false
   },
   "outputs": [
    {
     "name": "stdout",
     "output_type": "stream",
     "text": [
      "('norm of w', 27.359271073497915)\n"
     ]
    },
    {
     "data": {
      "image/png": "[encoded data removed]",
      "text/plain": [
       "<matplotlib.figure.Figure at 0x103bb9950>"
      ]
     },
     "metadata": {},
     "output_type": "display_data"
    }
   ],
   "source": [
    "w0=0;\n",
    "N,d=trainX.shape\n",
    "w=np.zeros(d)\n",
    "nloop=50\n",
    "eta=0.1\n",
    "C=100\n",
    "coef=2.0/N/C\n",
    "loss=np.zeros(nloop)\n",
    "zer=np.zeros(N)\n",
    "for i in range(nloop):\n",
    "    for j in range(N):\n",
    "        w0,w=StochGD(w0,w,trainX[j,:], trainY[j],eta, coef,N)  \n",
    "    M=1-trainY*(trainX.dot(w)+w0)\n",
    "    sumL=np.sum(np.maximum(M,zer))\n",
    "    loss[i]= 0.5*coef*np.linalg.norm(w, ord=2)**2+sumL/N  \n",
    "    \n",
    "plt.plot(loss,'ro')    \n",
    "print('norm of w',np.linalg.norm(w, ord=2) )"
   ]
  },
  {
   "cell_type": "code",
   "execution_count": 11,
   "metadata": {
    "collapsed": false
   },
   "outputs": [
    {
     "name": "stdout",
     "output_type": "stream",
     "text": [
      "('test', 6.2000000000000002)\n",
      "('train', 1.3)\n"
     ]
    }
   ],
   "source": [
    "predictY = np.sign(testX.dot(w)+w0)\n",
    "Yincorrect=predictY+testY\n",
    "mask=Yincorrect==0\n",
    "print('test',sum(mask)*1.0/N*100)\n",
    "predictValidY = np.sign(trainX.dot(w)+w0)\n",
    "Yincorrect=predictValidY+trainY\n",
    "mask=Yincorrect==0\n",
    "print('train',sum(mask)*1.0/N*100)"
   ]
  },
  {
   "cell_type": "markdown",
   "metadata": {
    "collapsed": false
   },
   "source": [
    "#### a) prediction error on test dataset is 6.2%\n",
    "\n",
    "#### b) prediction error on training set is 1.3%\n",
    "\n",
    "#### c) $||w||=27.36$"
   ]
  },
  {
   "cell_type": "markdown",
   "metadata": {
    "collapsed": true
   },
   "source": [
    "## 3.2.6"
   ]
  },
  {
   "cell_type": "markdown",
   "metadata": {},
   "source": [
    "By increasing $C$ we are decreasing the penalty term, so $w$ can have more non-zero elements which can lead to a better classification. As we see when $C=1$, $\\lambda=\\frac{1}{NC}$ is bigger than $\\lambda$ for $C=100$. We get $||w||=17.03$ in the first case and $||w||=27.36$ in the second case which is consistent with what we would expect to happen. \n",
    "\n",
    "Making the $\\lambda$ coefficient big we try to make the components of $w$ be 0  which increases the error, however letting the $\\lambda$ be bigger makes w to have more non-zero elements, so smaller error.\n",
    "\n",
    "Thus, when we increase C, we increase variance and decrease the bias. "
   ]
  },
  {
   "cell_type": "markdown",
   "metadata": {},
   "source": [
    " "
   ]
  },
  {
   "cell_type": "code",
   "execution_count": null,
   "metadata": {
    "collapsed": true
   },
   "outputs": [],
   "source": []
  }
 ],
 "metadata": {
  "kernelspec": {
   "display_name": "Python 2",
   "language": "python",
   "name": "python2"
  },
  "language_info": {
   "codemirror_mode": {
    "name": "ipython",
    "version": 2
   },
   "file_extension": ".py",
   "mimetype": "text/x-python",
   "name": "python",
   "nbconvert_exporter": "python",
   "pygments_lexer": "ipython2",
   "version": "2.7.10"
  }
 },
 "nbformat": 4,
 "nbformat_minor": 0
}
